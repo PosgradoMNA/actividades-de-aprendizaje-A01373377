{
  "nbformat": 4,
  "nbformat_minor": 0,
  "metadata": {
    "colab": {
      "provenance": [],
      "authorship_tag": "ABX9TyPmmJmxuxYUqocdjLyI1YSH",
      "include_colab_link": true
    },
    "kernelspec": {
      "name": "python3",
      "display_name": "Python 3"
    },
    "language_info": {
      "name": "python"
    }
  },
  "cells": [
    {
      "cell_type": "markdown",
      "metadata": {
        "id": "view-in-github",
        "colab_type": "text"
      },
      "source": [
        "<a href=\"https://colab.research.google.com/github/PosgradoMNA/actividades-de-aprendizaje-A01373377/blob/main/A01373377_Actividad6_Visualizacion.ipynb\" target=\"_parent\"><img src=\"https://colab.research.google.com/assets/colab-badge.svg\" alt=\"Open In Colab\"/></a>"
      ]
    },
    {
      "cell_type": "markdown",
      "source": [
        "#Ciencia y analítica de datos\n",
        "***Maestria en Inteligencia Artificial Aplicada***\n",
        "\n",
        "Actividad Semanal 6 Visualizacion de datos\n",
        "\n",
        "**Alumno: **\n",
        "Fernando Ivan Ramos Esparza \n",
        "\n",
        "**Matrícula: **\n",
        "A01373377"
      ],
      "metadata": {
        "id": "Z9BBVeM1aZBd"
      }
    },
    {
      "cell_type": "markdown",
      "source": [
        "1) Descarga los datosEnlaces a un sitio externo. y carga el dataset en tu libreta. Descripción aquí. \n",
        "\n",
        "2) Obten la información del DataFrame con los métodos y propiedades: shape, columns, head(), dtypes, info(), isna()\n",
        "\n",
        "3) Limpia los datos eliminando los registros nulos o rellena con la media de la columna\n",
        "\n",
        "4) Calcula la estadística descriptiva con describe() y explica las medidas de tendencia central y dispersión\n",
        "\n",
        "5) Realiza el conteo de las variables categóricas\n",
        "\n",
        "6) Escala los datos, si consideras necesario\n",
        "\n",
        "7) Reduce las dimensiones con PCA, si consideras necesario.\n",
        "\n",
        "* Indica la varianza de los datos explicada por cada componente seleccionado. Para actividades de exploración de los datos la varianza > 70%\n",
        "\n",
        "* Indica la importancia de las variables en cada componente\n",
        "\n",
        "8) Elabora los histogramas de los atributos para visualizar su distribución\n",
        "\n",
        "9) Realiza la visualización de los datos usando por lo menos 3 gráficos que consideres adecuados: plot, scatter, jointplot, boxplot, areaplot, pie chart, pairplot, bar chart, etc.\n",
        "\n",
        "10) Interpreta y explica cada uno de los gráficos indicando cuál es la información más relevante que podría ayudar en el proceso de toma de decisiones."
      ],
      "metadata": {
        "id": "-J_NuwdlbQDO"
      }
    },
    {
      "cell_type": "code",
      "source": [
        "import pandas as pd\n",
        "import numpy as np\n",
        "from matplotlib import pyplot as plt\n",
        "from sklearn.pipeline import Pipeline\n",
        "from sklearn.preprocessing import MinMaxScaler, minmax_scale\n",
        "from sklearn.impute import SimpleImputer\n",
        "from sklearn.compose import ColumnTransformer\n",
        "from sklearn.decomposition import PCA\n",
        "import seaborn as sns"
      ],
      "metadata": {
        "id": "LN50cUmVab7Z"
      },
      "execution_count": 2,
      "outputs": []
    },
    {
      "cell_type": "markdown",
      "source": [
        "## 1- Descarga los datosEnlaces a un sitio externo. y carga el dataset en tu libreta. Descripción aquí"
      ],
      "metadata": {
        "id": "akNXWBila8vc"
      }
    },
    {
      "cell_type": "code",
      "source": [],
      "metadata": {
        "id": "TM54gA1qbDNG"
      },
      "execution_count": null,
      "outputs": []
    }
  ]
}