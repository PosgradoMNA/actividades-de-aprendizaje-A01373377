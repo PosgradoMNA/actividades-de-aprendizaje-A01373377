{
  "nbformat": 4,
  "nbformat_minor": 0,
  "metadata": {
    "colab": {
      "provenance": [],
      "collapsed_sections": [],
      "include_colab_link": true
    },
    "kernelspec": {
      "name": "python3",
      "display_name": "Python 3"
    },
    "language_info": {
      "name": "python"
    }
  },
  "cells": [
    {
      "cell_type": "markdown",
      "metadata": {
        "id": "view-in-github",
        "colab_type": "text"
      },
      "source": [
        "<a href=\"https://colab.research.google.com/github/PosgradoMNA/actividades-de-aprendizaje-A01373377/blob/main/A01373377_Data_Analysis_with_Python.ipynb\" target=\"_parent\"><img src=\"https://colab.research.google.com/assets/colab-badge.svg\" alt=\"Open In Colab\"/></a>"
      ]
    },
    {
      "cell_type": "markdown",
      "source": [
        "# Módulo 1"
      ],
      "metadata": {
        "id": "tl_6VjMdkK2H"
      }
    },
    {
      "cell_type": "markdown",
      "source": [
        "## Los objetivos de este Módulo 1 son:\n",
        "\n",
        "\n",
        "*   Caso de estudios sobre análisis de precio de vehículos usando Python\n",
        "\n",
        "La data está en todos lados\n",
        "\n",
        "**El Análisis de Datos nos ayuda a responder preguntas sobre la data por medio de:**\n",
        "\n",
        "1) Descubrir información útil\n",
        "\n",
        "2) Con esa información útil resolver las pregunatas del problema\n",
        "\n",
        "3) Predecir el futuro o lo desconocido\n",
        "\n",
        "Importar formatos en csv format es bastante más sencillo\n",
        "\n",
        "**Tipos de librerías:**\n",
        "\n",
        "1) Science Computing Libraries:\n",
        "\n",
        "*  Pandas, Data structures & tools \n",
        "*  NumPy, Arrays & matrices\n",
        "*  SciPy, Integrals, solving differential equations, optimization\n",
        "\n",
        "2) Visualization Librearies\n",
        "\n",
        "*  Matplotlib, plots & graphs, most popular\n",
        "*  Seaborn, plots: heat maps, time series, violin plots\n",
        "\n",
        "3) Algorithmic libraries:\n",
        "\n",
        "*  Scikit-learn, Machine Learning: regression, classification, clustering, etc.\n",
        "*  Statsmodels, Explore data, estimate statistical models, and perform statistical tests.\n"
      ],
      "metadata": {
        "id": "B3vCue0ElQAc"
      }
    },
    {
      "cell_type": "code",
      "execution_count": null,
      "metadata": {
        "id": "84o9K70XkHHi"
      },
      "outputs": [],
      "source": [
        "#importar un csv\n",
        "import pandas as pd\n",
        "url = \"https:\"\n",
        "\n",
        "df = pd.read_csv(url)\n",
        "df = pd.read_csv(url, header = None) #if the data used has no column headers we need to specify\n",
        "\n"
      ]
    },
    {
      "cell_type": "code",
      "source": [
        "#imprimiendo el dataframe\n",
        "df #no se recomienda para dataframes largos\n",
        "df.head(n) #muestras los primeros n renglones del dataframe\n",
        "df.tail(n) #muestras los últimos n renglones del dataframe"
      ],
      "metadata": {
        "id": "pmeS2RZc0Ynp"
      },
      "execution_count": null,
      "outputs": []
    },
    {
      "cell_type": "code",
      "source": [
        "#para poder headears primero hacemos una lista con los nombres de los headers\n",
        "df.columns = nombre de la lista"
      ],
      "metadata": {
        "id": "t_GSQ3xv05KG"
      },
      "execution_count": null,
      "outputs": []
    },
    {
      "cell_type": "code",
      "source": [
        "#para guardar los cambios realizados a los dataframes\n",
        "path = \"ruta en tu pc\"\n",
        "df.to_csv(path)"
      ],
      "metadata": {
        "id": "3AJ7bpZG1OUv"
      },
      "execution_count": null,
      "outputs": []
    },
    {
      "cell_type": "code",
      "source": [
        "#saber el tipo de valores del df\n",
        "df.types"
      ],
      "metadata": {
        "id": "n6JNgLmSMh9l"
      },
      "execution_count": null,
      "outputs": []
    },
    {
      "cell_type": "code",
      "source": [
        "# regresa el resumen estadístico, desviaciones estandar., promedio, número de valores\n",
        "df.describe()\n",
        "df.describe(include=\"all\") #nos incluye los datos de todas las columnas"
      ],
      "metadata": {
        "id": "4udKrzR0MokE"
      },
      "execution_count": null,
      "outputs": []
    },
    {
      "cell_type": "markdown",
      "source": [
        "## Lab"
      ],
      "metadata": {
        "id": "-vPgkj4WPpzi"
      }
    },
    {
      "cell_type": "markdown",
      "source": [
        "### Data Adquisition\n",
        "\n",
        "There are various formats for a dataset: .csv, .json, .xlsx etc. The dataset can be stored in different places, on your local machine or sometimes online.\n",
        "In this section, you will learn how to load a dataset into our Jupyter Notebook.\n",
        "\n",
        "In our case, the Automobile Dataset is an online source, and it is in a CSV (comma separated value) format. Let's use this dataset as an example to practice data reading.\n",
        "\n",
        "Data source: https://archive.ics.uci.edu/ml/machine-learning-databases/autos/imports-85.data\n",
        "Data type: csv\n",
        "The Pandas Library is a useful tool that enables us to read various datasets into a dataframe; our Jupyter notebook platforms have a built-in Pandas Library so that all we need to do is import Pandas without installing.\n",
        "you are running the lab in your browser, so we will install the libraries using piplite"
      ],
      "metadata": {
        "id": "uk5irlSYQ4n7"
      }
    },
    {
      "cell_type": "code",
      "source": [
        "#DATA ADQUISITION\n",
        "\n",
        "#you are running the lab in your  browser, so we will install the libraries using ``piplite``\n",
        "import piplite\n",
        "import micropip\n",
        "await piplite.install(['pandas'])\n",
        "await piplite.install(['matplotlib'])\n",
        "await piplite.install(['scipy'])\n",
        "await piplite.install(['seaborn'])\n",
        "await micropip.install(['ipywidgets'],keep_going=True)\n",
        "await micropip.install(['tqdm'],keep_going=True)"
      ],
      "metadata": {
        "id": "LuGfF_6XM9Lc"
      },
      "execution_count": null,
      "outputs": []
    },
    {
      "cell_type": "code",
      "source": [
        "#install specific version of libraries used in  lab\n",
        "#! mamba install pandas==1.3.3  -y\n",
        "#! mamba install numpy=1.21.2 -y"
      ],
      "metadata": {
        "id": "uyPUe150Qbvl"
      },
      "execution_count": null,
      "outputs": []
    },
    {
      "cell_type": "code",
      "source": [
        "# import pandas library\n",
        "import pandas as pd\n",
        "import numpy as np"
      ],
      "metadata": {
        "id": "Dsg_iGOiQ1P_"
      },
      "execution_count": null,
      "outputs": []
    },
    {
      "cell_type": "code",
      "source": [
        "#This function will download the dataset into your browser \n",
        "\n",
        "from pyodide.http import pyfetch\n",
        "\n",
        "async def download(url, filename):\n",
        "    response = await pyfetch(url)\n",
        "    if response.status == 200:\n",
        "        with open(filename, \"wb\") as f:\n",
        "            f.write(await response.bytes())"
      ],
      "metadata": {
        "id": "u7am0wJaQ3eb"
      },
      "execution_count": null,
      "outputs": []
    },
    {
      "cell_type": "markdown",
      "source": [
        "### Read Data\n",
        "\n",
        "There are various formats for a dataset: .csv, .json, .xlsx etc. The dataset can be stored in different places, on your local machine or sometimes online.\n",
        "In this section, you will learn how to load a dataset into our Jupyter Notebook.\n",
        "\n",
        "In our case, the Automobile Dataset is an online source, and it is in a CSV (comma separated value) format. Let's use this dataset as an example to practice data reading.\n",
        "\n",
        "Data source: https://archive.ics.uci.edu/ml/machine-learning-databases/autos/imports-85.data\n",
        "Data type: csv\n",
        "The Pandas Library is a useful tool that enables us to read various datasets into a dataframe; our Jupyter notebook platforms have a built-in Pandas Library so that all we need to do is import Pandas without installing.\n",
        "you are running the lab in your browser, so we will install the libraries using piplite"
      ],
      "metadata": {
        "id": "G4FxgmcTQ9Ll"
      }
    },
    {
      "cell_type": "code",
      "source": [
        "path = \"https://cf-courses-data.s3.us.cloud-object-storage.appdomain.cloud/IBMDeveloperSkillsNetwork-DA0101EN-SkillsNetwork/labs/Data%20files/auto.csv\""
      ],
      "metadata": {
        "id": "bV09nds0RbZx"
      },
      "execution_count": null,
      "outputs": []
    },
    {
      "cell_type": "code",
      "source": [
        "#you will need to download the dataset; if you are running locally, please comment out the following \n",
        "await download(path, \"auto.csv\")\n",
        "path=\"auto.csv\""
      ],
      "metadata": {
        "id": "9gFba-AkRjoW"
      },
      "execution_count": null,
      "outputs": []
    },
    {
      "cell_type": "code",
      "source": [
        "# Import pandas library\n",
        "import pandas as pd\n",
        "\n",
        "# Read the online file by the URL provides above, and assign it to variable \"df\"\n",
        "\n",
        "df = pd.read_csv(path, header=None)"
      ],
      "metadata": {
        "id": "eFGmTd0uRlFf"
      },
      "execution_count": null,
      "outputs": []
    },
    {
      "cell_type": "code",
      "source": [
        "# show the first 5 rows using dataframe.head() method\n",
        "print(\"The first 5 rows of the dataframe\") \n",
        "df.head(5)"
      ],
      "metadata": {
        "id": "SzDFsMQ-Rm0c"
      },
      "execution_count": null,
      "outputs": []
    },
    {
      "cell_type": "code",
      "source": [
        "#Question 1\n",
        "#Check the bottom 10 rows of data frame \"df\".\n",
        "df.tail(10)"
      ],
      "metadata": {
        "id": "J68POTV3Sv8c"
      },
      "execution_count": null,
      "outputs": []
    },
    {
      "cell_type": "markdown",
      "source": [
        "### Add Headers\n",
        "Take a look at our dataset. Pandas automatically set the header with an integer starting from 0.\n",
        "\n",
        "To better describe our data, we can introduce a header. This information is available at: https://archive.ics.uci.edu/ml/datasets/Automobile.\n",
        "\n",
        "Thus, we have to add headers manually.\n",
        "\n",
        "First, we create a list \"headers\" that include all column names in order. Then, we use dataframe.columns = headers to replace the headers with the list we created."
      ],
      "metadata": {
        "id": "GUcVn1ZbRpyt"
      }
    },
    {
      "cell_type": "code",
      "source": [
        "# create headers list\n",
        "headers = [\"symboling\",\"normalized-losses\",\"make\",\"fuel-type\",\"aspiration\", \"num-of-doors\",\"body-style\",\n",
        "         \"drive-wheels\",\"engine-location\",\"wheel-base\", \"length\",\"width\",\"height\",\"curb-weight\",\"engine-type\",\n",
        "         \"num-of-cylinders\", \"engine-size\",\"fuel-system\",\"bore\",\"stroke\",\"compression-ratio\",\"horsepower\",\n",
        "         \"peak-rpm\",\"city-mpg\",\"highway-mpg\",\"price\"]\n",
        "print(\"headers\\n\", headers)"
      ],
      "metadata": {
        "id": "-SQr5poYSKCi"
      },
      "execution_count": null,
      "outputs": []
    },
    {
      "cell_type": "code",
      "source": [
        "df.columns = headers\n",
        "df.head(10)"
      ],
      "metadata": {
        "id": "r4HbBliaSesH"
      },
      "execution_count": null,
      "outputs": []
    },
    {
      "cell_type": "code",
      "source": [
        "df1=df.replace('?',np.NaN)\n"
      ],
      "metadata": {
        "id": "p1SqJWgrSg3S"
      },
      "execution_count": null,
      "outputs": []
    },
    {
      "cell_type": "code",
      "source": [
        "df=df1.dropna(subset=[\"price\"], axis=0)\n",
        "df.head(20)"
      ],
      "metadata": {
        "id": "jkJpbjJBShZu"
      },
      "execution_count": null,
      "outputs": []
    },
    {
      "cell_type": "code",
      "source": [
        "# Question 2\n",
        "# Find the name of the columns of the dataframe.\n",
        "print(df.columns)"
      ],
      "metadata": {
        "id": "qVSP2P6RSqUd"
      },
      "execution_count": null,
      "outputs": []
    },
    {
      "cell_type": "markdown",
      "source": [
        "### Save Dataset\n",
        "Correspondingly, Pandas enables us to save the dataset to csv. By using the dataframe.to_csv() method, you can add the file path and name along with quotation marks in the brackets.\n",
        "\n",
        "For example, if you would save the dataframe df as automobile.csv to your local machine, you may use the syntax below, where index = False means the row names will not be written."
      ],
      "metadata": {
        "id": "QiQg16vuS7NO"
      }
    },
    {
      "cell_type": "code",
      "source": [
        "df.to_csv(\"automobile.csv\", index=False)"
      ],
      "metadata": {
        "id": "KZXxE7UOTBr1"
      },
      "execution_count": null,
      "outputs": []
    },
    {
      "cell_type": "markdown",
      "source": [
        "### Basic Insight of Dataset\n",
        "\n",
        "After reading data into Pandas dataframe, it is time for us to explore the dataset.\n",
        "There are several ways to obtain essential insights of the data to help us better understand our dataset.\n",
        "\n",
        "**Data Types**\n",
        "\n",
        "Data has a variety of types.\n",
        "The main types stored in Pandas dataframes are object, float, int, bool and datetime64. In order to better learn about each attribute, it is always good for us to know the data type of each column. In Pandas:"
      ],
      "metadata": {
        "id": "NJRnH3F9TSf0"
      }
    },
    {
      "cell_type": "code",
      "source": [
        "df.dtypes"
      ],
      "metadata": {
        "id": "qReSGYJCTZZc"
      },
      "execution_count": null,
      "outputs": []
    },
    {
      "cell_type": "code",
      "source": [
        "# check the data type of data frame \"df\" by .dtypes\n",
        "print(df.dtypes)"
      ],
      "metadata": {
        "id": "SFMlllfNTbCj"
      },
      "execution_count": null,
      "outputs": []
    },
    {
      "cell_type": "markdown",
      "source": [
        "**Describe**"
      ],
      "metadata": {
        "id": "O5-s6yZ1Touv"
      }
    },
    {
      "cell_type": "code",
      "source": [
        "dataframe.describe()"
      ],
      "metadata": {
        "id": "a5mcciFITlbR"
      },
      "execution_count": null,
      "outputs": []
    },
    {
      "cell_type": "code",
      "source": [
        "df.describe()"
      ],
      "metadata": {
        "id": "HD3aYwLZTnjq"
      },
      "execution_count": null,
      "outputs": []
    },
    {
      "cell_type": "code",
      "source": [
        "# describe all the columns in \"df\" \n",
        "df.describe(include = \"all\")"
      ],
      "metadata": {
        "id": "gJjJ4IbGTvST"
      },
      "execution_count": null,
      "outputs": []
    },
    {
      "cell_type": "markdown",
      "source": [
        "### Info"
      ],
      "metadata": {
        "id": "QxTizvC6Tygz"
      }
    },
    {
      "cell_type": "code",
      "source": [
        "dataframe.info()"
      ],
      "metadata": {
        "id": "7M9Sn3PrTz__"
      },
      "execution_count": null,
      "outputs": []
    },
    {
      "cell_type": "code",
      "source": [
        "# look at the info of \"df\"\n",
        "df.info()"
      ],
      "metadata": {
        "id": "3AhPusVGT1Xu"
      },
      "execution_count": null,
      "outputs": []
    },
    {
      "cell_type": "markdown",
      "source": [
        "## Graded Review Questions"
      ],
      "metadata": {
        "id": "zZEDT4ZOUcV9"
      }
    },
    {
      "cell_type": "markdown",
      "source": [
        "Question 1\n",
        "\n",
        "1 point possible (graded)\n",
        "\n",
        "What does CSV stand for?\n",
        "\n",
        "\n",
        "Comma-separated values"
      ],
      "metadata": {
        "id": "6w7nYZotVr7n"
      }
    },
    {
      "cell_type": "markdown",
      "source": [
        "Question 2\n",
        "\n",
        "1 point possible (graded)\n",
        "\n",
        "In the data set, which of the following represents an attribute or feature?\n",
        "\n",
        "Column"
      ],
      "metadata": {
        "id": "YgP0iHChV1uJ"
      }
    },
    {
      "cell_type": "markdown",
      "source": [
        "Question 3\n",
        "\n",
        "1/1 point (graded)\n",
        "\n",
        "What is the name of what we want to predict?\n",
        "\n",
        "Target"
      ],
      "metadata": {
        "id": "bMXkKe5GV4dV"
      }
    },
    {
      "cell_type": "markdown",
      "source": [
        "Question 4\n",
        "\n",
        "1 point possible (graded)\n",
        "\n",
        "What is the command to display the first five rows of a dataframe df?\n",
        "\n",
        "df.head()"
      ],
      "metadata": {
        "id": "5LMHgcv2WFvq"
      }
    },
    {
      "cell_type": "markdown",
      "source": [
        "Question 5\n",
        "\n",
        "1 point possible (graded)\n",
        "\n",
        "What command do you use to get the data type of each row of the dataframe df?\n",
        "\n",
        "df.dtypes"
      ],
      "metadata": {
        "id": "cS0-LIDOWM_M"
      }
    },
    {
      "cell_type": "markdown",
      "source": [
        "Question 6\n",
        "\n",
        "1 point possible (graded)\n",
        "\n",
        "How do you get a statistical summary of a dataframe df?\n",
        "\n",
        "df.describe()"
      ],
      "metadata": {
        "id": "pT1g1_adW1Rd"
      }
    },
    {
      "cell_type": "markdown",
      "source": [
        "Question 7\n",
        "\n",
        "1 point possible (graded)\n",
        "\n",
        "If you use the method describe() without changing any of the arguments, you will get a statistical summary of all the columns of type \"object\".\n",
        "\n",
        "False"
      ],
      "metadata": {
        "id": "-_Tim-dFW6rO"
      }
    }
  ]
}