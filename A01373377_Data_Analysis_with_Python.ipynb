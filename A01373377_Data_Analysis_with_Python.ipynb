{
  "nbformat": 4,
  "nbformat_minor": 0,
  "metadata": {
    "colab": {
      "provenance": [],
      "collapsed_sections": [],
      "include_colab_link": true
    },
    "kernelspec": {
      "name": "python3",
      "display_name": "Python 3"
    },
    "language_info": {
      "name": "python"
    }
  },
  "cells": [
    {
      "cell_type": "markdown",
      "metadata": {
        "id": "view-in-github",
        "colab_type": "text"
      },
      "source": [
        "<a href=\"https://colab.research.google.com/github/PosgradoMNA/actividades-de-aprendizaje-A01373377/blob/main/A01373377_Data_Analysis_with_Python.ipynb\" target=\"_parent\"><img src=\"https://colab.research.google.com/assets/colab-badge.svg\" alt=\"Open In Colab\"/></a>"
      ]
    },
    {
      "cell_type": "markdown",
      "source": [
        "# Fernando Ivan Ramos Esparza \n",
        "# A01373377\n"
      ],
      "metadata": {
        "id": "2VLoXrPdzVlC"
      }
    },
    {
      "cell_type": "markdown",
      "source": [
        "# Módulo 1"
      ],
      "metadata": {
        "id": "tl_6VjMdkK2H"
      }
    },
    {
      "cell_type": "markdown",
      "source": [
        "## Los objetivos de este Módulo 1 son:\n",
        "\n",
        "\n",
        "*   Caso de estudios sobre análisis de precio de vehículos usando Python\n",
        "\n",
        "La data está en todos lados\n",
        "\n",
        "**El Análisis de Datos nos ayuda a responder preguntas sobre la data por medio de:**\n",
        "\n",
        "1) Descubrir información útil\n",
        "\n",
        "2) Con esa información útil resolver las pregunatas del problema\n",
        "\n",
        "3) Predecir el futuro o lo desconocido\n",
        "\n",
        "Importar formatos en csv format es bastante más sencillo\n",
        "\n",
        "**Tipos de librerías:**\n",
        "\n",
        "1) Science Computing Libraries:\n",
        "\n",
        "*  Pandas, Data structures & tools \n",
        "*  NumPy, Arrays & matrices\n",
        "*  SciPy, Integrals, solving differential equations, optimization\n",
        "\n",
        "2) Visualization Librearies\n",
        "\n",
        "*  Matplotlib, plots & graphs, most popular\n",
        "*  Seaborn, plots: heat maps, time series, violin plots\n",
        "\n",
        "3) Algorithmic libraries:\n",
        "\n",
        "*  Scikit-learn, Machine Learning: regression, classification, clustering, etc.\n",
        "*  Statsmodels, Explore data, estimate statistical models, and perform statistical tests.\n"
      ],
      "metadata": {
        "id": "B3vCue0ElQAc"
      }
    },
    {
      "cell_type": "code",
      "execution_count": null,
      "metadata": {
        "id": "84o9K70XkHHi"
      },
      "outputs": [],
      "source": [
        "#importar un csv\n",
        "import pandas as pd\n",
        "url = \"https:\"\n",
        "\n",
        "df = pd.read_csv(url)\n",
        "df = pd.read_csv(url, header = None) #if the data used has no column headers we need to specify\n",
        "\n"
      ]
    },
    {
      "cell_type": "code",
      "source": [
        "#imprimiendo el dataframe\n",
        "df #no se recomienda para dataframes largos\n",
        "df.head(n) #muestras los primeros n renglones del dataframe\n",
        "df.tail(n) #muestras los últimos n renglones del dataframe"
      ],
      "metadata": {
        "id": "pmeS2RZc0Ynp"
      },
      "execution_count": null,
      "outputs": []
    },
    {
      "cell_type": "code",
      "source": [
        "#para poder headears primero hacemos una lista con los nombres de los headers\n",
        "df.columns = nombre de la lista"
      ],
      "metadata": {
        "id": "t_GSQ3xv05KG"
      },
      "execution_count": null,
      "outputs": []
    },
    {
      "cell_type": "code",
      "source": [
        "#para guardar los cambios realizados a los dataframes\n",
        "path = \"ruta en tu pc\"\n",
        "df.to_csv(path)"
      ],
      "metadata": {
        "id": "3AJ7bpZG1OUv"
      },
      "execution_count": null,
      "outputs": []
    },
    {
      "cell_type": "code",
      "source": [
        "#saber el tipo de valores del df\n",
        "df.types"
      ],
      "metadata": {
        "id": "n6JNgLmSMh9l"
      },
      "execution_count": null,
      "outputs": []
    },
    {
      "cell_type": "code",
      "source": [
        "# regresa el resumen estadístico, desviaciones estandar., promedio, número de valores\n",
        "df.describe()\n",
        "df.describe(include=\"all\") #nos incluye los datos de todas las columnas"
      ],
      "metadata": {
        "id": "4udKrzR0MokE"
      },
      "execution_count": null,
      "outputs": []
    },
    {
      "cell_type": "markdown",
      "source": [
        "## Lab"
      ],
      "metadata": {
        "id": "-vPgkj4WPpzi"
      }
    },
    {
      "cell_type": "markdown",
      "source": [
        "### Data Adquisition\n",
        "\n",
        "There are various formats for a dataset: .csv, .json, .xlsx etc. The dataset can be stored in different places, on your local machine or sometimes online.\n",
        "In this section, you will learn how to load a dataset into our Jupyter Notebook.\n",
        "\n",
        "In our case, the Automobile Dataset is an online source, and it is in a CSV (comma separated value) format. Let's use this dataset as an example to practice data reading.\n",
        "\n",
        "Data source: https://archive.ics.uci.edu/ml/machine-learning-databases/autos/imports-85.data\n",
        "Data type: csv\n",
        "The Pandas Library is a useful tool that enables us to read various datasets into a dataframe; our Jupyter notebook platforms have a built-in Pandas Library so that all we need to do is import Pandas without installing.\n",
        "you are running the lab in your browser, so we will install the libraries using piplite"
      ],
      "metadata": {
        "id": "uk5irlSYQ4n7"
      }
    },
    {
      "cell_type": "code",
      "source": [
        "#DATA ADQUISITION\n",
        "\n",
        "#you are running the lab in your  browser, so we will install the libraries using ``piplite``\n",
        "import piplite\n",
        "import micropip\n",
        "await piplite.install(['pandas'])\n",
        "await piplite.install(['matplotlib'])\n",
        "await piplite.install(['scipy'])\n",
        "await piplite.install(['seaborn'])\n",
        "await micropip.install(['ipywidgets'],keep_going=True)\n",
        "await micropip.install(['tqdm'],keep_going=True)"
      ],
      "metadata": {
        "id": "LuGfF_6XM9Lc"
      },
      "execution_count": null,
      "outputs": []
    },
    {
      "cell_type": "code",
      "source": [
        "#install specific version of libraries used in  lab\n",
        "#! mamba install pandas==1.3.3  -y\n",
        "#! mamba install numpy=1.21.2 -y"
      ],
      "metadata": {
        "id": "uyPUe150Qbvl"
      },
      "execution_count": null,
      "outputs": []
    },
    {
      "cell_type": "code",
      "source": [
        "# import pandas library\n",
        "import pandas as pd\n",
        "import numpy as np"
      ],
      "metadata": {
        "id": "Dsg_iGOiQ1P_"
      },
      "execution_count": null,
      "outputs": []
    },
    {
      "cell_type": "code",
      "source": [
        "#This function will download the dataset into your browser \n",
        "\n",
        "from pyodide.http import pyfetch\n",
        "\n",
        "async def download(url, filename):\n",
        "    response = await pyfetch(url)\n",
        "    if response.status == 200:\n",
        "        with open(filename, \"wb\") as f:\n",
        "            f.write(await response.bytes())"
      ],
      "metadata": {
        "id": "u7am0wJaQ3eb"
      },
      "execution_count": null,
      "outputs": []
    },
    {
      "cell_type": "markdown",
      "source": [
        "### Read Data\n",
        "\n",
        "There are various formats for a dataset: .csv, .json, .xlsx etc. The dataset can be stored in different places, on your local machine or sometimes online.\n",
        "In this section, you will learn how to load a dataset into our Jupyter Notebook.\n",
        "\n",
        "In our case, the Automobile Dataset is an online source, and it is in a CSV (comma separated value) format. Let's use this dataset as an example to practice data reading.\n",
        "\n",
        "Data source: https://archive.ics.uci.edu/ml/machine-learning-databases/autos/imports-85.data\n",
        "Data type: csv\n",
        "The Pandas Library is a useful tool that enables us to read various datasets into a dataframe; our Jupyter notebook platforms have a built-in Pandas Library so that all we need to do is import Pandas without installing.\n",
        "you are running the lab in your browser, so we will install the libraries using piplite"
      ],
      "metadata": {
        "id": "G4FxgmcTQ9Ll"
      }
    },
    {
      "cell_type": "code",
      "source": [
        "path = \"https://cf-courses-data.s3.us.cloud-object-storage.appdomain.cloud/IBMDeveloperSkillsNetwork-DA0101EN-SkillsNetwork/labs/Data%20files/auto.csv\""
      ],
      "metadata": {
        "id": "bV09nds0RbZx"
      },
      "execution_count": null,
      "outputs": []
    },
    {
      "cell_type": "code",
      "source": [
        "#you will need to download the dataset; if you are running locally, please comment out the following \n",
        "await download(path, \"auto.csv\")\n",
        "path=\"auto.csv\""
      ],
      "metadata": {
        "id": "9gFba-AkRjoW"
      },
      "execution_count": null,
      "outputs": []
    },
    {
      "cell_type": "code",
      "source": [
        "# Import pandas library\n",
        "import pandas as pd\n",
        "\n",
        "# Read the online file by the URL provides above, and assign it to variable \"df\"\n",
        "\n",
        "df = pd.read_csv(path, header=None)"
      ],
      "metadata": {
        "id": "eFGmTd0uRlFf"
      },
      "execution_count": null,
      "outputs": []
    },
    {
      "cell_type": "code",
      "source": [
        "# show the first 5 rows using dataframe.head() method\n",
        "print(\"The first 5 rows of the dataframe\") \n",
        "df.head(5)"
      ],
      "metadata": {
        "id": "SzDFsMQ-Rm0c"
      },
      "execution_count": null,
      "outputs": []
    },
    {
      "cell_type": "code",
      "source": [
        "#Question 1\n",
        "#Check the bottom 10 rows of data frame \"df\".\n",
        "df.tail(10)"
      ],
      "metadata": {
        "id": "J68POTV3Sv8c"
      },
      "execution_count": null,
      "outputs": []
    },
    {
      "cell_type": "markdown",
      "source": [
        "### Add Headers\n",
        "Take a look at our dataset. Pandas automatically set the header with an integer starting from 0.\n",
        "\n",
        "To better describe our data, we can introduce a header. This information is available at: https://archive.ics.uci.edu/ml/datasets/Automobile.\n",
        "\n",
        "Thus, we have to add headers manually.\n",
        "\n",
        "First, we create a list \"headers\" that include all column names in order. Then, we use dataframe.columns = headers to replace the headers with the list we created."
      ],
      "metadata": {
        "id": "GUcVn1ZbRpyt"
      }
    },
    {
      "cell_type": "code",
      "source": [
        "# create headers list\n",
        "headers = [\"symboling\",\"normalized-losses\",\"make\",\"fuel-type\",\"aspiration\", \"num-of-doors\",\"body-style\",\n",
        "         \"drive-wheels\",\"engine-location\",\"wheel-base\", \"length\",\"width\",\"height\",\"curb-weight\",\"engine-type\",\n",
        "         \"num-of-cylinders\", \"engine-size\",\"fuel-system\",\"bore\",\"stroke\",\"compression-ratio\",\"horsepower\",\n",
        "         \"peak-rpm\",\"city-mpg\",\"highway-mpg\",\"price\"]\n",
        "print(\"headers\\n\", headers)"
      ],
      "metadata": {
        "id": "-SQr5poYSKCi"
      },
      "execution_count": null,
      "outputs": []
    },
    {
      "cell_type": "code",
      "source": [
        "df.columns = headers\n",
        "df.head(10)"
      ],
      "metadata": {
        "id": "r4HbBliaSesH"
      },
      "execution_count": null,
      "outputs": []
    },
    {
      "cell_type": "code",
      "source": [
        "df1=df.replace('?',np.NaN)\n"
      ],
      "metadata": {
        "id": "p1SqJWgrSg3S"
      },
      "execution_count": null,
      "outputs": []
    },
    {
      "cell_type": "code",
      "source": [
        "df=df1.dropna(subset=[\"price\"], axis=0)\n",
        "df.head(20)"
      ],
      "metadata": {
        "id": "jkJpbjJBShZu"
      },
      "execution_count": null,
      "outputs": []
    },
    {
      "cell_type": "code",
      "source": [
        "# Question 2\n",
        "# Find the name of the columns of the dataframe.\n",
        "print(df.columns)"
      ],
      "metadata": {
        "id": "qVSP2P6RSqUd"
      },
      "execution_count": null,
      "outputs": []
    },
    {
      "cell_type": "markdown",
      "source": [
        "### Save Dataset\n",
        "Correspondingly, Pandas enables us to save the dataset to csv. By using the dataframe.to_csv() method, you can add the file path and name along with quotation marks in the brackets.\n",
        "\n",
        "For example, if you would save the dataframe df as automobile.csv to your local machine, you may use the syntax below, where index = False means the row names will not be written."
      ],
      "metadata": {
        "id": "QiQg16vuS7NO"
      }
    },
    {
      "cell_type": "code",
      "source": [
        "df.to_csv(\"automobile.csv\", index=False)"
      ],
      "metadata": {
        "id": "KZXxE7UOTBr1"
      },
      "execution_count": null,
      "outputs": []
    },
    {
      "cell_type": "markdown",
      "source": [
        "### Basic Insight of Dataset\n",
        "\n",
        "After reading data into Pandas dataframe, it is time for us to explore the dataset.\n",
        "There are several ways to obtain essential insights of the data to help us better understand our dataset.\n",
        "\n",
        "**Data Types**\n",
        "\n",
        "Data has a variety of types.\n",
        "The main types stored in Pandas dataframes are object, float, int, bool and datetime64. In order to better learn about each attribute, it is always good for us to know the data type of each column. In Pandas:"
      ],
      "metadata": {
        "id": "NJRnH3F9TSf0"
      }
    },
    {
      "cell_type": "code",
      "source": [
        "df.dtypes"
      ],
      "metadata": {
        "id": "qReSGYJCTZZc"
      },
      "execution_count": null,
      "outputs": []
    },
    {
      "cell_type": "code",
      "source": [
        "# check the data type of data frame \"df\" by .dtypes\n",
        "print(df.dtypes)"
      ],
      "metadata": {
        "id": "SFMlllfNTbCj"
      },
      "execution_count": null,
      "outputs": []
    },
    {
      "cell_type": "markdown",
      "source": [
        "**Describe**"
      ],
      "metadata": {
        "id": "O5-s6yZ1Touv"
      }
    },
    {
      "cell_type": "code",
      "source": [
        "dataframe.describe()"
      ],
      "metadata": {
        "id": "a5mcciFITlbR"
      },
      "execution_count": null,
      "outputs": []
    },
    {
      "cell_type": "code",
      "source": [
        "df.describe()"
      ],
      "metadata": {
        "id": "HD3aYwLZTnjq"
      },
      "execution_count": null,
      "outputs": []
    },
    {
      "cell_type": "code",
      "source": [
        "# describe all the columns in \"df\" \n",
        "df.describe(include = \"all\")"
      ],
      "metadata": {
        "id": "gJjJ4IbGTvST"
      },
      "execution_count": null,
      "outputs": []
    },
    {
      "cell_type": "markdown",
      "source": [
        "### Info"
      ],
      "metadata": {
        "id": "QxTizvC6Tygz"
      }
    },
    {
      "cell_type": "code",
      "source": [
        "dataframe.info()"
      ],
      "metadata": {
        "id": "7M9Sn3PrTz__"
      },
      "execution_count": null,
      "outputs": []
    },
    {
      "cell_type": "code",
      "source": [
        "# look at the info of \"df\"\n",
        "df.info()"
      ],
      "metadata": {
        "id": "3AhPusVGT1Xu"
      },
      "execution_count": null,
      "outputs": []
    },
    {
      "cell_type": "markdown",
      "source": [
        "## Graded Review Questions"
      ],
      "metadata": {
        "id": "zZEDT4ZOUcV9"
      }
    },
    {
      "cell_type": "markdown",
      "source": [
        "Question 1\n",
        "\n",
        "1 point possible (graded)\n",
        "\n",
        "What does CSV stand for?\n",
        "\n",
        "\n",
        "Comma-separated values"
      ],
      "metadata": {
        "id": "6w7nYZotVr7n"
      }
    },
    {
      "cell_type": "markdown",
      "source": [
        "Question 2\n",
        "\n",
        "1 point possible (graded)\n",
        "\n",
        "In the data set, which of the following represents an attribute or feature?\n",
        "\n",
        "Column"
      ],
      "metadata": {
        "id": "YgP0iHChV1uJ"
      }
    },
    {
      "cell_type": "markdown",
      "source": [
        "Question 3\n",
        "\n",
        "1/1 point (graded)\n",
        "\n",
        "What is the name of what we want to predict?\n",
        "\n",
        "Target"
      ],
      "metadata": {
        "id": "bMXkKe5GV4dV"
      }
    },
    {
      "cell_type": "markdown",
      "source": [
        "Question 4\n",
        "\n",
        "1 point possible (graded)\n",
        "\n",
        "What is the command to display the first five rows of a dataframe df?\n",
        "\n",
        "df.head()"
      ],
      "metadata": {
        "id": "5LMHgcv2WFvq"
      }
    },
    {
      "cell_type": "markdown",
      "source": [
        "Question 5\n",
        "\n",
        "1 point possible (graded)\n",
        "\n",
        "What command do you use to get the data type of each row of the dataframe df?\n",
        "\n",
        "df.dtypes"
      ],
      "metadata": {
        "id": "cS0-LIDOWM_M"
      }
    },
    {
      "cell_type": "markdown",
      "source": [
        "Question 6\n",
        "\n",
        "1 point possible (graded)\n",
        "\n",
        "How do you get a statistical summary of a dataframe df?\n",
        "\n",
        "df.describe()"
      ],
      "metadata": {
        "id": "pT1g1_adW1Rd"
      }
    },
    {
      "cell_type": "markdown",
      "source": [
        "Question 7\n",
        "\n",
        "1 point possible (graded)\n",
        "\n",
        "If you use the method describe() without changing any of the arguments, you will get a statistical summary of all the columns of type \"object\".\n",
        "\n",
        "False"
      ],
      "metadata": {
        "id": "-_Tim-dFW6rO"
      }
    },
    {
      "cell_type": "markdown",
      "source": [
        "# Módulo 2"
      ],
      "metadata": {
        "id": "_OQO9NsCulLb"
      }
    },
    {
      "cell_type": "markdown",
      "source": [
        "Fernando Ivan Ramos Esparza "
      ],
      "metadata": {
        "id": "MdrRj5M6y63S"
      }
    },
    {
      "cell_type": "markdown",
      "source": [
        "Los objetivos de aprendizaje de este módulo son:\n",
        "\n",
        "*  Identificación y manejo de datos perdidos \n",
        "*  Formateo de datos\n",
        "*  Normalización de los datos, técnicas de centering y scaling\n",
        "*  Agrupamiento de datos\n",
        "*  Transformar valores categóricos en variables numéricas\n",
        "\n"
      ],
      "metadata": {
        "id": "JBw-tYTVvd6o"
      }
    },
    {
      "cell_type": "markdown",
      "source": [
        "## Lab"
      ],
      "metadata": {
        "id": "6OO3bHqvBpwR"
      }
    },
    {
      "cell_type": "markdown",
      "source": [
        "What is the purpose of data wrangling?\n",
        "Data wrangling is the process of converting data from the initial format to a format that may be better for analysis.\n",
        "\n",
        "What is the fuel consumption (L/100k) rate for the diesel car?\n",
        "Import data\n",
        "You can find the \"Automobile Dataset\" from the following link: https://archive.ics.uci.edu/ml/machine-learning-databases/autos/imports-85.data. We will be using this dataset throughout this course.\n",
        "\n",
        "Import pandas\n",
        "you are running the lab in your browser, so we will install the libraries using piplite"
      ],
      "metadata": {
        "id": "2FaWV1E9BsVo"
      }
    },
    {
      "cell_type": "code",
      "source": [
        "import piplite\n",
        "await piplite.install(['pandas'])\n",
        "await piplite.install(['matplotlib'])"
      ],
      "metadata": {
        "id": "L0AeQo4UBtkZ"
      },
      "execution_count": null,
      "outputs": []
    },
    {
      "cell_type": "code",
      "source": [
        "#If you run the lab locally using Anaconda, you can load the correct library and versions by uncommenting the following:\n",
        "#install specific version of libraries used in lab\n",
        "#! mamba install pandas==1.3.3\n",
        "#! mamba install numpy=1.21.2"
      ],
      "metadata": {
        "id": "ixCclxWeBx9K"
      },
      "execution_count": null,
      "outputs": []
    },
    {
      "cell_type": "code",
      "source": [
        "import pandas as pd\n",
        "import matplotlib.pylab as plt"
      ],
      "metadata": {
        "id": "XfelSxPZByeO"
      },
      "execution_count": null,
      "outputs": []
    },
    {
      "cell_type": "code",
      "source": [
        "#This function will download the dataset into your browser \n",
        "from pyodide.http import pyfetch\n",
        "\n",
        "async def download(url, filename):\n",
        "    response = await pyfetch(url)\n",
        "    if response.status == 200:\n",
        "        with open(filename, \"wb\") as f:\n",
        "            f.write(await response.bytes())"
      ],
      "metadata": {
        "id": "JKQJHY3kB2hA"
      },
      "execution_count": null,
      "outputs": []
    },
    {
      "cell_type": "markdown",
      "source": [
        "Reading the dataset from the URL and adding the related headers¶\n",
        "First, we assign the URL of the dataset to \"filename\".\n",
        "\n",
        "This dataset was hosted on IBM Cloud object. Click HERE for free storage."
      ],
      "metadata": {
        "id": "giDJn2AnB5Ts"
      }
    },
    {
      "cell_type": "code",
      "source": [
        "filename = \"https://cf-courses-data.s3.us.cloud-object-storage.appdomain.cloud/IBMDeveloperSkillsNetwork-DA0101EN-SkillsNetwork/labs/Data%20files/auto.csv\""
      ],
      "metadata": {
        "id": "9qpS0Ne1B55b"
      },
      "execution_count": null,
      "outputs": []
    },
    {
      "cell_type": "markdown",
      "source": [
        "Then, we create a Python list headers containing name of headers."
      ],
      "metadata": {
        "id": "xaMvM69eB95V"
      }
    },
    {
      "cell_type": "code",
      "source": [
        "headers = [\"symboling\",\"normalized-losses\",\"make\",\"fuel-type\",\"aspiration\", \"num-of-doors\",\"body-style\",\n",
        "         \"drive-wheels\",\"engine-location\",\"wheel-base\", \"length\",\"width\",\"height\",\"curb-weight\",\"engine-type\",\n",
        "         \"num-of-cylinders\", \"engine-size\",\"fuel-system\",\"bore\",\"stroke\",\"compression-ratio\",\"horsepower\",\n",
        "         \"peak-rpm\",\"city-mpg\",\"highway-mpg\",\"price\"]"
      ],
      "metadata": {
        "id": "nKLQd7DPB7g4"
      },
      "execution_count": null,
      "outputs": []
    },
    {
      "cell_type": "markdown",
      "source": [
        "you will need to download the dataset; if you are running locally, please comment out the following"
      ],
      "metadata": {
        "id": "bD88FX-JCB72"
      }
    },
    {
      "cell_type": "code",
      "source": [
        "await download(filename, \"auto.csv\")\n",
        "filename=\"auto.csv\""
      ],
      "metadata": {
        "id": "yk5wSJzjCG1s"
      },
      "execution_count": null,
      "outputs": []
    },
    {
      "cell_type": "markdown",
      "source": [
        "Use the Pandas method read_csv() to load the data from the web address. Set the parameter \"names\" equal to the Python list \"headers\"."
      ],
      "metadata": {
        "id": "yX6WcqPICIRw"
      }
    },
    {
      "cell_type": "code",
      "source": [
        "df = pd.read_csv(filename, names = headers)"
      ],
      "metadata": {
        "id": "dFoDyCOyCJ-T"
      },
      "execution_count": null,
      "outputs": []
    },
    {
      "cell_type": "markdown",
      "source": [
        "Use the Pandas method read_csv() to load the data from the web address. Set the parameter \"names\" equal to the Python list \"headers\"."
      ],
      "metadata": {
        "id": "2Fz0RWNRCL-P"
      }
    },
    {
      "cell_type": "code",
      "source": [
        "df = pd.read_csv(filename, names = headers)"
      ],
      "metadata": {
        "id": "H75eblkQCODA"
      },
      "execution_count": null,
      "outputs": []
    },
    {
      "cell_type": "markdown",
      "source": [
        "Use the method head() to display the first five rows of the dataframe."
      ],
      "metadata": {
        "id": "T0VXOpNvCP2e"
      }
    },
    {
      "cell_type": "code",
      "source": [
        "# To see what the data set looks like, we'll use the head() method.\n",
        "df.head()"
      ],
      "metadata": {
        "id": "8cLabKwNCccc"
      },
      "execution_count": null,
      "outputs": []
    },
    {
      "cell_type": "markdown",
      "source": [
        "As we can see, several question marks appeared in the dataframe; those are missing values which may hinder our further analysis.\n",
        "\n",
        "So, how do we identify all those missing values and deal with them?\n",
        "How to work with missing data?\n",
        "\n",
        "Steps for working with missing data:\n",
        "\n",
        "Identify missing data\n",
        "Deal with missing data\n",
        "Correct data format\n",
        "Identify and handle missing values\n",
        "Identify missing values\n",
        "Convert \"?\" to NaN\n",
        "In the car dataset, missing data comes with the question mark \"?\". We replace \"?\" with NaN (Not a Number), Python's default missing value marker for reasons of computational speed and convenience. Here we use the function:\n",
        ".replace(A, B, inplace = True) \n",
        "to replace A by B."
      ],
      "metadata": {
        "id": "7mlHp8t5Ceh3"
      }
    },
    {
      "cell_type": "code",
      "source": [
        "import numpy as np\n",
        "\n",
        "# replace \"?\" to NaN\n",
        "df.replace(\"?\", np.nan, inplace = True)\n",
        "df.head(5)"
      ],
      "metadata": {
        "id": "09FLH0WCCfOJ"
      },
      "execution_count": null,
      "outputs": []
    },
    {
      "cell_type": "markdown",
      "source": [
        "Evaluating for Missing Data\n",
        "The missing values are converted by default. We use the following functions to identify these missing values. There are two methods to detect missing data:\n",
        "\n",
        ".isnull()\n",
        "\n",
        ".notnull()\n",
        "\n",
        "The output is a boolean value indicating whether the value that is passed into the argument is in fact missing data."
      ],
      "metadata": {
        "id": "uUUmMZBIChOT"
      }
    },
    {
      "cell_type": "code",
      "source": [
        "missing_data = df.isnull()\n",
        "missing_data.head(5)"
      ],
      "metadata": {
        "id": "hWxOAdvpCkhn"
      },
      "execution_count": null,
      "outputs": []
    },
    {
      "cell_type": "markdown",
      "source": [
        "\"True\" means the value is a missing value while \"False\" means the value is not a missing value.\n",
        "\n",
        "Count missing values in each column\n",
        "Using a for loop in Python, we can quickly figure out the number of missing values in each column. As mentioned above, \"True\" represents a missing value and \"False\" means the value is present in the dataset. In the body of the for loop the method \".value_counts()\" counts the number of \"True\" values."
      ],
      "metadata": {
        "id": "OyezK7-pCmyG"
      }
    },
    {
      "cell_type": "code",
      "source": [
        "for column in missing_data.columns.values.tolist():\n",
        "    print(column)\n",
        "    print (missing_data[column].value_counts())\n",
        "    print(\"\")  "
      ],
      "metadata": {
        "id": "6FKpzmKLCrXD"
      },
      "execution_count": null,
      "outputs": []
    },
    {
      "cell_type": "markdown",
      "source": [
        "Based on the summary above, each column has 205 rows of data and seven of the columns containing missing data:\n",
        "\n",
        "\"normalized-losses\": 41 missing data\n",
        "\n",
        "\"num-of-doors\": 2 missing data\n",
        "\n",
        "\"bore\": 4 missing data\n",
        "\n",
        "\"stroke\" : 4 missing data\n",
        "\n",
        "\"horsepower\": 2 missing data\n",
        "\n",
        "\"peak-rpm\": 2 missing data\n",
        "\n",
        "\"price\": 4 missing data\n",
        "\n",
        "Deal with missing data\n",
        "\n",
        "How to deal with missing data?\n",
        "Drop data\n",
        "\n",
        "a. Drop the whole row\n",
        "\n",
        "b. Drop the whole column\n",
        "\n",
        "Replace data\n",
        "\n",
        "a. Replace it by mean\n",
        "\n",
        "b. Replace it by frequency\n",
        "\n",
        "c. Replace it based on other functions\n",
        "\n",
        "Whole columns should be dropped only if most entries in the column are empty. In our dataset, none of the columns are empty enough to drop entirely. We have some freedom in choosing which method to replace data; however, some methods may seem more reasonable than others. We will apply each method to many different columns:\n",
        "\n",
        "Replace by mean:\n",
        "\n",
        "\"normalized-losses\": 41 missing data, replace them with mean\n",
        "\n",
        "\"stroke\": 4 missing data, replace them with mean\n",
        "\n",
        "\"bore\": 4 missing data, replace them with mean\n",
        "\n",
        "\"horsepower\": 2 missing data, replace them with mean\n",
        "\n",
        "\n",
        "\"peak-rpm\": 2 missing data, replace them with mean\n",
        "\n",
        "Replace by frequency:\n",
        "\n",
        "\"num-of-doors\": 2 missing data, replace them with \"four\".\n",
        "Reason: 84% sedans is four doors. Since four doors is most frequent, it is most likely to occur\n",
        "Drop the whole row:\n",
        "\n",
        "\"price\": 4 missing data, simply delete the whole row\n",
        "Reason: price is what we want to predict. Any data entry without price data cannot be used for prediction; therefore any row now without price data is not useful to us\n",
        "Calculate the mean value for the \"normalized-losses\" column ¶"
      ],
      "metadata": {
        "id": "evV4nZrVCsBO"
      }
    },
    {
      "cell_type": "code",
      "source": [
        "avg_norm_loss = df[\"normalized-losses\"].astype(\"float\").mean(axis=0)\n",
        "print(\"Average of normalized-losses:\", avg_norm_loss)"
      ],
      "metadata": {
        "id": "ntNSJBJEC6tX"
      },
      "execution_count": null,
      "outputs": []
    },
    {
      "cell_type": "markdown",
      "source": [
        "Replace \"NaN\" with mean value in \"normalized-losses\" column"
      ],
      "metadata": {
        "id": "A_GwFVcmC-GD"
      }
    },
    {
      "cell_type": "code",
      "source": [
        "df[\"normalized-losses\"].replace(np.nan, avg_norm_loss, inplace=True)"
      ],
      "metadata": {
        "id": "xzItRhooC_k_"
      },
      "execution_count": null,
      "outputs": []
    },
    {
      "cell_type": "markdown",
      "source": [
        "Calculate the mean value for the \"bore\" column"
      ],
      "metadata": {
        "id": "-SRYel9YDBjS"
      }
    },
    {
      "cell_type": "code",
      "source": [
        "avg_bore=df['bore'].astype('float').mean(axis=0)\n",
        "print(\"Average of bore:\", avg_bore)"
      ],
      "metadata": {
        "id": "qmv-RqTWDDuY"
      },
      "execution_count": null,
      "outputs": []
    },
    {
      "cell_type": "markdown",
      "source": [
        "Replace \"NaN\" with the mean value in the \"bore\" column"
      ],
      "metadata": {
        "id": "l0IXWiYBDFxG"
      }
    },
    {
      "cell_type": "code",
      "source": [
        "df[\"bore\"].replace(np.nan, avg_bore, inplace=True)"
      ],
      "metadata": {
        "id": "cE2-2P_XDGUA"
      },
      "execution_count": null,
      "outputs": []
    },
    {
      "cell_type": "markdown",
      "source": [
        "Correct data format\n",
        "We are almost there!\n",
        "The last step in data cleaning is checking and making sure that all data is in the correct format (int, float, text or other).\n",
        "\n",
        "In Pandas, we use:\n",
        "\n",
        ".dtype() to check the data type\n",
        "\n",
        ".astype() to change the data type\n",
        "\n",
        "Let's list the data types for each column"
      ],
      "metadata": {
        "id": "dw5deydVDLyt"
      }
    },
    {
      "cell_type": "code",
      "source": [
        "df.dtypes"
      ],
      "metadata": {
        "id": "gwzde4dfDO05"
      },
      "execution_count": null,
      "outputs": []
    },
    {
      "cell_type": "markdown",
      "source": [
        "As we can see above, some columns are not of the correct data type. Numerical variables should have type 'float' or 'int', and variables with strings such as categories should have type 'object'. For example, 'bore' and 'stroke' variables are numerical values that describe the engines, so we should expect them to be of the type 'float' or 'int'; however, they are shown as type 'object'. We have to convert data types into a proper format for each column using the \"astype()\" method.\n",
        "\n",
        "Convert data types to proper format"
      ],
      "metadata": {
        "id": "ytzqOzyEDaqq"
      }
    },
    {
      "cell_type": "code",
      "source": [
        "df[[\"bore\", \"stroke\"]] = df[[\"bore\", \"stroke\"]].astype(\"float\")\n",
        "df[[\"normalized-losses\"]] = df[[\"normalized-losses\"]].astype(\"int\")\n",
        "df[[\"price\"]] = df[[\"price\"]].astype(\"float\")\n",
        "df[[\"peak-rpm\"]] = df[[\"peak-rpm\"]].astype(\"float\")"
      ],
      "metadata": {
        "id": "fEL7Tk59DZrH"
      },
      "execution_count": null,
      "outputs": []
    },
    {
      "cell_type": "markdown",
      "source": [
        "Let us list the columns after the conversion"
      ],
      "metadata": {
        "id": "tZ7RziBlDefB"
      }
    },
    {
      "cell_type": "code",
      "source": [
        "df.dtypes"
      ],
      "metadata": {
        "id": "PHoTBpOJDe5z"
      },
      "execution_count": null,
      "outputs": []
    },
    {
      "cell_type": "markdown",
      "source": [
        "Data Standardization\n",
        "Data is usually collected from different agencies in different formats. (Data standardization is also a term for a particular type of data normalization where we subtract the mean and divide by the standard deviation.)\n",
        "\n",
        "What is standardization?\n",
        "\n",
        "Standardization is the process of transforming data into a common format, allowing the researcher to make the meaningful comparison.\n",
        "\n",
        "Example\n",
        "\n",
        "Transform mpg to L/100km:\n",
        "\n",
        "In our dataset, the fuel consumption columns \"city-mpg\" and \"highway-mpg\" are represented by mpg (miles per gallon) unit. Assume we are developing an application in a country that accepts the fuel consumption with L/100km standard.\n",
        "\n",
        "We will need to apply data transformation to transform mpg into L/100km.\n",
        "\n",
        "The formula for unit conversion is:\n",
        "\n",
        "L/100km = 235 / mpg\n",
        "\n",
        "We can do many mathematical operations directly in Pandas."
      ],
      "metadata": {
        "id": "EsuqREntDimi"
      }
    },
    {
      "cell_type": "code",
      "source": [
        "df.head()"
      ],
      "metadata": {
        "id": "QolhUYTCDjYO"
      },
      "execution_count": null,
      "outputs": []
    },
    {
      "cell_type": "code",
      "source": [
        "# Convert mpg to L/100km by mathematical operation (235 divided by mpg)\n",
        "df['city-L/100km'] = 235/df[\"city-mpg\"]\n",
        "\n",
        "# check your transformed data \n",
        "df.head()"
      ],
      "metadata": {
        "id": "MZwCKu6KDlff"
      },
      "execution_count": null,
      "outputs": []
    },
    {
      "cell_type": "markdown",
      "source": [
        "Data Normalization\n",
        "Why normalization?\n",
        "\n",
        "Normalization is the process of transforming values of several variables into a similar range. Typical normalizations include scaling the variable so the variable average is 0, scaling the variable so the variance is 1, or scaling the variable so the variable values range from 0 to 1.\n",
        "\n",
        "Example\n",
        "\n",
        "To demonstrate normalization, let's say we want to scale the columns \"length\", \"width\" and \"height\".\n",
        "\n",
        "Target: would like to normalize those variables so their value ranges from 0 to 1\n",
        "\n",
        "Approach: replace original value by (original value)/(maximum value)"
      ],
      "metadata": {
        "id": "ARuAa2ijDqUF"
      }
    },
    {
      "cell_type": "code",
      "source": [
        "# replace (original value) by (original value)/(maximum value)\n",
        "df['length'] = df['length']/df['length'].max()\n",
        "df['width'] = df['width']/df['width'].max()"
      ],
      "metadata": {
        "id": "LrL-BX9iDq12"
      },
      "execution_count": null,
      "outputs": []
    },
    {
      "cell_type": "markdown",
      "source": [
        "Binning\n",
        "Why binning?\n",
        "Binning is a process of transforming continuous numerical variables into discrete categorical 'bins' for grouped analysis.\n",
        "\n",
        "Example:\n",
        "\n",
        "In our dataset, \"horsepower\" is a real valued variable ranging from 48 to 288 and it has 59 unique values. What if we only care about the price difference between cars with high horsepower, medium horsepower, and little horsepower (3 types)? Can we rearrange them into three ‘bins' to simplify analysis?\n",
        "\n",
        "We will use the pandas method 'cut' to segment the 'horsepower' column into 3 bins.\n",
        "\n",
        "Example of Binning Data In Pandas\n",
        "Convert data to correct format:"
      ],
      "metadata": {
        "id": "a1J3wdAYDtaP"
      }
    },
    {
      "cell_type": "code",
      "source": [
        "df[\"horsepower\"]=df[\"horsepower\"].astype(int, copy=True)"
      ],
      "metadata": {
        "id": "cw_9d3bjDt9Z"
      },
      "execution_count": null,
      "outputs": []
    },
    {
      "cell_type": "markdown",
      "source": [
        "Let's plot the histogram of horsepower to see what the distribution of horsepower looks like."
      ],
      "metadata": {
        "id": "Yb-dgsRbDxOf"
      }
    },
    {
      "cell_type": "code",
      "source": [
        "%matplotlib inline\n",
        "import matplotlib as plt\n",
        "from matplotlib import pyplot\n",
        "plt.pyplot.hist(df[\"horsepower\"])\n",
        "\n",
        "# set x/y labels and plot title\n",
        "plt.pyplot.xlabel(\"horsepower\")\n",
        "plt.pyplot.ylabel(\"count\")\n",
        "plt.pyplot.title(\"horsepower bins\")"
      ],
      "metadata": {
        "id": "b5epJcH_DxxC"
      },
      "execution_count": null,
      "outputs": []
    },
    {
      "cell_type": "markdown",
      "source": [
        "We would like 3 bins of equal size bandwidth so we use numpy's linspace(start_value, end_value, numbers_generated function.\n",
        "\n",
        "Since we want to include the minimum value of horsepower, we want to set start_value = min(df[\"horsepower\"]).\n",
        "\n",
        "Since we want to include the maximum value of horsepower, we want to set end_value = max(df[\"horsepower\"]).\n",
        "\n",
        "Since we are building 3 bins of equal length, there should be 4 dividers, so numbers_generated = 4.\n",
        "\n",
        "We build a bin array with a minimum value to a maximum value by using the bandwidth calculated above. The values will determine when one bin ends and another begins."
      ],
      "metadata": {
        "id": "U3szhuXbDzVc"
      }
    },
    {
      "cell_type": "code",
      "source": [
        "bins = np.linspace(min(df[\"horsepower\"]), max(df[\"horsepower\"]), 4)\n",
        "bins"
      ],
      "metadata": {
        "id": "AQ7nIa6wD1sZ"
      },
      "execution_count": null,
      "outputs": []
    },
    {
      "cell_type": "markdown",
      "source": [
        "We set group names:"
      ],
      "metadata": {
        "id": "3Armopi9D4R_"
      }
    },
    {
      "cell_type": "code",
      "source": [
        "group_names = ['Low', 'Medium', 'High']"
      ],
      "metadata": {
        "id": "vFj7qNScD8cE"
      },
      "execution_count": null,
      "outputs": []
    },
    {
      "cell_type": "markdown",
      "source": [
        "We apply the function \"cut\" to determine what each value of df['horsepower'] belongs to."
      ],
      "metadata": {
        "id": "BD5zFfnBD-OX"
      }
    },
    {
      "cell_type": "code",
      "source": [
        "df['horsepower-binned'] = pd.cut(df['horsepower'], bins, labels=group_names, include_lowest=True )\n",
        "df[['horsepower','horsepower-binned']].head(20)"
      ],
      "metadata": {
        "id": "xUc6XdmTEAQ_"
      },
      "execution_count": null,
      "outputs": []
    },
    {
      "cell_type": "markdown",
      "source": [
        "Let's see the number of vehicles in each bin:"
      ],
      "metadata": {
        "id": "5C0_dUnjEB9Z"
      }
    },
    {
      "cell_type": "code",
      "source": [
        "df[\"horsepower-binned\"].value_counts()"
      ],
      "metadata": {
        "id": "Cq9Zq_DHEJug"
      },
      "execution_count": null,
      "outputs": []
    },
    {
      "cell_type": "markdown",
      "source": [
        "Let's plot the distribution of each bin:"
      ],
      "metadata": {
        "id": "o_Q9nWOoEII2"
      }
    },
    {
      "cell_type": "code",
      "source": [
        "%matplotlib inline\n",
        "import matplotlib as plt\n",
        "from matplotlib import pyplot\n",
        "pyplot.bar(group_names, df[\"horsepower-binned\"].value_counts())\n",
        "\n",
        "# set x/y labels and plot title\n",
        "plt.pyplot.xlabel(\"horsepower\")\n",
        "plt.pyplot.ylabel(\"count\")\n",
        "plt.pyplot.title(\"horsepower bins\")"
      ],
      "metadata": {
        "id": "CKuG0I-iELJX"
      },
      "execution_count": null,
      "outputs": []
    },
    {
      "cell_type": "markdown",
      "source": [
        "Bins Visualization\n",
        "\n",
        "Normally, a histogram is used to visualize the distribution of bins we created above."
      ],
      "metadata": {
        "id": "_fWUal16ENhn"
      }
    },
    {
      "cell_type": "code",
      "source": [
        "%matplotlib inline\n",
        "import matplotlib as plt\n",
        "from matplotlib import pyplot\n",
        "\n",
        "\n",
        "# draw historgram of attribute \"horsepower\" with bins = 3\n",
        "plt.pyplot.hist(df[\"horsepower\"], bins = 3)\n",
        "\n",
        "# set x/y labels and plot title\n",
        "plt.pyplot.xlabel(\"horsepower\")\n",
        "plt.pyplot.ylabel(\"count\")\n",
        "plt.pyplot.title(\"horsepower bins\")"
      ],
      "metadata": {
        "id": "hqfzdUdvEQWo"
      },
      "execution_count": null,
      "outputs": []
    },
    {
      "cell_type": "markdown",
      "source": [
        "Indicator Variable (or Dummy Variable)\n",
        "What is an indicator variable?\n",
        "An indicator variable (or dummy variable) is a numerical variable used to label categories. They are called 'dummies' because the numbers themselves don't have inherent meaning.\n",
        "\n",
        "Why we use indicator variables?\n",
        "\n",
        "We use indicator variables so we can use categorical variables for regression analysis in the later modules.\n",
        "\n",
        "Example\n",
        "We see the column \"fuel-type\" has two unique values: \"gas\" or \"diesel\". Regression doesn't understand words, only numbers. To use this attribute in regression analysis, we convert \"fuel-type\" to indicator variables.\n",
        "\n",
        "We will use pandas' method 'get_dummies' to assign numerical values to different categories of fuel type."
      ],
      "metadata": {
        "id": "EtDd6VZ9EUr6"
      }
    },
    {
      "cell_type": "code",
      "source": [
        "df.columns"
      ],
      "metadata": {
        "id": "LX4NlxISEVZG"
      },
      "execution_count": null,
      "outputs": []
    },
    {
      "cell_type": "markdown",
      "source": [
        "Get the indicator variables and assign it to data frame \"dummy_variable_1\":"
      ],
      "metadata": {
        "id": "FLItUuYaEXyS"
      }
    },
    {
      "cell_type": "code",
      "source": [
        "dummy_variable_1 = pd.get_dummies(df[\"fuel-type\"])\n",
        "dummy_variable_1.head()"
      ],
      "metadata": {
        "id": "i_NkeN-tEYW5"
      },
      "execution_count": null,
      "outputs": []
    },
    {
      "cell_type": "markdown",
      "source": [
        "Change the column names for clarity:"
      ],
      "metadata": {
        "id": "b4kSB8jvEZ4F"
      }
    },
    {
      "cell_type": "code",
      "source": [
        "dummy_variable_1.rename(columns={'gas':'fuel-type-gas', 'diesel':'fuel-type-diesel'}, inplace=True)\n",
        "dummy_variable_1.head()"
      ],
      "metadata": {
        "id": "MrYf1B5VEcom"
      },
      "execution_count": null,
      "outputs": []
    },
    {
      "cell_type": "markdown",
      "source": [
        "In the dataframe, column 'fuel-type' has values for 'gas' and 'diesel' as 0s and 1s now."
      ],
      "metadata": {
        "id": "nfR8K5WhEbzI"
      }
    },
    {
      "cell_type": "code",
      "source": [
        "# merge data frame \"df\" and \"dummy_variable_1\" \n",
        "df = pd.concat([df, dummy_variable_1], axis=1)\n",
        "\n",
        "# drop original column \"fuel-type\" from \"df\"\n",
        "df.drop(\"fuel-type\", axis = 1, inplace=True)"
      ],
      "metadata": {
        "id": "vNKJSGOKEgyH"
      },
      "execution_count": null,
      "outputs": []
    },
    {
      "cell_type": "code",
      "source": [
        "df.head()"
      ],
      "metadata": {
        "id": "eLkx7KNcEiEM"
      },
      "execution_count": null,
      "outputs": []
    },
    {
      "cell_type": "markdown",
      "source": [
        "The last two columns are now the indicator variable representation of the fuel-type variable. They're all 0s and 1s now."
      ],
      "metadata": {
        "id": "ZNeUux0iEkfY"
      }
    },
    {
      "cell_type": "markdown",
      "source": [
        "Question 1\n",
        "\n",
        "1/1 point (graded)\n",
        "\n",
        "Consider the dataframe df. What is the result of the following operation: df['symbolling'] = df['symbolling'] + 1?\n",
        "\n",
        "\n",
        "Answer: Every element in the column \"symbolling\" will increase by one."
      ],
      "metadata": {
        "id": "hDvprn0SEyAi"
      }
    },
    {
      "cell_type": "markdown",
      "source": [
        "Question 2\n",
        "\n",
        "1 point possible (graded)\n",
        "\n",
        "Consider the dataframe df. What does the command df.rename(columns={'a':'b'}) change about the dataframe df?\n",
        "\n",
        "Answer: Nothing. You must set the parameter \"inplace = True\"."
      ],
      "metadata": {
        "id": "QFUgPZIHE82v"
      }
    },
    {
      "cell_type": "markdown",
      "source": [
        "Question 3\n",
        "\n",
        "1 point possible (graded)\n",
        "\n",
        "Consider the dataframe \"df\". What is the result of the following operation df['price'] = df['price'].astype(int)?\n",
        "\n",
        "Answer: Convert or cast the column 'price' to an integer value."
      ],
      "metadata": {
        "id": "MNtWLBsUFSXl"
      }
    },
    {
      "cell_type": "markdown",
      "source": [
        "Question 4\n",
        "\n",
        "1 point possible (graded)\n",
        "\n",
        "Consider the column of the dataframe df['a']. The column has been standardized. What is the standard deviation of the values as a result of applying the following operation: df['a'].std()?\n",
        "\n",
        "Answer: 1\n",
        "\n",
        "\n"
      ],
      "metadata": {
        "id": "UIZY2i5qFd1i"
      }
    },
    {
      "cell_type": "markdown",
      "source": [
        "Question 5 a)\n",
        "\n",
        "1 point possible (graded)\n",
        "\n",
        "Consider the column of the dataframe, df['Fuel'], with two values: 'gas' and' diesel'. What will be the name of the new columns pd.get_dumies(df['Fuel']) ?\n",
        "\n",
        "Answer: 'gas' and 'diesel'"
      ],
      "metadata": {
        "id": "_oXXjOArFngI"
      }
    },
    {
      "cell_type": "markdown",
      "source": [
        "Question 5 b)\n",
        "\n",
        "1/1 point (graded)\n",
        "\n",
        "What are the values of the new columns from part 5a)?\n",
        "\n",
        "Answer: 1 and 0"
      ],
      "metadata": {
        "id": "GYlE3M1jGNR8"
      }
    },
    {
      "cell_type": "markdown",
      "source": [
        "# Módulo 3\n",
        "En este módulo vamos a tocar el tema de el Explratory Data Analysis (EDA)\n",
        "\n",
        "Datos preliminares para el data analisis:\n",
        "\n",
        "* Resuminr las principales características de los datos\n",
        "* Obtener mejor entendimiento de los datos\n",
        "* Descubrir la relación entre los datos\n",
        "* Extraer las variables importantes\n",
        "\n",
        "Objetivos de anprendizaje:\n",
        "\n",
        "* Describir las estadísticas\n",
        "* Groupby\n",
        "* Analysis of Variance (ANOVA), regresa dos valores el F-test score y el p-value\n",
        "* Correlación entre variable\n",
        "* Correlación avanzada y estadística, Pearson correlationa and heatmaps\n",
        "![corrrelation.png](data:image/png;base64,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)\n"
      ],
      "metadata": {
        "id": "3Ud-7Ktzyzz1"
      }
    },
    {
      "cell_type": "markdown",
      "source": [
        "## LAB"
      ],
      "metadata": {
        "id": "eIv7zCOIHwEm"
      }
    },
    {
      "cell_type": "markdown",
      "source": [
        "What are the main characteristics that have the most impact on the car price?\n",
        "### 1. Import Data from Module 2\n",
        "\n",
        "Setup\n",
        "\n",
        "you are running the lab in your browser, so we will install the libraries using piplite"
      ],
      "metadata": {
        "id": "TxwUYvHhGL2O"
      }
    },
    {
      "cell_type": "code",
      "source": [
        "#you are running the lab in your  browser, so we will install the libraries using ``piplite``\n",
        "import piplite\n",
        "await piplite.install(['pandas'])\n",
        "await piplite.install(['matplotlib'])\n",
        "await piplite.install(['scipy'])\n",
        "await piplite.install(['seaborn'])"
      ],
      "metadata": {
        "id": "y2kxVTLACz1m"
      },
      "execution_count": null,
      "outputs": []
    },
    {
      "cell_type": "markdown",
      "source": [
        "Import libraries:\n",
        "\n",
        "If you run the lab locally using Anaconda, you can load the correct library and versions by uncommenting the following:"
      ],
      "metadata": {
        "id": "Pj3A4mHjH4cY"
      }
    },
    {
      "cell_type": "code",
      "source": [
        "#If you run the lab locally using Anaconda, you can load the correct library and versions by uncommenting the following:\n",
        "#install specific version of libraries used in lab\n",
        "#! mamba install pandas==1.3.3\n",
        "#! mamba install numpy=1.21.2\n",
        "#! mamba install scipy=1.7.1-y\n",
        "#!  mamba install seaborn=0.9.0-y"
      ],
      "metadata": {
        "id": "WWWnOfXdIBTY"
      },
      "execution_count": null,
      "outputs": []
    },
    {
      "cell_type": "code",
      "source": [
        "import pandas as pd\n",
        "import numpy as np"
      ],
      "metadata": {
        "id": "K5vggQhMICP1"
      },
      "execution_count": null,
      "outputs": []
    },
    {
      "cell_type": "markdown",
      "source": [
        "This function will download the dataset into your browser"
      ],
      "metadata": {
        "id": "dMgEUVBHIEVl"
      }
    },
    {
      "cell_type": "code",
      "source": [
        "#This function will download the dataset into your browser \n",
        "\n",
        "from pyodide.http import pyfetch\n",
        "\n",
        "async def download(url, filename):\n",
        "    response = await pyfetch(url)\n",
        "    if response.status == 200:\n",
        "        with open(filename, \"wb\") as f:\n",
        "            f.write(await response.bytes())"
      ],
      "metadata": {
        "id": "OvPsdjCKIG1E"
      },
      "execution_count": null,
      "outputs": []
    },
    {
      "cell_type": "code",
      "source": [
        "path='https://cf-courses-data.s3.us.cloud-object-storage.appdomain.cloud/IBMDeveloperSkillsNetwork-DA0101EN-SkillsNetwork/labs/Data%20files/automobileEDA.csv'"
      ],
      "metadata": {
        "id": "3CB3EZ08IWCz"
      },
      "execution_count": null,
      "outputs": []
    },
    {
      "cell_type": "code",
      "source": [],
      "metadata": {
        "id": "AsitwlaTI4jR"
      },
      "execution_count": null,
      "outputs": []
    },
    {
      "cell_type": "code",
      "source": [
        "await download(path, \"auto.csv\")\n",
        "filename=\"auto.csv\""
      ],
      "metadata": {
        "id": "bmnBhiQIIWtX"
      },
      "execution_count": null,
      "outputs": []
    },
    {
      "cell_type": "code",
      "source": [
        "df = pd.read_csv(filename)\n",
        "df.head()"
      ],
      "metadata": {
        "id": "4cO1HPEyIaSV"
      },
      "execution_count": null,
      "outputs": []
    },
    {
      "cell_type": "markdown",
      "source": [
        "### 2. Analyzing Individual Feature Patterns Using Visualization\n",
        "\n",
        "To install Seaborn we use pip, the Python package manager.\n",
        "\n",
        "Import visualization packages \"Matplotlib\" and \"Seaborn\". Don't forget about \"%matplotlib inline\" to plot in a Jupyter notebook."
      ],
      "metadata": {
        "id": "vytAsQ9sILYD"
      }
    },
    {
      "cell_type": "code",
      "source": [
        "import matplotlib.pyplot as plt\n",
        "import seaborn as sns\n",
        "%matplotlib inline "
      ],
      "metadata": {
        "id": "rv0TMwDOJI9i"
      },
      "execution_count": null,
      "outputs": []
    },
    {
      "cell_type": "markdown",
      "source": [
        "How to choose the right visualization method?\n",
        "\n",
        "When visualizing individual variables, it is important to first understand what type of variable you are dealing with. This will help us find the right visualization method for that variable."
      ],
      "metadata": {
        "id": "5Al-s5QrJMFU"
      }
    },
    {
      "cell_type": "code",
      "source": [
        "# list the data types for each column\n",
        "print(df.dtypes)"
      ],
      "metadata": {
        "id": "rM9-8zHtJN2N"
      },
      "execution_count": null,
      "outputs": []
    }
  ]
}