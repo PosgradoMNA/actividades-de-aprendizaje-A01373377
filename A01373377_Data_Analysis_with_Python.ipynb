{
  "nbformat": 4,
  "nbformat_minor": 0,
  "metadata": {
    "colab": {
      "provenance": [],
      "collapsed_sections": [],
      "include_colab_link": true
    },
    "kernelspec": {
      "name": "python3",
      "display_name": "Python 3"
    },
    "language_info": {
      "name": "python"
    }
  },
  "cells": [
    {
      "cell_type": "markdown",
      "metadata": {
        "id": "view-in-github",
        "colab_type": "text"
      },
      "source": [
        "<a href=\"https://colab.research.google.com/github/PosgradoMNA/actividades-de-aprendizaje-A01373377/blob/main/A01373377_Data_Analysis_with_Python.ipynb\" target=\"_parent\"><img src=\"https://colab.research.google.com/assets/colab-badge.svg\" alt=\"Open In Colab\"/></a>"
      ]
    },
    {
      "cell_type": "markdown",
      "source": [
        "# Módulo 1"
      ],
      "metadata": {
        "id": "tl_6VjMdkK2H"
      }
    },
    {
      "cell_type": "markdown",
      "source": [
        "## Los objetivos de este Módulo 1 son:\n",
        "\n",
        "\n",
        "*   Caso de estudios sobre análisis de precio de vehículos usando Python\n",
        "\n",
        "La data está en todos lados \n",
        "El Análisis de Datos nos ayuda a responder preguntas sobre la data por medio de:\n",
        "\n",
        "1) Descubrir información útil\n",
        "\n",
        "2) Con esa información útil resolver las pregunatas del problema\n",
        "\n",
        "3) Predecir el futuro o lo desconocido\n",
        "\n",
        "Importar formatos en csv format es bastante más sencillo\n",
        "\n",
        "Tipos de librerías:\n",
        "\n",
        "1) Science Computing Libraries:\n",
        "\n",
        "*  Pandas, Data structures & tools \n",
        "*  NumPy, Arrays & matrices\n",
        "*  SciPy, Integrals, solving differential equations, optimization\n",
        "\n",
        "2) Visualization Librearies\n",
        "\n",
        "*  Matplotlib, plots & graphs, most popular\n",
        "*  Seaborn, plots: heat maps, time series, violin plots\n",
        "\n",
        "3) Algorithmic libraries:\n",
        "\n",
        "*  Scikit-learn, Machine Learning: regression, classification, clustering, etc.\n",
        "*  Statsmodels, Explore data, estimate statistical models, and perform statistical tests.\n"
      ],
      "metadata": {
        "id": "B3vCue0ElQAc"
      }
    },
    {
      "cell_type": "code",
      "execution_count": null,
      "metadata": {
        "id": "84o9K70XkHHi"
      },
      "outputs": [],
      "source": [
        "#importar un csv\n",
        "import pandas as pd\n",
        "url = \"https:\"\n",
        "\n",
        "df = pd.read_csv(url)\n",
        "df = pd.read_csv(url, header = None) #if the data used has no column headers we need to specify\n",
        "\n"
      ]
    },
    {
      "cell_type": "code",
      "source": [
        "#imprimiendo el dataframe\n",
        "df #no se recomienda para dataframes largos\n",
        "df.head(n) #muestras los primeros n renglones del dataframe\n",
        "df.tail(n) #muestras los últimos n renglones del dataframe"
      ],
      "metadata": {
        "id": "pmeS2RZc0Ynp"
      },
      "execution_count": null,
      "outputs": []
    },
    {
      "cell_type": "code",
      "source": [
        "#para poder headears primero hacemos una lista con los nombres de los headers\n",
        "df.columns = nombre de la lista"
      ],
      "metadata": {
        "id": "t_GSQ3xv05KG"
      },
      "execution_count": null,
      "outputs": []
    },
    {
      "cell_type": "code",
      "source": [
        "#para guardar los cambios realizados a los dataframes\n",
        "path = \"ruta en tu pc\"\n",
        "df.to_csv(path)"
      ],
      "metadata": {
        "id": "3AJ7bpZG1OUv"
      },
      "execution_count": null,
      "outputs": []
    }
  ]
}