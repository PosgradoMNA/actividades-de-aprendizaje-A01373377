{
  "nbformat": 4,
  "nbformat_minor": 0,
  "metadata": {
    "colab": {
      "provenance": [],
      "authorship_tag": "ABX9TyNKLp3VIyTt+gGjTIP/VUGA",
      "include_colab_link": true
    },
    "kernelspec": {
      "name": "python3",
      "display_name": "Python 3"
    },
    "language_info": {
      "name": "python"
    }
  },
  "cells": [
    {
      "cell_type": "markdown",
      "metadata": {
        "id": "view-in-github",
        "colab_type": "text"
      },
      "source": [
        "<a href=\"https://colab.research.google.com/github/PosgradoMNA/actividades-de-aprendizaje-A01373377/blob/main/Module%201-3.ipynb\" target=\"_parent\"><img src=\"https://colab.research.google.com/assets/colab-badge.svg\" alt=\"Open In Colab\"/></a>"
      ]
    },
    {
      "cell_type": "markdown",
      "source": [
        "# Módulo 1"
      ],
      "metadata": {
        "id": "YROLSJdlfpC5"
      }
    },
    {
      "cell_type": "code",
      "execution_count": 2,
      "metadata": {
        "id": "---fTK5FFNUK",
        "colab": {
          "base_uri": "https://localhost:8080/"
        },
        "outputId": "d5559bde-ee07-4238-ad1f-cfd9b09c9335"
      },
      "outputs": [
        {
          "output_type": "stream",
          "name": "stdout",
          "text": [
            "Hello World this is my first code\n"
          ]
        }
      ],
      "source": [
        "#Imprimir Hola mundo\n",
        "print(\"Hello World this is my first code\")"
      ]
    },
    {
      "cell_type": "code",
      "source": [
        "#Imprimir Hola Mundo en dos renglones diferentes\n",
        "print(\"Hello\\nWorld\")"
      ],
      "metadata": {
        "colab": {
          "base_uri": "https://localhost:8080/"
        },
        "id": "Uz1cSu3JW-Fk",
        "outputId": "8be76e12-63c3-43b7-9c5c-e471d199be62"
      },
      "execution_count": 3,
      "outputs": [
        {
          "output_type": "stream",
          "name": "stdout",
          "text": [
            "Hello\n",
            "World\n"
          ]
        }
      ]
    },
    {
      "cell_type": "code",
      "source": [
        "#Encontrar el tipo de la informacion ya sea string, número entero,float, booleano etc\n",
        "#\"Hello World\"\n",
        "type (\"Hello World\")"
      ],
      "metadata": {
        "colab": {
          "base_uri": "https://localhost:8080/"
        },
        "id": "ZDFmpU6OY3E6",
        "outputId": "cce196d2-088b-4790-846c-3ca34014c382"
      },
      "execution_count": 4,
      "outputs": [
        {
          "output_type": "execute_result",
          "data": {
            "text/plain": [
              "str"
            ]
          },
          "metadata": {},
          "execution_count": 4
        }
      ]
    },
    {
      "cell_type": "code",
      "source": [
        "#Encontrar el tipo de la informacion\n",
        "#15.3\"\n",
        "type (15.3)"
      ],
      "metadata": {
        "colab": {
          "base_uri": "https://localhost:8080/"
        },
        "id": "219ajZMOZH2O",
        "outputId": "996278b7-16d5-4351-dbf6-63c91898f1b6"
      },
      "execution_count": 7,
      "outputs": [
        {
          "output_type": "execute_result",
          "data": {
            "text/plain": [
              "float"
            ]
          },
          "metadata": {},
          "execution_count": 7
        }
      ]
    },
    {
      "cell_type": "code",
      "source": [
        "#Convertir el valor primero a entero int a booleano bool\n",
        "#\"2\"\n",
        "bool(int(\"2\"))"
      ],
      "metadata": {
        "colab": {
          "base_uri": "https://localhost:8080/"
        },
        "id": "kAM-9nSNZLJU",
        "outputId": "a6c3f1f7-80ac-4d49-e911-b16e0176014f"
      },
      "execution_count": 10,
      "outputs": [
        {
          "output_type": "execute_result",
          "data": {
            "text/plain": [
              "True"
            ]
          },
          "metadata": {},
          "execution_count": 10
        }
      ]
    },
    {
      "cell_type": "code",
      "source": [
        "#Imprimir una salida\n",
        "print('Hello, my friends!')"
      ],
      "metadata": {
        "colab": {
          "base_uri": "https://localhost:8080/"
        },
        "id": "eIaYgjJWbgiL",
        "outputId": "6604d9ed-a140-45f6-d0fb-f62a1fa09378"
      },
      "execution_count": 12,
      "outputs": [
        {
          "output_type": "stream",
          "name": "stdout",
          "text": [
            "Hello, my friends!\n"
          ]
        }
      ]
    },
    {
      "cell_type": "code",
      "source": [
        "#Revisar nuestra version de python\n",
        "import sys\n",
        "print(sys.version)"
      ],
      "metadata": {
        "colab": {
          "base_uri": "https://localhost:8080/"
        },
        "id": "ZTYVE2rad2yC",
        "outputId": "9b89227a-fc22-49fe-fbaf-73a997acc7aa"
      },
      "execution_count": 13,
      "outputs": [
        {
          "output_type": "stream",
          "name": "stdout",
          "text": [
            "3.7.14 (default, Sep  8 2022, 00:06:44) \n",
            "[GCC 7.5.0]\n"
          ]
        }
      ]
    },
    {
      "cell_type": "code",
      "source": [
        "#Escribir comentarios\n",
        "print('Hello, Python!') #Esta linea imprime una cadena"
      ],
      "metadata": {
        "colab": {
          "base_uri": "https://localhost:8080/"
        },
        "id": "VQgJd5CGd4fE",
        "outputId": "f8317d51-eb7b-4430-916a-32c1ee8c1b8e"
      },
      "execution_count": 15,
      "outputs": [
        {
          "output_type": "stream",
          "name": "stdout",
          "text": [
            "Hello, Python!\n"
          ]
        }
      ]
    },
    {
      "cell_type": "code",
      "source": [
        "#Escribir un codigo erroneo\n",
        "print(\"Hello, Python!) \n",
        "#porque debemos cerrar el comentario con el \"\""
      ],
      "metadata": {
        "colab": {
          "base_uri": "https://localhost:8080/",
          "height": 130
        },
        "id": "aMF7wWsZeB5Y",
        "outputId": "63b00560-426a-4814-b735-ffae3ee867a8"
      },
      "execution_count": 16,
      "outputs": [
        {
          "output_type": "error",
          "ename": "SyntaxError",
          "evalue": "ignored",
          "traceback": [
            "\u001b[0;36m  File \u001b[0;32m\"<ipython-input-16-e32f515a182e>\"\u001b[0;36m, line \u001b[0;32m2\u001b[0m\n\u001b[0;31m    print(\"Hello, Python!)\u001b[0m\n\u001b[0m                          ^\u001b[0m\n\u001b[0;31mSyntaxError\u001b[0m\u001b[0;31m:\u001b[0m EOL while scanning string literal\n"
          ]
        }
      ]
    },
    {
      "cell_type": "code",
      "source": [
        "#Escribir tres cadenas, una con error, para ver el orden\n",
        "print(\"This will be printed\")\n",
        "frint(\"This will cause an error\")\n",
        "print(\"This will NOT be printed\")"
      ],
      "metadata": {
        "id": "aKZFj6-ieebw",
        "outputId": "7b9ae282-cc70-4b18-f872-11d9aadaf565",
        "colab": {
          "base_uri": "https://localhost:8080/",
          "height": 235
        }
      },
      "execution_count": 17,
      "outputs": [
        {
          "output_type": "stream",
          "name": "stdout",
          "text": [
            "This will be printed\n"
          ]
        },
        {
          "output_type": "error",
          "ename": "NameError",
          "evalue": "ignored",
          "traceback": [
            "\u001b[0;31m---------------------------------------------------------------------------\u001b[0m",
            "\u001b[0;31mNameError\u001b[0m                                 Traceback (most recent call last)",
            "\u001b[0;32m<ipython-input-17-351d14488c80>\u001b[0m in \u001b[0;36m<module>\u001b[0;34m\u001b[0m\n\u001b[1;32m      1\u001b[0m \u001b[0;31m#Escribir tres cadenas, una con error, para ver el orden\u001b[0m\u001b[0;34m\u001b[0m\u001b[0;34m\u001b[0m\u001b[0;34m\u001b[0m\u001b[0m\n\u001b[1;32m      2\u001b[0m \u001b[0mprint\u001b[0m\u001b[0;34m(\u001b[0m\u001b[0;34m\"This will be printed\"\u001b[0m\u001b[0;34m)\u001b[0m\u001b[0;34m\u001b[0m\u001b[0;34m\u001b[0m\u001b[0m\n\u001b[0;32m----> 3\u001b[0;31m \u001b[0mfrint\u001b[0m\u001b[0;34m(\u001b[0m\u001b[0;34m\"This will cause an error\"\u001b[0m\u001b[0;34m)\u001b[0m\u001b[0;34m\u001b[0m\u001b[0;34m\u001b[0m\u001b[0m\n\u001b[0m\u001b[1;32m      4\u001b[0m \u001b[0mprint\u001b[0m\u001b[0;34m(\u001b[0m\u001b[0;34m\"This will NOT be printed\"\u001b[0m\u001b[0;34m)\u001b[0m\u001b[0;34m\u001b[0m\u001b[0;34m\u001b[0m\u001b[0m\n",
            "\u001b[0;31mNameError\u001b[0m: name 'frint' is not defined"
          ]
        }
      ]
    },
    {
      "cell_type": "code",
      "source": [
        "#Encontrar los tipos de informaci[on\n",
        "type(12)\n",
        "type(2.14)\n",
        "type(\"Hello, Python 101!\")\n",
        "type(-1)\n",
        "type(4)\n",
        "type(0)\n",
        "type(1.0)\n",
        "type(0.5)\n",
        "type(0.56)\n",
        "type(False)\n",
        "type(True)\n",
        "type (6/2)\n",
        "type(6//2)"
      ],
      "metadata": {
        "id": "dUhnAEnHehQV",
        "outputId": "70918319-511e-4cdf-9dd6-04c9a7f0d480",
        "colab": {
          "base_uri": "https://localhost:8080/"
        }
      },
      "execution_count": 18,
      "outputs": [
        {
          "output_type": "execute_result",
          "data": {
            "text/plain": [
              "int"
            ]
          },
          "metadata": {},
          "execution_count": 18
        }
      ]
    },
    {
      "cell_type": "code",
      "source": [
        "#Conocer la informacion del sistema sobre el tipo flotante\n",
        "sys.float_info"
      ],
      "metadata": {
        "id": "iOx6gRy8enZG",
        "outputId": "ba96bf86-599e-47c2-9904-befd7a93706b",
        "colab": {
          "base_uri": "https://localhost:8080/"
        }
      },
      "execution_count": 19,
      "outputs": [
        {
          "output_type": "execute_result",
          "data": {
            "text/plain": [
              "sys.float_info(max=1.7976931348623157e+308, max_exp=1024, max_10_exp=308, min=2.2250738585072014e-308, min_exp=-1021, min_10_exp=-307, dig=15, mant_dig=53, epsilon=2.220446049250313e-16, radix=2, rounds=1)"
            ]
          },
          "metadata": {},
          "execution_count": 19
        }
      ]
    },
    {
      "cell_type": "code",
      "source": [
        "#Convertir los valores y ver a que tipo cambiaron\n",
        "float(2)\n",
        "type(float(2))\n",
        "int(1.1)\n",
        "type(int(1.1))\n",
        "int('1')\n",
        "float('1.2')\n",
        "str(1)\n",
        "str(1.2)\n",
        "int(True)\n",
        "bool(1)\n",
        "bool(0)\n",
        "float(True)"
      ],
      "metadata": {
        "id": "vsTxwcC6etG5",
        "outputId": "f529461f-76ce-4a9b-d554-9c8e5d5d3e34",
        "colab": {
          "base_uri": "https://localhost:8080/"
        }
      },
      "execution_count": 20,
      "outputs": [
        {
          "output_type": "execute_result",
          "data": {
            "text/plain": [
              "1.0"
            ]
          },
          "metadata": {},
          "execution_count": 20
        }
      ]
    },
    {
      "cell_type": "code",
      "source": [
        "#Convertir un valor con error\n",
        "int('1 or 2 people')"
      ],
      "metadata": {
        "id": "wZXp7ij-evj_",
        "outputId": "8935b431-adcd-4fb6-eb08-547ca18094ef",
        "colab": {
          "base_uri": "https://localhost:8080/",
          "height": 182
        }
      },
      "execution_count": 21,
      "outputs": [
        {
          "output_type": "error",
          "ename": "ValueError",
          "evalue": "ignored",
          "traceback": [
            "\u001b[0;31m---------------------------------------------------------------------------\u001b[0m",
            "\u001b[0;31mValueError\u001b[0m                                Traceback (most recent call last)",
            "\u001b[0;32m<ipython-input-21-b3e7f38bfbb5>\u001b[0m in \u001b[0;36m<module>\u001b[0;34m\u001b[0m\n\u001b[1;32m      1\u001b[0m \u001b[0;31m#Convertir un valor con error\u001b[0m\u001b[0;34m\u001b[0m\u001b[0;34m\u001b[0m\u001b[0;34m\u001b[0m\u001b[0m\n\u001b[0;32m----> 2\u001b[0;31m \u001b[0mint\u001b[0m\u001b[0;34m(\u001b[0m\u001b[0;34m'1 or 2 people'\u001b[0m\u001b[0;34m)\u001b[0m\u001b[0;34m\u001b[0m\u001b[0;34m\u001b[0m\u001b[0m\n\u001b[0m",
            "\u001b[0;31mValueError\u001b[0m: invalid literal for int() with base 10: '1 or 2 people'"
          ]
        }
      ]
    },
    {
      "cell_type": "code",
      "source": [
        "#Calculos\n",
        "#Cuantas horas tiene un minuto\n",
        "160/60 \n"
      ],
      "metadata": {
        "id": "FFBQL1qZe2ep",
        "outputId": "35c11d0b-38e4-4267-8fb1-287c4a314a93",
        "colab": {
          "base_uri": "https://localhost:8080/"
        }
      },
      "execution_count": 22,
      "outputs": [
        {
          "output_type": "execute_result",
          "data": {
            "text/plain": [
              "2.6666666666666665"
            ]
          },
          "metadata": {},
          "execution_count": 22
        }
      ]
    },
    {
      "cell_type": "code",
      "source": [
        "#Guardar valor en variables e imprimirlos\n",
        "x = 43 + 60 + 16 + 41\n",
        "x\n",
        "y = x / 60\n",
        "y\n",
        "total_min = 43 + 42 + 57 \n",
        "total_min\n",
        "total_hours = total_min / 60 \n",
        "total_hours\n",
        "x = 3 + 2 * 2\n",
        "y = (3 + 2) * 2\n",
        "z = x + y\n",
        "z"
      ],
      "metadata": {
        "id": "4fF00qYbe403",
        "outputId": "83e3b33d-f85c-4ca2-d16d-9364f36b5411",
        "colab": {
          "base_uri": "https://localhost:8080/"
        }
      },
      "execution_count": 23,
      "outputs": [
        {
          "output_type": "execute_result",
          "data": {
            "text/plain": [
              "17"
            ]
          },
          "metadata": {},
          "execution_count": 23
        }
      ]
    },
    {
      "cell_type": "code",
      "source": [
        "#Crear diferentes strings de diversas formas\n",
        "'Michael Jackson'\n",
        "\"Michael Jackson\"\n",
        "'@#2_#]&*^%$'\n",
        "\"1 2 3 4 5\""
      ],
      "metadata": {
        "id": "k2cas6kce7Nn"
      },
      "execution_count": null,
      "outputs": []
    },
    {
      "cell_type": "code",
      "source": [
        "#Imprimir cadenas\n",
        "print('Hola Mundo')\n",
        "name = \"Michael Jackson\"\n",
        "name"
      ],
      "metadata": {
        "id": "d_GHkZOWfAyR"
      },
      "execution_count": null,
      "outputs": []
    },
    {
      "cell_type": "code",
      "source": [
        "#Imprimir elementos con indices en diferentes posiciones\n",
        "name=\"Rafael Oliveiros\"\n",
        "print(name[0])\n",
        "print(name[6])\n",
        "print(name[8])"
      ],
      "metadata": {
        "id": "M2TMVfjefCj0"
      },
      "execution_count": null,
      "outputs": []
    },
    {
      "cell_type": "code",
      "source": [
        "#Imprimir elementos en posiciones invertidas\n",
        "name=\"Rafael Oliveiros\"\n",
        "print(name[-2])\n",
        "print(name[-9])\n",
        "print(name[-1])"
      ],
      "metadata": {
        "id": "FrS-lpIbfFjr"
      },
      "execution_count": null,
      "outputs": []
    },
    {
      "cell_type": "code",
      "source": [
        "#Obtener la longitud de una cadena\n",
        "len(\"Michael Jackson\")"
      ],
      "metadata": {
        "id": "_4WsZ3a4fJW4"
      },
      "execution_count": null,
      "outputs": []
    },
    {
      "cell_type": "code",
      "source": [
        "#Obtener elementos d euna cadena en diferentes posiciones, slice\n",
        "name='Pedrito Sola'\n",
        "name[0:4]\n",
        "name[3:8]"
      ],
      "metadata": {
        "id": "mM34CuprfJ4X"
      },
      "execution_count": null,
      "outputs": []
    },
    {
      "cell_type": "code",
      "source": [
        "#Obtener elementos de una cadena dando determinados saltos\n",
        "name=\"Thor Odinson\"\n",
        "name[::2]"
      ],
      "metadata": {
        "id": "VfDWj804fL3k"
      },
      "execution_count": null,
      "outputs": []
    },
    {
      "cell_type": "code",
      "source": [
        "#Obtener elementos de una cadena dando determinados saltos, pero dentro de un rango seleccionado\n",
        "name='Septiembre patrio'\n",
        "name[0:5:2]"
      ],
      "metadata": {
        "id": "YCb_G2tjfN-7"
      },
      "execution_count": null,
      "outputs": []
    },
    {
      "cell_type": "code",
      "source": [
        "#Concatenar dos o mas cadenas e imprimirlas\n",
        "nombre='Carlos'\n",
        "frase=nombre + 'es el mejors'\n",
        "frase"
      ],
      "metadata": {
        "id": "SaXzwBAXfROR"
      },
      "execution_count": null,
      "outputs": []
    },
    {
      "cell_type": "code",
      "source": [
        "#multiplicar una cadena\n",
        "5 * 'frase repetida '"
      ],
      "metadata": {
        "id": "KnDj5S9ufS6t"
      },
      "execution_count": null,
      "outputs": []
    },
    {
      "cell_type": "code",
      "source": [
        "#Usar 3 secuencias de escape\n",
        "print(\" Michael Jackson \\n is the best\" )\n",
        "print(\" Michael Jackson \\t is the best\" )\n",
        "print(\" Michael Jackson \\\\ is the best\" )\n",
        "print(r\" Michael Jackson \\ is the best\" )"
      ],
      "metadata": {
        "id": "BIiKAC7hfUae"
      },
      "execution_count": null,
      "outputs": []
    },
    {
      "cell_type": "code",
      "source": [
        "#USar operadores de cadenas\n",
        "a = \"Hola mundo\"\n",
        "print(\"en minuscula es:\", a)\n",
        "b = a.upper()\n",
        "print(\"en mayuscula es\", b)\n",
        "g='carlos'\n",
        "g.upper()\n",
        "\n",
        "a = \"OScar is the best\"\n",
        "b = a.replace('OScar', 'Carlos')\n",
        "b\n",
        "g.replace('ar','al')\n",
        "\n",
        "name = \"Michael Jackson\"\n",
        "name.find('el')\n",
        "g.find('al')"
      ],
      "metadata": {
        "id": "1IC6Q3V6fWkY"
      },
      "execution_count": null,
      "outputs": []
    },
    {
      "cell_type": "code",
      "source": [
        "#Ver que ocurre cuando no encuentra \n",
        "name.find('Jasdfasdasdf')"
      ],
      "metadata": {
        "id": "9uKE257jfYmY"
      },
      "execution_count": null,
      "outputs": []
    },
    {
      "cell_type": "code",
      "source": [
        "#imrprimir diagonal invertida\n",
        "print(\"\\\\\\\\\\\\\")\n",
        "print(r\"\\ \")"
      ],
      "metadata": {
        "id": "g2DWAjrOfbQ9"
      },
      "execution_count": null,
      "outputs": []
    },
    {
      "cell_type": "markdown",
      "source": [
        "# Módulo 2"
      ],
      "metadata": {
        "id": "JrysZsGCfgZh"
      }
    },
    {
      "cell_type": "code",
      "source": [
        "#Crear un tuple e imprimirlo\n",
        "Tuple=(\"Carlos\",2.3,5,8)\n",
        "Tuple"
      ],
      "metadata": {
        "id": "5o16Zo5Egmju"
      },
      "execution_count": null,
      "outputs": []
    },
    {
      "cell_type": "code",
      "source": [
        "#Obtener los primero dos elementos del tuple\n",
        "Tuple[0:2]"
      ],
      "metadata": {
        "id": "FlMKO6Q-gnye"
      },
      "execution_count": null,
      "outputs": []
    },
    {
      "cell_type": "code",
      "source": [
        "#Crear una lista e imprimirla\n",
        "Lista=[\"Daniel\",3,56,35,\"Federico\"]\n",
        "Lista"
      ],
      "metadata": {
        "id": "adXnkXJYgpSt"
      },
      "execution_count": null,
      "outputs": []
    },
    {
      "cell_type": "code",
      "source": [
        "#Obtener los primeros dos elementos de la lista\n",
        "Lista[0:2]"
      ],
      "metadata": {
        "id": "kZy2JzhqgsIK"
      },
      "execution_count": null,
      "outputs": []
    },
    {
      "cell_type": "code",
      "source": [
        "#Cambiar un valor de la lista\n",
        "Lista[3]=36\n",
        "Lista"
      ],
      "metadata": {
        "id": "LhqxE08WgspF"
      },
      "execution_count": null,
      "outputs": []
    },
    {
      "cell_type": "code",
      "source": [
        "#Crear un diccionario y encontrar un valor\n",
        "Diccionario={'indice1':10, 'indice2':'Perro'}\n",
        "Diccionario['indice2']"
      ],
      "metadata": {
        "id": "oK-p07l0gvQj",
        "outputId": "27b929db-1710-483c-e7f3-6cf989a04578",
        "colab": {
          "base_uri": "https://localhost:8080/",
          "height": 36
        }
      },
      "execution_count": 25,
      "outputs": [
        {
          "output_type": "execute_result",
          "data": {
            "text/plain": [
              "'Perro'"
            ],
            "application/vnd.google.colaboratory.intrinsic+json": {
              "type": "string"
            }
          },
          "metadata": {},
          "execution_count": 25
        }
      ]
    },
    {
      "cell_type": "code",
      "source": [
        "#Crear un diccionario de datos y acceder a sus valores de 2 formas diferentes\n",
        "Diccionario = {\"llave1\": 156, \"key2\": \"2\", \"key3\": ['oso', 'lobo', 'camion'], \"key4\": (4, 4, 4), ('key5'): 5, (0, 'Carlos'): 6}\n",
        "Diccionario\n",
        "Diccionario['llave1']\n",
        "Diccionario[(0,'Carlos')]"
      ],
      "metadata": {
        "id": "NfhXizhufktv"
      },
      "execution_count": null,
      "outputs": []
    },
    {
      "cell_type": "code",
      "source": [
        "#Obtener los valores y las llaves de un diccionario\n",
        "Diccionario.keys()\n",
        "Diccionario.values()"
      ],
      "metadata": {
        "id": "Z8Up8gEef-VT"
      },
      "execution_count": null,
      "outputs": []
    },
    {
      "cell_type": "code",
      "source": [
        "#Anadirvalores del diccionario\n",
        "Diccionario['Pinata'] = 2021\n",
        "Diccionario['Pinata']"
      ],
      "metadata": {
        "id": "cFyRMAoggAOa"
      },
      "execution_count": null,
      "outputs": []
    },
    {
      "cell_type": "code",
      "source": [
        "#Buscar un valor en el diccionario\n",
        "'Pinata' in Diccionario"
      ],
      "metadata": {
        "id": "ncpSkE0agCQj"
      },
      "execution_count": null,
      "outputs": []
    },
    {
      "cell_type": "code",
      "source": [
        "#Eliminar valores del diccionario\n",
        "del(Diccionario['Pinata'])\n",
        "'Pinata' in Diccionario"
      ],
      "metadata": {
        "id": "u0zCtjGwgEBO"
      },
      "execution_count": null,
      "outputs": []
    },
    {
      "cell_type": "code",
      "source": [],
      "metadata": {
        "id": "ofEvASilgLbd"
      },
      "execution_count": null,
      "outputs": []
    }
  ]
}