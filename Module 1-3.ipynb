{
  "nbformat": 4,
  "nbformat_minor": 0,
  "metadata": {
    "colab": {
      "provenance": [],
      "authorship_tag": "ABX9TyN/tPUAf37q/vqrVWdCClNh",
      "include_colab_link": true
    },
    "kernelspec": {
      "name": "python3",
      "display_name": "Python 3"
    },
    "language_info": {
      "name": "python"
    }
  },
  "cells": [
    {
      "cell_type": "markdown",
      "metadata": {
        "id": "view-in-github",
        "colab_type": "text"
      },
      "source": [
        "<a href=\"https://colab.research.google.com/github/PosgradoMNA/actividades-de-aprendizaje-A01373377/blob/main/Module%201-3.ipynb\" target=\"_parent\"><img src=\"https://colab.research.google.com/assets/colab-badge.svg\" alt=\"Open In Colab\"/></a>"
      ]
    },
    {
      "cell_type": "code",
      "execution_count": 2,
      "metadata": {
        "id": "---fTK5FFNUK",
        "colab": {
          "base_uri": "https://localhost:8080/"
        },
        "outputId": "d5559bde-ee07-4238-ad1f-cfd9b09c9335"
      },
      "outputs": [
        {
          "output_type": "stream",
          "name": "stdout",
          "text": [
            "Hello World this is my first code\n"
          ]
        }
      ],
      "source": [
        "#Imprimir Hola mundo\n",
        "print(\"Hello World this is my first code\")"
      ]
    },
    {
      "cell_type": "code",
      "source": [
        "#Imprimir Hola Mundo en dos renglones diferentes\n",
        "print(\"Hello\\nWorld\")"
      ],
      "metadata": {
        "colab": {
          "base_uri": "https://localhost:8080/"
        },
        "id": "Uz1cSu3JW-Fk",
        "outputId": "8be76e12-63c3-43b7-9c5c-e471d199be62"
      },
      "execution_count": 3,
      "outputs": [
        {
          "output_type": "stream",
          "name": "stdout",
          "text": [
            "Hello\n",
            "World\n"
          ]
        }
      ]
    },
    {
      "cell_type": "code",
      "source": [
        "#Encontrar el tipo de la informacion ya sea string, número entero,float, booleano etc\n",
        "#\"Hello World\"\n",
        "type (\"Hello World\")"
      ],
      "metadata": {
        "id": "ZDFmpU6OY3E6",
        "outputId": "cce196d2-088b-4790-846c-3ca34014c382",
        "colab": {
          "base_uri": "https://localhost:8080/"
        }
      },
      "execution_count": 4,
      "outputs": [
        {
          "output_type": "execute_result",
          "data": {
            "text/plain": [
              "str"
            ]
          },
          "metadata": {},
          "execution_count": 4
        }
      ]
    },
    {
      "cell_type": "code",
      "source": [
        "#Encontrar el tipo de la informacion\n",
        "#15.3\"\n",
        "type (15.3)"
      ],
      "metadata": {
        "id": "219ajZMOZH2O",
        "outputId": "996278b7-16d5-4351-dbf6-63c91898f1b6",
        "colab": {
          "base_uri": "https://localhost:8080/"
        }
      },
      "execution_count": 7,
      "outputs": [
        {
          "output_type": "execute_result",
          "data": {
            "text/plain": [
              "float"
            ]
          },
          "metadata": {},
          "execution_count": 7
        }
      ]
    },
    {
      "cell_type": "code",
      "source": [
        "#Convertir el valor primero a entero int a booleano bool\n",
        "#\"2\"\n",
        "bool(int(\"2\"))"
      ],
      "metadata": {
        "id": "kAM-9nSNZLJU",
        "outputId": "a6c3f1f7-80ac-4d49-e911-b16e0176014f",
        "colab": {
          "base_uri": "https://localhost:8080/"
        }
      },
      "execution_count": 10,
      "outputs": [
        {
          "output_type": "execute_result",
          "data": {
            "text/plain": [
              "True"
            ]
          },
          "metadata": {},
          "execution_count": 10
        }
      ]
    },
    {
      "cell_type": "code",
      "source": [
        "#Imprimir una salida\n",
        "print('Hello, my friends!')"
      ],
      "metadata": {
        "id": "eIaYgjJWbgiL",
        "outputId": "6604d9ed-a140-45f6-d0fb-f62a1fa09378",
        "colab": {
          "base_uri": "https://localhost:8080/"
        }
      },
      "execution_count": 12,
      "outputs": [
        {
          "output_type": "stream",
          "name": "stdout",
          "text": [
            "Hello, my friends!\n"
          ]
        }
      ]
    },
    {
      "cell_type": "code",
      "source": [
        "#Revisar nuestra version de python\n",
        "import sys\n",
        "print(sys.version)"
      ],
      "metadata": {
        "id": "ZTYVE2rad2yC",
        "outputId": "9b89227a-fc22-49fe-fbaf-73a997acc7aa",
        "colab": {
          "base_uri": "https://localhost:8080/"
        }
      },
      "execution_count": 13,
      "outputs": [
        {
          "output_type": "stream",
          "name": "stdout",
          "text": [
            "3.7.14 (default, Sep  8 2022, 00:06:44) \n",
            "[GCC 7.5.0]\n"
          ]
        }
      ]
    },
    {
      "cell_type": "code",
      "source": [
        "#Escribir comentarios\n",
        "print('Hello, Python!') #Esta linea imprime una cadena"
      ],
      "metadata": {
        "id": "VQgJd5CGd4fE",
        "outputId": "f8317d51-eb7b-4430-916a-32c1ee8c1b8e",
        "colab": {
          "base_uri": "https://localhost:8080/"
        }
      },
      "execution_count": 15,
      "outputs": [
        {
          "output_type": "stream",
          "name": "stdout",
          "text": [
            "Hello, Python!\n"
          ]
        }
      ]
    },
    {
      "cell_type": "code",
      "source": [
        "#Escribir un codigo erroneo\n",
        "print(\"Hello, Python!) \n",
        "#porque debemos cerrar el comentario con el \"\""
      ],
      "metadata": {
        "id": "aMF7wWsZeB5Y",
        "outputId": "63b00560-426a-4814-b735-ffae3ee867a8",
        "colab": {
          "base_uri": "https://localhost:8080/",
          "height": 130
        }
      },
      "execution_count": 16,
      "outputs": [
        {
          "output_type": "error",
          "ename": "SyntaxError",
          "evalue": "ignored",
          "traceback": [
            "\u001b[0;36m  File \u001b[0;32m\"<ipython-input-16-e32f515a182e>\"\u001b[0;36m, line \u001b[0;32m2\u001b[0m\n\u001b[0;31m    print(\"Hello, Python!)\u001b[0m\n\u001b[0m                          ^\u001b[0m\n\u001b[0;31mSyntaxError\u001b[0m\u001b[0;31m:\u001b[0m EOL while scanning string literal\n"
          ]
        }
      ]
    }
  ]
}