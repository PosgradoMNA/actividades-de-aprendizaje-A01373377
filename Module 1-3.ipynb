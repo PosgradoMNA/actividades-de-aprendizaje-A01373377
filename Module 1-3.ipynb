{
  "nbformat": 4,
  "nbformat_minor": 0,
  "metadata": {
    "colab": {
      "provenance": [],
      "include_colab_link": true
    },
    "kernelspec": {
      "name": "python3",
      "display_name": "Python 3"
    },
    "language_info": {
      "name": "python"
    }
  },
  "cells": [
    {
      "cell_type": "markdown",
      "metadata": {
        "id": "view-in-github",
        "colab_type": "text"
      },
      "source": [
        "<a href=\"https://colab.research.google.com/github/PosgradoMNA/actividades-de-aprendizaje-A01373377/blob/main/Module%201-3.ipynb\" target=\"_parent\"><img src=\"https://colab.research.google.com/assets/colab-badge.svg\" alt=\"Open In Colab\"/></a>"
      ]
    },
    {
      "cell_type": "markdown",
      "source": [
        "### Este link contiene un cuaderno en pdf donde he hecho notas sobre la programación en Python, las notas relevantes están desde la página 36 a la 65\n",
        "\n",
        "\n",
        "[link text](https://drive.google.com/file/d/1t-fGTZZzmt5B7P_E0tE47PpHTFYCsoHZ/view?usp=sharing)\n",
        "\n"
      ],
      "metadata": {
        "id": "wZDQPlKrsdZN"
      }
    },
    {
      "cell_type": "markdown",
      "source": [
        "# Módulo 1"
      ],
      "metadata": {
        "id": "YROLSJdlfpC5"
      }
    },
    {
      "cell_type": "markdown",
      "source": [
        "## Los objetivos de este Módulo 1 son:\n",
        "\n",
        "\n",
        "*   Entender los tipos de Data en Python\n",
        "*   Conocer los tipos de variables y expresiones de Python\n",
        "*   Ser capaz de hacer operaciones básicas a strings\n",
        "\n",
        "\n",
        "\n"
      ],
      "metadata": {
        "id": "SNjs6F4Fek2i"
      }
    },
    {
      "cell_type": "markdown",
      "source": [
        "Los tipos de errores que podemos tener en Python son se Syntaxis o de Semantica\n",
        "\n",
        "\n",
        "*   Error de Syntaxis es cuando la redacción es incorrecta\n",
        "*   Error de Semántica es cuando la lógica del código es incorrecta\n",
        "\n"
      ],
      "metadata": {
        "id": "BMTa78HogWAn"
      }
    },
    {
      "cell_type": "code",
      "execution_count": null,
      "metadata": {
        "id": "---fTK5FFNUK",
        "colab": {
          "base_uri": "https://localhost:8080/"
        },
        "outputId": "d5559bde-ee07-4238-ad1f-cfd9b09c9335"
      },
      "outputs": [
        {
          "output_type": "stream",
          "name": "stdout",
          "text": [
            "Hello World this is my first code\n"
          ]
        }
      ],
      "source": [
        "#Imprimir Hola mundo\n",
        "print(\"Hello World this is my first code\")"
      ]
    },
    {
      "cell_type": "markdown",
      "source": [
        "Para poder imprimir un código en renglones diferentes se utiliza la expresión \"\\n\" o también podemos póner \"\"\" \"\"\" las triples comillas dobles nos respetan los espacios"
      ],
      "metadata": {
        "id": "bDT6B2B8g82f"
      }
    },
    {
      "cell_type": "code",
      "source": [
        "#Imprimir Hola Mundo en dos renglones diferentes\n",
        "print(\"Hello\\nWorld\")"
      ],
      "metadata": {
        "colab": {
          "base_uri": "https://localhost:8080/"
        },
        "id": "Uz1cSu3JW-Fk",
        "outputId": "8be76e12-63c3-43b7-9c5c-e471d199be62"
      },
      "execution_count": null,
      "outputs": [
        {
          "output_type": "stream",
          "name": "stdout",
          "text": [
            "Hello\n",
            "World\n"
          ]
        }
      ]
    },
    {
      "cell_type": "code",
      "source": [
        "#Imprimir con espacios por medio de las triples comillas dobles\n",
        "print(\"\"\"Hola\n",
        "mundo\n",
        "soy Fer\"\"\")"
      ],
      "metadata": {
        "id": "pwG0Sa1sjVEz",
        "outputId": "d933c336-7797-48c1-900c-6a05890e9a9f",
        "colab": {
          "base_uri": "https://localhost:8080/"
        }
      },
      "execution_count": 1,
      "outputs": [
        {
          "output_type": "stream",
          "name": "stdout",
          "text": [
            "Hola\n",
            "mundo\n",
            "soy Fer\n"
          ]
        }
      ]
    },
    {
      "cell_type": "code",
      "source": [
        "#Encontrar el tipo de la informacion ya sea string, número entero,float, booleano etc\n",
        "#\"Hello World\"\n",
        "type (\"Hello World\")"
      ],
      "metadata": {
        "colab": {
          "base_uri": "https://localhost:8080/"
        },
        "id": "ZDFmpU6OY3E6",
        "outputId": "cce196d2-088b-4790-846c-3ca34014c382"
      },
      "execution_count": null,
      "outputs": [
        {
          "output_type": "execute_result",
          "data": {
            "text/plain": [
              "str"
            ]
          },
          "metadata": {},
          "execution_count": 4
        }
      ]
    },
    {
      "cell_type": "code",
      "source": [
        "#Encontrar el tipo de la informacion\n",
        "#15.3\"\n",
        "type (15.3)"
      ],
      "metadata": {
        "colab": {
          "base_uri": "https://localhost:8080/"
        },
        "id": "219ajZMOZH2O",
        "outputId": "996278b7-16d5-4351-dbf6-63c91898f1b6"
      },
      "execution_count": null,
      "outputs": [
        {
          "output_type": "execute_result",
          "data": {
            "text/plain": [
              "float"
            ]
          },
          "metadata": {},
          "execution_count": 7
        }
      ]
    },
    {
      "cell_type": "code",
      "source": [
        "#Convertir el valor primero a entero int a booleano bool\n",
        "#\"2\"\n",
        "bool(int(\"2\"))"
      ],
      "metadata": {
        "colab": {
          "base_uri": "https://localhost:8080/"
        },
        "id": "kAM-9nSNZLJU",
        "outputId": "a6c3f1f7-80ac-4d49-e911-b16e0176014f"
      },
      "execution_count": null,
      "outputs": [
        {
          "output_type": "execute_result",
          "data": {
            "text/plain": [
              "True"
            ]
          },
          "metadata": {},
          "execution_count": 10
        }
      ]
    },
    {
      "cell_type": "code",
      "source": [
        "#Imprimir una salida\n",
        "print('Hello, my friends!')"
      ],
      "metadata": {
        "colab": {
          "base_uri": "https://localhost:8080/"
        },
        "id": "eIaYgjJWbgiL",
        "outputId": "6604d9ed-a140-45f6-d0fb-f62a1fa09378"
      },
      "execution_count": null,
      "outputs": [
        {
          "output_type": "stream",
          "name": "stdout",
          "text": [
            "Hello, my friends!\n"
          ]
        }
      ]
    },
    {
      "cell_type": "code",
      "source": [
        "#Revisar nuestra version de python\n",
        "import sys\n",
        "print(sys.version)"
      ],
      "metadata": {
        "colab": {
          "base_uri": "https://localhost:8080/"
        },
        "id": "ZTYVE2rad2yC",
        "outputId": "9b89227a-fc22-49fe-fbaf-73a997acc7aa"
      },
      "execution_count": null,
      "outputs": [
        {
          "output_type": "stream",
          "name": "stdout",
          "text": [
            "3.7.14 (default, Sep  8 2022, 00:06:44) \n",
            "[GCC 7.5.0]\n"
          ]
        }
      ]
    },
    {
      "cell_type": "code",
      "source": [
        "#Escribir comentarios\n",
        "print('Hello, Python!') #Esta linea imprime una cadena"
      ],
      "metadata": {
        "colab": {
          "base_uri": "https://localhost:8080/"
        },
        "id": "VQgJd5CGd4fE",
        "outputId": "f8317d51-eb7b-4430-916a-32c1ee8c1b8e"
      },
      "execution_count": null,
      "outputs": [
        {
          "output_type": "stream",
          "name": "stdout",
          "text": [
            "Hello, Python!\n"
          ]
        }
      ]
    },
    {
      "cell_type": "code",
      "source": [
        "#Escribir un codigo erroneo\n",
        "print(\"Hello, Python!) \n",
        "#porque debemos cerrar el comentario con el \"\""
      ],
      "metadata": {
        "colab": {
          "base_uri": "https://localhost:8080/",
          "height": 130
        },
        "id": "aMF7wWsZeB5Y",
        "outputId": "63b00560-426a-4814-b735-ffae3ee867a8"
      },
      "execution_count": null,
      "outputs": [
        {
          "output_type": "error",
          "ename": "SyntaxError",
          "evalue": "ignored",
          "traceback": [
            "\u001b[0;36m  File \u001b[0;32m\"<ipython-input-16-e32f515a182e>\"\u001b[0;36m, line \u001b[0;32m2\u001b[0m\n\u001b[0;31m    print(\"Hello, Python!)\u001b[0m\n\u001b[0m                          ^\u001b[0m\n\u001b[0;31mSyntaxError\u001b[0m\u001b[0;31m:\u001b[0m EOL while scanning string literal\n"
          ]
        }
      ]
    },
    {
      "cell_type": "code",
      "source": [
        "#Escribir tres cadenas, una con error, para ver el orden\n",
        "print(\"This will be printed\")\n",
        "frint(\"This will cause an error\")\n",
        "print(\"This will NOT be printed\")"
      ],
      "metadata": {
        "colab": {
          "base_uri": "https://localhost:8080/",
          "height": 235
        },
        "id": "aKZFj6-ieebw",
        "outputId": "7b9ae282-cc70-4b18-f872-11d9aadaf565"
      },
      "execution_count": null,
      "outputs": [
        {
          "output_type": "stream",
          "name": "stdout",
          "text": [
            "This will be printed\n"
          ]
        },
        {
          "output_type": "error",
          "ename": "NameError",
          "evalue": "ignored",
          "traceback": [
            "\u001b[0;31m---------------------------------------------------------------------------\u001b[0m",
            "\u001b[0;31mNameError\u001b[0m                                 Traceback (most recent call last)",
            "\u001b[0;32m<ipython-input-17-351d14488c80>\u001b[0m in \u001b[0;36m<module>\u001b[0;34m\u001b[0m\n\u001b[1;32m      1\u001b[0m \u001b[0;31m#Escribir tres cadenas, una con error, para ver el orden\u001b[0m\u001b[0;34m\u001b[0m\u001b[0;34m\u001b[0m\u001b[0;34m\u001b[0m\u001b[0m\n\u001b[1;32m      2\u001b[0m \u001b[0mprint\u001b[0m\u001b[0;34m(\u001b[0m\u001b[0;34m\"This will be printed\"\u001b[0m\u001b[0;34m)\u001b[0m\u001b[0;34m\u001b[0m\u001b[0;34m\u001b[0m\u001b[0m\n\u001b[0;32m----> 3\u001b[0;31m \u001b[0mfrint\u001b[0m\u001b[0;34m(\u001b[0m\u001b[0;34m\"This will cause an error\"\u001b[0m\u001b[0;34m)\u001b[0m\u001b[0;34m\u001b[0m\u001b[0;34m\u001b[0m\u001b[0m\n\u001b[0m\u001b[1;32m      4\u001b[0m \u001b[0mprint\u001b[0m\u001b[0;34m(\u001b[0m\u001b[0;34m\"This will NOT be printed\"\u001b[0m\u001b[0;34m)\u001b[0m\u001b[0;34m\u001b[0m\u001b[0;34m\u001b[0m\u001b[0m\n",
            "\u001b[0;31mNameError\u001b[0m: name 'frint' is not defined"
          ]
        }
      ]
    },
    {
      "cell_type": "code",
      "source": [
        "#Encontrar los tipos de informaci[on\n",
        "type(12)\n",
        "type(2.14)\n",
        "type(\"Hello, Python 101!\")\n",
        "type(-1)\n",
        "type(4)\n",
        "type(0)\n",
        "type(1.0)\n",
        "type(0.5)\n",
        "type(0.56)\n",
        "type(False)\n",
        "type(True)\n",
        "type (6/2)\n",
        "type(6//2)"
      ],
      "metadata": {
        "colab": {
          "base_uri": "https://localhost:8080/"
        },
        "id": "dUhnAEnHehQV",
        "outputId": "70918319-511e-4cdf-9dd6-04c9a7f0d480"
      },
      "execution_count": null,
      "outputs": [
        {
          "output_type": "execute_result",
          "data": {
            "text/plain": [
              "int"
            ]
          },
          "metadata": {},
          "execution_count": 18
        }
      ]
    },
    {
      "cell_type": "code",
      "source": [
        "#Conocer la informacion del sistema sobre el tipo flotante\n",
        "sys.float_info"
      ],
      "metadata": {
        "colab": {
          "base_uri": "https://localhost:8080/"
        },
        "id": "iOx6gRy8enZG",
        "outputId": "ba96bf86-599e-47c2-9904-befd7a93706b"
      },
      "execution_count": null,
      "outputs": [
        {
          "output_type": "execute_result",
          "data": {
            "text/plain": [
              "sys.float_info(max=1.7976931348623157e+308, max_exp=1024, max_10_exp=308, min=2.2250738585072014e-308, min_exp=-1021, min_10_exp=-307, dig=15, mant_dig=53, epsilon=2.220446049250313e-16, radix=2, rounds=1)"
            ]
          },
          "metadata": {},
          "execution_count": 19
        }
      ]
    },
    {
      "cell_type": "code",
      "source": [
        "#Convertir los valores y ver a que tipo cambiaron\n",
        "float(2)\n",
        "type(float(2))\n",
        "int(1.1)\n",
        "type(int(1.1))\n",
        "int('1')\n",
        "float('1.2')\n",
        "str(1)\n",
        "str(1.2)\n",
        "int(True)\n",
        "bool(1)\n",
        "bool(0)\n",
        "float(True)"
      ],
      "metadata": {
        "colab": {
          "base_uri": "https://localhost:8080/"
        },
        "id": "vsTxwcC6etG5",
        "outputId": "f529461f-76ce-4a9b-d554-9c8e5d5d3e34"
      },
      "execution_count": null,
      "outputs": [
        {
          "output_type": "execute_result",
          "data": {
            "text/plain": [
              "1.0"
            ]
          },
          "metadata": {},
          "execution_count": 20
        }
      ]
    },
    {
      "cell_type": "code",
      "source": [
        "#Convertir un valor con error\n",
        "int('1 or 2 people')"
      ],
      "metadata": {
        "colab": {
          "base_uri": "https://localhost:8080/",
          "height": 182
        },
        "id": "wZXp7ij-evj_",
        "outputId": "8935b431-adcd-4fb6-eb08-547ca18094ef"
      },
      "execution_count": null,
      "outputs": [
        {
          "output_type": "error",
          "ename": "ValueError",
          "evalue": "ignored",
          "traceback": [
            "\u001b[0;31m---------------------------------------------------------------------------\u001b[0m",
            "\u001b[0;31mValueError\u001b[0m                                Traceback (most recent call last)",
            "\u001b[0;32m<ipython-input-21-b3e7f38bfbb5>\u001b[0m in \u001b[0;36m<module>\u001b[0;34m\u001b[0m\n\u001b[1;32m      1\u001b[0m \u001b[0;31m#Convertir un valor con error\u001b[0m\u001b[0;34m\u001b[0m\u001b[0;34m\u001b[0m\u001b[0;34m\u001b[0m\u001b[0m\n\u001b[0;32m----> 2\u001b[0;31m \u001b[0mint\u001b[0m\u001b[0;34m(\u001b[0m\u001b[0;34m'1 or 2 people'\u001b[0m\u001b[0;34m)\u001b[0m\u001b[0;34m\u001b[0m\u001b[0;34m\u001b[0m\u001b[0m\n\u001b[0m",
            "\u001b[0;31mValueError\u001b[0m: invalid literal for int() with base 10: '1 or 2 people'"
          ]
        }
      ]
    },
    {
      "cell_type": "code",
      "source": [
        "#Calculos\n",
        "#Cuantas horas tiene un minuto\n",
        "160/60 \n"
      ],
      "metadata": {
        "colab": {
          "base_uri": "https://localhost:8080/"
        },
        "id": "FFBQL1qZe2ep",
        "outputId": "35c11d0b-38e4-4267-8fb1-287c4a314a93"
      },
      "execution_count": null,
      "outputs": [
        {
          "output_type": "execute_result",
          "data": {
            "text/plain": [
              "2.6666666666666665"
            ]
          },
          "metadata": {},
          "execution_count": 22
        }
      ]
    },
    {
      "cell_type": "code",
      "source": [
        "#Guardar valor en variables e imprimirlos\n",
        "x = 43 + 60 + 16 + 41\n",
        "x\n",
        "y = x / 60\n",
        "y\n",
        "total_min = 43 + 42 + 57 \n",
        "total_min\n",
        "total_hours = total_min / 60 \n",
        "total_hours\n",
        "x = 3 + 2 * 2\n",
        "y = (3 + 2) * 2\n",
        "z = x + y\n",
        "z"
      ],
      "metadata": {
        "colab": {
          "base_uri": "https://localhost:8080/"
        },
        "id": "4fF00qYbe403",
        "outputId": "83e3b33d-f85c-4ca2-d16d-9364f36b5411"
      },
      "execution_count": null,
      "outputs": [
        {
          "output_type": "execute_result",
          "data": {
            "text/plain": [
              "17"
            ]
          },
          "metadata": {},
          "execution_count": 23
        }
      ]
    },
    {
      "cell_type": "code",
      "source": [
        "#Crear diferentes strings de diversas formas\n",
        "'Michael Jackson'\n",
        "\"Michael Jackson\"\n",
        "'@#2_#]&*^%$'\n",
        "\"1 2 3 4 5\""
      ],
      "metadata": {
        "id": "k2cas6kce7Nn"
      },
      "execution_count": null,
      "outputs": []
    },
    {
      "cell_type": "code",
      "source": [
        "#Imprimir cadenas\n",
        "print('Hola Mundo')\n",
        "name = \"Michael Jackson\"\n",
        "name"
      ],
      "metadata": {
        "id": "d_GHkZOWfAyR"
      },
      "execution_count": null,
      "outputs": []
    },
    {
      "cell_type": "code",
      "source": [
        "#Imprimir elementos con indices en diferentes posiciones\n",
        "name=\"Rafael Oliveiros\"\n",
        "print(name[0])\n",
        "print(name[6])\n",
        "print(name[8])"
      ],
      "metadata": {
        "id": "M2TMVfjefCj0"
      },
      "execution_count": null,
      "outputs": []
    },
    {
      "cell_type": "code",
      "source": [
        "#Imprimir elementos en posiciones invertidas\n",
        "name=\"Rafael Oliveiros\"\n",
        "print(name[-2])\n",
        "print(name[-9])\n",
        "print(name[-1])"
      ],
      "metadata": {
        "id": "FrS-lpIbfFjr"
      },
      "execution_count": null,
      "outputs": []
    },
    {
      "cell_type": "code",
      "source": [
        "#Obtener la longitud de una cadena\n",
        "len(\"Michael Jackson\")"
      ],
      "metadata": {
        "id": "_4WsZ3a4fJW4"
      },
      "execution_count": null,
      "outputs": []
    },
    {
      "cell_type": "code",
      "source": [
        "#Obtener elementos d euna cadena en diferentes posiciones, slice\n",
        "name='Pedrito Sola'\n",
        "name[0:4]\n",
        "name[3:8]"
      ],
      "metadata": {
        "id": "mM34CuprfJ4X"
      },
      "execution_count": null,
      "outputs": []
    },
    {
      "cell_type": "code",
      "source": [
        "#Obtener elementos de una cadena dando determinados saltos\n",
        "name=\"Thor Odinson\"\n",
        "name[::2]"
      ],
      "metadata": {
        "id": "VfDWj804fL3k"
      },
      "execution_count": null,
      "outputs": []
    },
    {
      "cell_type": "code",
      "source": [
        "#Obtener elementos de una cadena dando determinados saltos, pero dentro de un rango seleccionado\n",
        "name='Septiembre patrio'\n",
        "name[0:5:2]"
      ],
      "metadata": {
        "id": "YCb_G2tjfN-7"
      },
      "execution_count": null,
      "outputs": []
    },
    {
      "cell_type": "code",
      "source": [
        "#Concatenar dos o mas cadenas e imprimirlas\n",
        "nombre='Carlos'\n",
        "frase=nombre + 'es el mejors'\n",
        "frase"
      ],
      "metadata": {
        "id": "SaXzwBAXfROR"
      },
      "execution_count": null,
      "outputs": []
    },
    {
      "cell_type": "code",
      "source": [
        "#multiplicar una cadena\n",
        "5 * 'frase repetida '"
      ],
      "metadata": {
        "id": "KnDj5S9ufS6t"
      },
      "execution_count": null,
      "outputs": []
    },
    {
      "cell_type": "code",
      "source": [
        "#Usar 3 secuencias de escape\n",
        "print(\" Michael Jackson \\n is the best\" )\n",
        "print(\" Michael Jackson \\t is the best\" )\n",
        "print(\" Michael Jackson \\\\ is the best\" )\n",
        "print(r\" Michael Jackson \\ is the best\" )"
      ],
      "metadata": {
        "id": "BIiKAC7hfUae"
      },
      "execution_count": null,
      "outputs": []
    },
    {
      "cell_type": "code",
      "source": [
        "#USar operadores de cadenas\n",
        "a = \"Hola mundo\"\n",
        "print(\"en minuscula es:\", a)\n",
        "b = a.upper()\n",
        "print(\"en mayuscula es\", b)\n",
        "g='carlos'\n",
        "g.upper()\n",
        "\n",
        "a = \"OScar is the best\"\n",
        "b = a.replace('OScar', 'Carlos')\n",
        "b\n",
        "g.replace('ar','al')\n",
        "\n",
        "name = \"Michael Jackson\"\n",
        "name.find('el')\n",
        "g.find('al')"
      ],
      "metadata": {
        "id": "1IC6Q3V6fWkY"
      },
      "execution_count": null,
      "outputs": []
    },
    {
      "cell_type": "code",
      "source": [
        "#Ver que ocurre cuando no encuentra \n",
        "name.find('Jasdfasdasdf')"
      ],
      "metadata": {
        "id": "9uKE257jfYmY"
      },
      "execution_count": null,
      "outputs": []
    },
    {
      "cell_type": "code",
      "source": [
        "#imrprimir diagonal invertida\n",
        "print(\"\\\\\\\\\\\\\")\n",
        "print(r\"\\ \")"
      ],
      "metadata": {
        "id": "g2DWAjrOfbQ9"
      },
      "execution_count": null,
      "outputs": []
    },
    {
      "cell_type": "markdown",
      "source": [
        "# Módulo 2"
      ],
      "metadata": {
        "id": "JrysZsGCfgZh"
      }
    },
    {
      "cell_type": "code",
      "source": [
        "#Crear un tuple e imprimirlo\n",
        "Tuple=(\"Carlos\",2.3,5,8)\n",
        "Tuple"
      ],
      "metadata": {
        "id": "5o16Zo5Egmju"
      },
      "execution_count": null,
      "outputs": []
    },
    {
      "cell_type": "code",
      "source": [
        "#Obtener los primero dos elementos del tuple\n",
        "Tuple[0:2]"
      ],
      "metadata": {
        "id": "FlMKO6Q-gnye"
      },
      "execution_count": null,
      "outputs": []
    },
    {
      "cell_type": "code",
      "source": [
        "#Crear una lista e imprimirla\n",
        "Lista=[\"Daniel\",3,56,35,\"Federico\"]\n",
        "Lista"
      ],
      "metadata": {
        "id": "adXnkXJYgpSt"
      },
      "execution_count": null,
      "outputs": []
    },
    {
      "cell_type": "code",
      "source": [
        "#Obtener los primeros dos elementos de la lista\n",
        "Lista[0:2]"
      ],
      "metadata": {
        "id": "kZy2JzhqgsIK"
      },
      "execution_count": null,
      "outputs": []
    },
    {
      "cell_type": "code",
      "source": [
        "#Cambiar un valor de la lista\n",
        "Lista[3]=36\n",
        "Lista"
      ],
      "metadata": {
        "id": "LhqxE08WgspF"
      },
      "execution_count": null,
      "outputs": []
    },
    {
      "cell_type": "code",
      "source": [
        "#Crear un tuple e imprimirlo\n",
        "Tuple_ejemplo=(\"cesar\",1.5,5,46,98,\"ramon\")\n",
        "Tuple_ejemplo"
      ],
      "metadata": {
        "id": "a1xKSa3OhKe3"
      },
      "execution_count": null,
      "outputs": []
    },
    {
      "cell_type": "code",
      "source": [
        "#Imprimir el tipo de tuple\n",
        "type(Tuple_ejemplo)"
      ],
      "metadata": {
        "id": "An4QqhzOhLPp"
      },
      "execution_count": null,
      "outputs": []
    },
    {
      "cell_type": "code",
      "source": [
        "#Imprimir cada valor del tuple\n",
        "Tuple_ejemplo[0]\n",
        "Tuple_ejemplo[1]\n",
        "Tuple_ejemplo[2]\n",
        "Tuple_ejemplo[3]\n",
        "Tuple_ejemplo[4]\n",
        "Tuple_ejemplo[5]"
      ],
      "metadata": {
        "id": "oTsuVyUShMup"
      },
      "execution_count": null,
      "outputs": []
    },
    {
      "cell_type": "code",
      "source": [
        "#imptimr el tipo de cada valor del tuple\n",
        "type(Tuple_ejemplo[0])\n",
        "type(Tuple_ejemplo[1])\n",
        "type(Tuple_ejemplo[2])\n",
        "type(Tuple_ejemplo[3])\n",
        "type(Tuple_ejemplo[4])\n",
        "type(Tuple_ejemplo[5])"
      ],
      "metadata": {
        "id": "Mn8T_bbQhOxN"
      },
      "execution_count": null,
      "outputs": []
    },
    {
      "cell_type": "code",
      "source": [
        "#Usar la indezacion negativa\n",
        "Tuple_ejemplo[-1]"
      ],
      "metadata": {
        "id": "lEzvmOoNhQhl"
      },
      "execution_count": null,
      "outputs": []
    },
    {
      "cell_type": "code",
      "source": [
        "#Concatenar dos tuples\n",
        "Tuple1 = (1,2,3,4,5,6)\n",
        "Tuple2 = (\"Victoria\",\"Francisca\",\"Namora\")\n",
        "Tuple3 = Tuple1 + Tuple2 + (\"Etcetera\",1)\n",
        "Tuple3"
      ],
      "metadata": {
        "id": "QzN_uSpNhSM1"
      },
      "execution_count": null,
      "outputs": []
    },
    {
      "cell_type": "code",
      "source": [
        "#Utilizar slice y medir la longitud del tuple\n",
        "Tuple3[2:4]\n",
        "len(Tuple3)"
      ],
      "metadata": {
        "id": "HKV9365uhURs"
      },
      "execution_count": null,
      "outputs": []
    },
    {
      "cell_type": "code",
      "source": [
        "#Ordenar un tuple\n",
        "Tuple4=(65,54,87,4,5,1,2,3,654,98)\n",
        "Tuple5=sorted(Tuple4)\n",
        "Tuple5"
      ],
      "metadata": {
        "id": "cAoAlcGDhWNl"
      },
      "execution_count": null,
      "outputs": []
    },
    {
      "cell_type": "code",
      "source": [
        "#Hacer tuple anidada e imprimir elementos\n",
        "Tuple6=(1,2,3,(\"Cuatro\",\"Cinco\"),6,7,(\"Ocho\",\"Nueve\",(10,11)))\n",
        "print(\"El primer elemento del tuple es:\", Tuple6[0])\n",
        "print(\"El primer elemento del tuple anidado es:\", Tuple6[3][1])\n",
        "print(\"El primer elemento del tuple de segundo anidado es:\", Tuple6[6][2][0])"
      ],
      "metadata": {
        "id": "rSCfX-WShZS2"
      },
      "execution_count": null,
      "outputs": []
    },
    {
      "cell_type": "code",
      "source": [
        "#Encontrar la posicion o el indice de un elemento\n",
        "Tuple6.index(7)"
      ],
      "metadata": {
        "id": "i5U7OrRKhcFG"
      },
      "execution_count": null,
      "outputs": []
    },
    {
      "cell_type": "code",
      "source": [
        "#Convertir una lista en un set\n",
        "Lista=['a','b','c']\n",
        "Mi_set=set(Lista)\n",
        "Mi_set"
      ],
      "metadata": {
        "id": "cDeckE_tiCWX"
      },
      "execution_count": null,
      "outputs": []
    },
    {
      "cell_type": "code",
      "source": [
        "#Anadir un elemento a un set\n",
        "Set1={'A','B','C'}\n",
        "Set1.add('Casa')\n",
        "Set1"
      ],
      "metadata": {
        "id": "Pt9qEe77iDpy"
      },
      "execution_count": null,
      "outputs": []
    },
    {
      "cell_type": "code",
      "source": [
        "#Hacer una interseccion entre dos sets\n",
        "Set2={'A','B','C','z','g','f'}\n",
        "Set1&Set2\n",
        "Set1.intersection(Set2)"
      ],
      "metadata": {
        "id": "hehaDwA4iFFw"
      },
      "execution_count": null,
      "outputs": []
    },
    {
      "cell_type": "code",
      "source": [
        "#Crear una lista e imprimirla\n",
        "Lista=[\"Camion\",1,2,3,\"Vaca\"]\n",
        "Lista"
      ],
      "metadata": {
        "id": "Tdi2YLxPhev-"
      },
      "execution_count": null,
      "outputs": []
    },
    {
      "cell_type": "code",
      "source": [
        "#Imprimir con idnices positivos y negativos\n",
        "print(\"EL primer elemento es\",Lista[0])\n",
        "print(\"Primer elemento con indice inverso es\",Lista[-5])"
      ],
      "metadata": {
        "id": "y28POBzvhfP0"
      },
      "execution_count": null,
      "outputs": []
    },
    {
      "cell_type": "code",
      "source": [
        "#Rebanar una lista\n",
        "Lista2=[\"Perro\",23,56,(\"Casa\",\"Oscar\"),89,91,[\"zapatos\",3]]\n",
        "Lista2[1:4]"
      ],
      "metadata": {
        "id": "IDyM61i7hg2_"
      },
      "execution_count": null,
      "outputs": []
    },
    {
      "cell_type": "code",
      "source": [
        "#Extender una lista de dos formas diferntes\n",
        "Lista2.extend([4,29])\n",
        "Lista2\n",
        "Lista2.append([35,295])\n",
        "Lista2"
      ],
      "metadata": {
        "id": "lmNbMmA0hifc"
      },
      "execution_count": null,
      "outputs": []
    },
    {
      "cell_type": "code",
      "source": [
        "#Modificar y eliminar elementos de la lista\n",
        "Lista2[0]='Gato'\n",
        "print (\"La lista vieja\",Lista2)\n",
        "del(Lista2[1])\n",
        "print(\"La lista nueva\",Lista2)"
      ],
      "metadata": {
        "id": "5ohFU1TQhkl9"
      },
      "execution_count": null,
      "outputs": []
    },
    {
      "cell_type": "code",
      "source": [
        "#Dividir cadena de dos formas diferentes\n",
        "\"Hola buenos dias\".split()"
      ],
      "metadata": {
        "id": "bkwSAvVWhmRB"
      },
      "execution_count": null,
      "outputs": []
    },
    {
      "cell_type": "code",
      "source": [
        "\"Hola buenos, dias, que tal\".split(\",\")"
      ],
      "metadata": {
        "id": "k_FklktPhn9x"
      },
      "execution_count": null,
      "outputs": []
    },
    {
      "cell_type": "code",
      "source": [
        "#Copiar una lista con aliasing\n",
        "Lista3 = Lista2\n",
        "Lista3"
      ],
      "metadata": {
        "id": "FdmKQ-sShrWq"
      },
      "execution_count": null,
      "outputs": []
    },
    {
      "cell_type": "code",
      "source": [
        "#Clonar una lista, es decir sin aliasing\n",
        "Lista4=Lista3[:]\n",
        "Lista4"
      ],
      "metadata": {
        "id": "rZRxZBMchtJu"
      },
      "execution_count": null,
      "outputs": []
    },
    {
      "cell_type": "code",
      "source": [
        "#Concatenar listas\n",
        "Lista5=Lista3+Lista2\n",
        "Lista5"
      ],
      "metadata": {
        "id": "3UNBKs3ehtmi"
      },
      "execution_count": null,
      "outputs": []
    },
    {
      "cell_type": "code",
      "source": [
        "#Crear un set e imprimirlo\n",
        "set1 = {\"pop\", \"rock\", \"soul\", \"hard rock\", \"rock\", \"R&B\", \"rock\", \"disco\"}\n",
        "set1"
      ],
      "metadata": {
        "id": "2FNkbJ1_hvzZ"
      },
      "execution_count": null,
      "outputs": []
    },
    {
      "cell_type": "code",
      "source": [
        "#Convertir una lista en un set y anadir elementos\n",
        "Set_de_musica=set(['pop','cumbia','salsa'])\n",
        "Set_de_musica.add('nerengue')\n",
        "Set_de_musica"
      ],
      "metadata": {
        "id": "-dZoVxvdhy9y"
      },
      "execution_count": null,
      "outputs": []
    },
    {
      "cell_type": "code",
      "source": [
        "#Buscar un elemento y eliminarlos\n",
        "'nerengue' in Set_de_musica\n",
        "Set_de_musica.remove('nerengue')\n",
        "Set_de_musica"
      ],
      "metadata": {
        "id": "PeTwx_Cwh0bf"
      },
      "execution_count": null,
      "outputs": []
    },
    {
      "cell_type": "code",
      "source": [
        "#unir dos sets y buscar la interseccion\n",
        "Set2={'pop','bumbia','regue','ska'}\n",
        "Set_de_musica,set2\n",
        "interseccion=Set_de_musica&set2\n",
        "interseccion"
      ],
      "metadata": {
        "id": "qnDZv3rxh11c"
      },
      "execution_count": null,
      "outputs": []
    },
    {
      "cell_type": "code",
      "source": [
        "#Buscar los elementos que estan solo en un set usando difference\n",
        "Set_de_musica.difference(Set2)"
      ],
      "metadata": {
        "id": "8JCt0d75h3Vu"
      },
      "execution_count": null,
      "outputs": []
    },
    {
      "cell_type": "code",
      "source": [
        "#Unir dos sets\n",
        "Set_de_musica.union(Set2)"
      ],
      "metadata": {
        "id": "y6-PNAqoh5Ce"
      },
      "execution_count": null,
      "outputs": []
    },
    {
      "cell_type": "code",
      "source": [
        "#Usar issubset y issuperset\n",
        "set(Set_de_musica).issuperset(Set2)\n",
        "set(Set2).issubset(Set_de_musica)"
      ],
      "metadata": {
        "id": "uPB_Rufeh65g"
      },
      "execution_count": null,
      "outputs": []
    },
    {
      "cell_type": "code",
      "source": [
        "#sumar elementos de un set y compararlos\n",
        "A = [1, 2, 2, 1]  \n",
        "B = set([1, 2, 2, 1])\n",
        "print(\"the sum of A is:\", sum(A))\n",
        "print(\"the sum of B is:\", sum(B))"
      ],
      "metadata": {
        "id": "83X0AR_ah8TY"
      },
      "execution_count": null,
      "outputs": []
    },
    {
      "cell_type": "code",
      "source": [],
      "metadata": {
        "id": "MLl6JRL8h9-T"
      },
      "execution_count": null,
      "outputs": []
    },
    {
      "cell_type": "code",
      "source": [
        "#Crear un diccionario y encontrar un valor\n",
        "Diccionario={'indice1':10, 'indice2':'Perro'}\n",
        "Diccionario['indice2']"
      ],
      "metadata": {
        "colab": {
          "base_uri": "https://localhost:8080/",
          "height": 36
        },
        "id": "oK-p07l0gvQj",
        "outputId": "27b929db-1710-483c-e7f3-6cf989a04578"
      },
      "execution_count": null,
      "outputs": [
        {
          "output_type": "execute_result",
          "data": {
            "text/plain": [
              "'Perro'"
            ],
            "application/vnd.google.colaboratory.intrinsic+json": {
              "type": "string"
            }
          },
          "metadata": {},
          "execution_count": 25
        }
      ]
    },
    {
      "cell_type": "code",
      "source": [
        "#Encontrar los indices o llaves del diccionario\n",
        "Diccionario.keys()"
      ],
      "metadata": {
        "id": "I5safe2chGGq"
      },
      "execution_count": null,
      "outputs": []
    },
    {
      "cell_type": "code",
      "source": [
        "#Crear un diccionario de datos y acceder a sus valores de 2 formas diferentes\n",
        "Diccionario = {\"llave1\": 156, \"key2\": \"2\", \"key3\": ['oso', 'lobo', 'camion'], \"key4\": (4, 4, 4), ('key5'): 5, (0, 'Carlos'): 6}\n",
        "Diccionario\n",
        "Diccionario['llave1']\n",
        "Diccionario[(0,'Carlos')]"
      ],
      "metadata": {
        "id": "NfhXizhufktv"
      },
      "execution_count": null,
      "outputs": []
    },
    {
      "cell_type": "code",
      "source": [
        "#Obtener los valores y las llaves de un diccionario\n",
        "Diccionario.keys()\n",
        "Diccionario.values()"
      ],
      "metadata": {
        "id": "Z8Up8gEef-VT",
        "colab": {
          "base_uri": "https://localhost:8080/",
          "height": 200
        },
        "outputId": "a7af008f-ccc9-416d-e361-2319dfb9426a"
      },
      "execution_count": null,
      "outputs": [
        {
          "output_type": "error",
          "ename": "NameError",
          "evalue": "ignored",
          "traceback": [
            "\u001b[0;31m---------------------------------------------------------------------------\u001b[0m",
            "\u001b[0;31mNameError\u001b[0m                                 Traceback (most recent call last)",
            "\u001b[0;32m<ipython-input-5-be76648ef49d>\u001b[0m in \u001b[0;36m<module>\u001b[0;34m\u001b[0m\n\u001b[1;32m      1\u001b[0m \u001b[0;31m#Obtener los valores y las llaves de un diccionario\u001b[0m\u001b[0;34m\u001b[0m\u001b[0;34m\u001b[0m\u001b[0;34m\u001b[0m\u001b[0m\n\u001b[0;32m----> 2\u001b[0;31m \u001b[0mDiccionario\u001b[0m\u001b[0;34m.\u001b[0m\u001b[0mkeys\u001b[0m\u001b[0;34m(\u001b[0m\u001b[0;34m)\u001b[0m\u001b[0;34m\u001b[0m\u001b[0;34m\u001b[0m\u001b[0m\n\u001b[0m\u001b[1;32m      3\u001b[0m \u001b[0mDiccionario\u001b[0m\u001b[0;34m.\u001b[0m\u001b[0mvalues\u001b[0m\u001b[0;34m(\u001b[0m\u001b[0;34m)\u001b[0m\u001b[0;34m\u001b[0m\u001b[0;34m\u001b[0m\u001b[0m\n",
            "\u001b[0;31mNameError\u001b[0m: name 'Diccionario' is not defined"
          ]
        }
      ]
    },
    {
      "cell_type": "code",
      "source": [
        "#Anadirvalores del diccionario\n",
        "Diccionario['Pinata'] = 2021\n",
        "Diccionario['Pinata']"
      ],
      "metadata": {
        "id": "cFyRMAoggAOa",
        "colab": {
          "base_uri": "https://localhost:8080/",
          "height": 200
        },
        "outputId": "3e46e559-a782-4978-c3d3-6e38638d2f4d"
      },
      "execution_count": null,
      "outputs": [
        {
          "output_type": "error",
          "ename": "NameError",
          "evalue": "ignored",
          "traceback": [
            "\u001b[0;31m---------------------------------------------------------------------------\u001b[0m",
            "\u001b[0;31mNameError\u001b[0m                                 Traceback (most recent call last)",
            "\u001b[0;32m<ipython-input-4-2141d333451a>\u001b[0m in \u001b[0;36m<module>\u001b[0;34m\u001b[0m\n\u001b[1;32m      1\u001b[0m \u001b[0;31m#Anadirvalores del diccionario\u001b[0m\u001b[0;34m\u001b[0m\u001b[0;34m\u001b[0m\u001b[0;34m\u001b[0m\u001b[0m\n\u001b[0;32m----> 2\u001b[0;31m \u001b[0mDiccionario\u001b[0m\u001b[0;34m[\u001b[0m\u001b[0;34m'Pinata'\u001b[0m\u001b[0;34m]\u001b[0m \u001b[0;34m=\u001b[0m \u001b[0;36m2021\u001b[0m\u001b[0;34m\u001b[0m\u001b[0;34m\u001b[0m\u001b[0m\n\u001b[0m\u001b[1;32m      3\u001b[0m \u001b[0mDiccionario\u001b[0m\u001b[0;34m[\u001b[0m\u001b[0;34m'Pinata'\u001b[0m\u001b[0;34m]\u001b[0m\u001b[0;34m\u001b[0m\u001b[0;34m\u001b[0m\u001b[0m\n",
            "\u001b[0;31mNameError\u001b[0m: name 'Diccionario' is not defined"
          ]
        }
      ]
    },
    {
      "cell_type": "code",
      "source": [
        "#Buscar un valor en el diccionario\n",
        "'Pinata' in Diccionario"
      ],
      "metadata": {
        "id": "ncpSkE0agCQj",
        "colab": {
          "base_uri": "https://localhost:8080/",
          "height": 183
        },
        "outputId": "d4cf54c3-db57-4545-f7ee-5721109f4ef6"
      },
      "execution_count": null,
      "outputs": [
        {
          "output_type": "error",
          "ename": "NameError",
          "evalue": "ignored",
          "traceback": [
            "\u001b[0;31m---------------------------------------------------------------------------\u001b[0m",
            "\u001b[0;31mNameError\u001b[0m                                 Traceback (most recent call last)",
            "\u001b[0;32m<ipython-input-6-7a41891c284b>\u001b[0m in \u001b[0;36m<module>\u001b[0;34m\u001b[0m\n\u001b[1;32m      1\u001b[0m \u001b[0;31m#Buscar un valor en el diccionario\u001b[0m\u001b[0;34m\u001b[0m\u001b[0;34m\u001b[0m\u001b[0;34m\u001b[0m\u001b[0m\n\u001b[0;32m----> 2\u001b[0;31m \u001b[0;34m'Pinata'\u001b[0m \u001b[0;32min\u001b[0m \u001b[0mDiccionario\u001b[0m\u001b[0;34m\u001b[0m\u001b[0;34m\u001b[0m\u001b[0m\n\u001b[0m",
            "\u001b[0;31mNameError\u001b[0m: name 'Diccionario' is not defined"
          ]
        }
      ]
    },
    {
      "cell_type": "code",
      "source": [
        "#Eliminar valores del diccionario\n",
        "del(Diccionario['Pinata'])\n",
        "'Pinata' in Diccionario"
      ],
      "metadata": {
        "id": "u0zCtjGwgEBO",
        "colab": {
          "base_uri": "https://localhost:8080/",
          "height": 200
        },
        "outputId": "d3755682-46f1-4e69-8d54-296a4098c6b6"
      },
      "execution_count": null,
      "outputs": [
        {
          "output_type": "error",
          "ename": "NameError",
          "evalue": "ignored",
          "traceback": [
            "\u001b[0;31m---------------------------------------------------------------------------\u001b[0m",
            "\u001b[0;31mNameError\u001b[0m                                 Traceback (most recent call last)",
            "\u001b[0;32m<ipython-input-7-1702e4cb8614>\u001b[0m in \u001b[0;36m<module>\u001b[0;34m\u001b[0m\n\u001b[1;32m      1\u001b[0m \u001b[0;31m#Eliminar valores del diccionario\u001b[0m\u001b[0;34m\u001b[0m\u001b[0;34m\u001b[0m\u001b[0;34m\u001b[0m\u001b[0m\n\u001b[0;32m----> 2\u001b[0;31m \u001b[0;32mdel\u001b[0m\u001b[0;34m(\u001b[0m\u001b[0mDiccionario\u001b[0m\u001b[0;34m[\u001b[0m\u001b[0;34m'Pinata'\u001b[0m\u001b[0;34m]\u001b[0m\u001b[0;34m)\u001b[0m\u001b[0;34m\u001b[0m\u001b[0;34m\u001b[0m\u001b[0m\n\u001b[0m\u001b[1;32m      3\u001b[0m \u001b[0;34m'Pinata'\u001b[0m \u001b[0;32min\u001b[0m \u001b[0mDiccionario\u001b[0m\u001b[0;34m\u001b[0m\u001b[0;34m\u001b[0m\u001b[0m\n",
            "\u001b[0;31mNameError\u001b[0m: name 'Diccionario' is not defined"
          ]
        }
      ]
    },
    {
      "cell_type": "markdown",
      "source": [
        "# Módulo 3\n"
      ],
      "metadata": {
        "id": "8MKH1-avibXD"
      }
    },
    {
      "cell_type": "code",
      "source": [
        "# Condición igualdad\n",
        "\n",
        "a = 5\n",
        "a == 6 \n",
        "a"
      ],
      "metadata": {
        "colab": {
          "base_uri": "https://localhost:8080/"
        },
        "id": "iGjjGfQwifgO",
        "outputId": "5909c1a6-cd0a-4683-85d6-7b0c323232c7"
      },
      "execution_count": null,
      "outputs": [
        {
          "output_type": "execute_result",
          "data": {
            "text/plain": [
              "6"
            ]
          },
          "metadata": {},
          "execution_count": 27
        }
      ]
    },
    {
      "cell_type": "code",
      "source": [
        "# Mayor que \n",
        "\n",
        "i = 2\n",
        "i > 5"
      ],
      "metadata": {
        "id": "ehX-P1QGjU67",
        "outputId": "e3f0ddb1-230b-40fa-ceaf-3ba034c332a2",
        "colab": {
          "base_uri": "https://localhost:8080/"
        }
      },
      "execution_count": null,
      "outputs": [
        {
          "output_type": "execute_result",
          "data": {
            "text/plain": [
              "False"
            ]
          },
          "metadata": {},
          "execution_count": 28
        }
      ]
    },
    {
      "cell_type": "code",
      "source": [
        "# If statement example\n",
        "\n",
        "age = 19\n",
        "#age = 18\n",
        "\n",
        "#expression that can be true or false\n",
        "if age > 18:\n",
        "    \n",
        "    #within an indent, we have the expression that is run if the condition is true\n",
        "    print(\"you can enter\" )\n",
        "\n",
        "#The statements after the if statement will run regardless if the condition is true or false \n",
        "print(\"move on\")"
      ],
      "metadata": {
        "id": "IOTiNxj2jnc9",
        "outputId": "1c8a80a2-938a-415a-9911-25934ecf1704",
        "colab": {
          "base_uri": "https://localhost:8080/"
        }
      },
      "execution_count": null,
      "outputs": [
        {
          "output_type": "stream",
          "name": "stdout",
          "text": [
            "you can enter\n",
            "move on\n"
          ]
        }
      ]
    }
  ]
}