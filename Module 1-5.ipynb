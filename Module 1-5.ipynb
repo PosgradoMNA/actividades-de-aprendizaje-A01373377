{
  "nbformat": 4,
  "nbformat_minor": 0,
  "metadata": {
    "colab": {
      "provenance": [],
      "include_colab_link": true
    },
    "kernelspec": {
      "name": "python3",
      "display_name": "Python 3"
    },
    "language_info": {
      "name": "python"
    }
  },
  "cells": [
    {
      "cell_type": "markdown",
      "metadata": {
        "id": "view-in-github",
        "colab_type": "text"
      },
      "source": [
        "<a href=\"https://colab.research.google.com/github/PosgradoMNA/actividades-de-aprendizaje-A01373377/blob/main/Module%201-5.ipynb\" target=\"_parent\"><img src=\"https://colab.research.google.com/assets/colab-badge.svg\" alt=\"Open In Colab\"/></a>"
      ]
    },
    {
      "cell_type": "markdown",
      "source": [
        "### Este link contiene un cuaderno en pdf donde he hecho notas sobre la programación en Python, las notas relevantes están desde la página 36 a la 65\n",
        "\n",
        "\n",
        "[link text](https://drive.google.com/file/d/1t-fGTZZzmt5B7P_E0tE47PpHTFYCsoHZ/view?usp=sharing)\n",
        "\n",
        "En este siguiente link está el pdf de mi certificado del curso de IBM\n",
        "\n",
        "[link text](https://)\n",
        "\n"
      ],
      "metadata": {
        "id": "wZDQPlKrsdZN"
      }
    },
    {
      "cell_type": "markdown",
      "source": [
        "# Módulo 1"
      ],
      "metadata": {
        "id": "YROLSJdlfpC5"
      }
    },
    {
      "cell_type": "markdown",
      "source": [
        "## Los objetivos de este Módulo 1 son:\n",
        "\n",
        "\n",
        "*   Entender los tipos de Data en Python\n",
        "*   Conocer los tipos de variables y expresiones de Python\n",
        "*   Ser capaz de hacer operaciones básicas a strings\n",
        "\n",
        "\n",
        "\n"
      ],
      "metadata": {
        "id": "SNjs6F4Fek2i"
      }
    },
    {
      "cell_type": "markdown",
      "source": [
        "Los tipos de errores que podemos tener en Python son se Syntaxis o de Semantica\n",
        "\n",
        "\n",
        "*   Error de Syntaxis es cuando la redacción es incorrecta\n",
        "*   Error de Semántica es cuando la lógica del código es incorrecta\n",
        "\n"
      ],
      "metadata": {
        "id": "BMTa78HogWAn"
      }
    },
    {
      "cell_type": "code",
      "execution_count": null,
      "metadata": {
        "id": "---fTK5FFNUK",
        "colab": {
          "base_uri": "https://localhost:8080/"
        },
        "outputId": "d5559bde-ee07-4238-ad1f-cfd9b09c9335"
      },
      "outputs": [
        {
          "output_type": "stream",
          "name": "stdout",
          "text": [
            "Hello World this is my first code\n"
          ]
        }
      ],
      "source": [
        "#Imprimir Hola mundo\n",
        "print(\"Hello World this is my first code\")"
      ]
    },
    {
      "cell_type": "markdown",
      "source": [
        "Para poder imprimir un código en renglones diferentes se utiliza la expresión \"\\n\" o también podemos póner \"\"\" \"\"\" las triples comillas dobles nos respetan los espacios"
      ],
      "metadata": {
        "id": "bDT6B2B8g82f"
      }
    },
    {
      "cell_type": "code",
      "source": [
        "#Imprimir Hola Mundo en dos renglones diferentes\n",
        "print(\"Hello\\nWorld\")"
      ],
      "metadata": {
        "colab": {
          "base_uri": "https://localhost:8080/"
        },
        "id": "Uz1cSu3JW-Fk",
        "outputId": "8be76e12-63c3-43b7-9c5c-e471d199be62"
      },
      "execution_count": null,
      "outputs": [
        {
          "output_type": "stream",
          "name": "stdout",
          "text": [
            "Hello\n",
            "World\n"
          ]
        }
      ]
    },
    {
      "cell_type": "code",
      "source": [
        "#Imprimir con espacios por medio de las triples comillas dobles\n",
        "print(\"\"\"Hola\n",
        "mundo\n",
        "soy Fer\"\"\")"
      ],
      "metadata": {
        "colab": {
          "base_uri": "https://localhost:8080/"
        },
        "id": "pwG0Sa1sjVEz",
        "outputId": "d933c336-7797-48c1-900c-6a05890e9a9f"
      },
      "execution_count": null,
      "outputs": [
        {
          "output_type": "stream",
          "name": "stdout",
          "text": [
            "Hola\n",
            "mundo\n",
            "soy Fer\n"
          ]
        }
      ]
    },
    {
      "cell_type": "markdown",
      "source": [
        "## Tipos de datos\n",
        "\n",
        "\n",
        "*   Float    float() número con decimales, es decir los números reales\n",
        "*   Integer  int()   números enteros\n",
        "*   String   str()   Texto\n",
        "*   Booleano bool()  Verdadero y Falso\n",
        "\n",
        "\n",
        "Para saber el tipo de variable usamos la expresion\"type\"\n",
        "\n",
        "\n",
        "\n"
      ],
      "metadata": {
        "id": "AE8zpgBFQplB"
      }
    },
    {
      "cell_type": "code",
      "source": [
        "#Encontrar el tipo de la informacion ya sea string, número entero,float, booleano etc\n",
        "#\"Hello World\"\n",
        "type (\"Hello World\")"
      ],
      "metadata": {
        "colab": {
          "base_uri": "https://localhost:8080/"
        },
        "id": "ZDFmpU6OY3E6",
        "outputId": "cce196d2-088b-4790-846c-3ca34014c382"
      },
      "execution_count": null,
      "outputs": [
        {
          "output_type": "execute_result",
          "data": {
            "text/plain": [
              "str"
            ]
          },
          "metadata": {},
          "execution_count": 4
        }
      ]
    },
    {
      "cell_type": "code",
      "source": [
        "#Encontrar el tipo de la informacion\n",
        "#15.3\"\n",
        "type (15.3)"
      ],
      "metadata": {
        "colab": {
          "base_uri": "https://localhost:8080/"
        },
        "id": "219ajZMOZH2O",
        "outputId": "996278b7-16d5-4351-dbf6-63c91898f1b6"
      },
      "execution_count": null,
      "outputs": [
        {
          "output_type": "execute_result",
          "data": {
            "text/plain": [
              "float"
            ]
          },
          "metadata": {},
          "execution_count": 7
        }
      ]
    },
    {
      "cell_type": "code",
      "source": [
        "#Convertir el valor primero a entero int a booleano bool\n",
        "#\"2\"\n",
        "bool(int(\"2\"))"
      ],
      "metadata": {
        "colab": {
          "base_uri": "https://localhost:8080/"
        },
        "id": "kAM-9nSNZLJU",
        "outputId": "a6c3f1f7-80ac-4d49-e911-b16e0176014f"
      },
      "execution_count": null,
      "outputs": [
        {
          "output_type": "execute_result",
          "data": {
            "text/plain": [
              "True"
            ]
          },
          "metadata": {},
          "execution_count": 10
        }
      ]
    },
    {
      "cell_type": "code",
      "source": [
        "#Imprimir una salida\n",
        "print('Hello, my friends!')"
      ],
      "metadata": {
        "colab": {
          "base_uri": "https://localhost:8080/"
        },
        "id": "eIaYgjJWbgiL",
        "outputId": "6604d9ed-a140-45f6-d0fb-f62a1fa09378"
      },
      "execution_count": null,
      "outputs": [
        {
          "output_type": "stream",
          "name": "stdout",
          "text": [
            "Hello, my friends!\n"
          ]
        }
      ]
    },
    {
      "cell_type": "code",
      "source": [
        "#Revisar nuestra version de python\n",
        "import sys\n",
        "print(sys.version)"
      ],
      "metadata": {
        "colab": {
          "base_uri": "https://localhost:8080/"
        },
        "id": "ZTYVE2rad2yC",
        "outputId": "9b89227a-fc22-49fe-fbaf-73a997acc7aa"
      },
      "execution_count": null,
      "outputs": [
        {
          "output_type": "stream",
          "name": "stdout",
          "text": [
            "3.7.14 (default, Sep  8 2022, 00:06:44) \n",
            "[GCC 7.5.0]\n"
          ]
        }
      ]
    },
    {
      "cell_type": "code",
      "source": [
        "#Escribir comentarios\n",
        "print('Hello, Python!') #Esta linea imprime una cadena"
      ],
      "metadata": {
        "colab": {
          "base_uri": "https://localhost:8080/"
        },
        "id": "VQgJd5CGd4fE",
        "outputId": "f8317d51-eb7b-4430-916a-32c1ee8c1b8e"
      },
      "execution_count": null,
      "outputs": [
        {
          "output_type": "stream",
          "name": "stdout",
          "text": [
            "Hello, Python!\n"
          ]
        }
      ]
    },
    {
      "cell_type": "code",
      "source": [
        "#Escribir un codigo erroneo\n",
        "print(\"Hello, Python!) \n",
        "#porque debemos cerrar el comentario con el \"\""
      ],
      "metadata": {
        "colab": {
          "base_uri": "https://localhost:8080/",
          "height": 130
        },
        "id": "aMF7wWsZeB5Y",
        "outputId": "63b00560-426a-4814-b735-ffae3ee867a8"
      },
      "execution_count": null,
      "outputs": [
        {
          "output_type": "error",
          "ename": "SyntaxError",
          "evalue": "ignored",
          "traceback": [
            "\u001b[0;36m  File \u001b[0;32m\"<ipython-input-16-e32f515a182e>\"\u001b[0;36m, line \u001b[0;32m2\u001b[0m\n\u001b[0;31m    print(\"Hello, Python!)\u001b[0m\n\u001b[0m                          ^\u001b[0m\n\u001b[0;31mSyntaxError\u001b[0m\u001b[0;31m:\u001b[0m EOL while scanning string literal\n"
          ]
        }
      ]
    },
    {
      "cell_type": "code",
      "source": [
        "#Escribir tres cadenas, una con error, para ver el orden\n",
        "print(\"This will be printed\")\n",
        "frint(\"This will cause an error\")\n",
        "print(\"This will NOT be printed\")"
      ],
      "metadata": {
        "colab": {
          "base_uri": "https://localhost:8080/",
          "height": 235
        },
        "id": "aKZFj6-ieebw",
        "outputId": "7b9ae282-cc70-4b18-f872-11d9aadaf565"
      },
      "execution_count": null,
      "outputs": [
        {
          "output_type": "stream",
          "name": "stdout",
          "text": [
            "This will be printed\n"
          ]
        },
        {
          "output_type": "error",
          "ename": "NameError",
          "evalue": "ignored",
          "traceback": [
            "\u001b[0;31m---------------------------------------------------------------------------\u001b[0m",
            "\u001b[0;31mNameError\u001b[0m                                 Traceback (most recent call last)",
            "\u001b[0;32m<ipython-input-17-351d14488c80>\u001b[0m in \u001b[0;36m<module>\u001b[0;34m\u001b[0m\n\u001b[1;32m      1\u001b[0m \u001b[0;31m#Escribir tres cadenas, una con error, para ver el orden\u001b[0m\u001b[0;34m\u001b[0m\u001b[0;34m\u001b[0m\u001b[0;34m\u001b[0m\u001b[0m\n\u001b[1;32m      2\u001b[0m \u001b[0mprint\u001b[0m\u001b[0;34m(\u001b[0m\u001b[0;34m\"This will be printed\"\u001b[0m\u001b[0;34m)\u001b[0m\u001b[0;34m\u001b[0m\u001b[0;34m\u001b[0m\u001b[0m\n\u001b[0;32m----> 3\u001b[0;31m \u001b[0mfrint\u001b[0m\u001b[0;34m(\u001b[0m\u001b[0;34m\"This will cause an error\"\u001b[0m\u001b[0;34m)\u001b[0m\u001b[0;34m\u001b[0m\u001b[0;34m\u001b[0m\u001b[0m\n\u001b[0m\u001b[1;32m      4\u001b[0m \u001b[0mprint\u001b[0m\u001b[0;34m(\u001b[0m\u001b[0;34m\"This will NOT be printed\"\u001b[0m\u001b[0;34m)\u001b[0m\u001b[0;34m\u001b[0m\u001b[0;34m\u001b[0m\u001b[0m\n",
            "\u001b[0;31mNameError\u001b[0m: name 'frint' is not defined"
          ]
        }
      ]
    },
    {
      "cell_type": "markdown",
      "source": [
        "## Ejemplos de tipos de datos"
      ],
      "metadata": {
        "id": "-i8YV0uLTWPq"
      }
    },
    {
      "cell_type": "code",
      "source": [
        "#Encontrar los tipos de informaci[on\n",
        "type(12)\n",
        "type(2.14)\n",
        "type(\"Hello, Python 101!\")\n",
        "type(-1)\n",
        "type(4)\n",
        "type(0)\n",
        "type(1.0)\n",
        "type(0.5)\n",
        "type(0.56)\n",
        "type(False)\n",
        "type(True)\n",
        "type (6/2)\n",
        "type(6//2)"
      ],
      "metadata": {
        "colab": {
          "base_uri": "https://localhost:8080/"
        },
        "id": "dUhnAEnHehQV",
        "outputId": "70918319-511e-4cdf-9dd6-04c9a7f0d480"
      },
      "execution_count": null,
      "outputs": [
        {
          "output_type": "execute_result",
          "data": {
            "text/plain": [
              "int"
            ]
          },
          "metadata": {},
          "execution_count": 18
        }
      ]
    },
    {
      "cell_type": "code",
      "source": [
        "#Conocer la informacion del sistema sobre el tipo flotante\n",
        "sys.float_info"
      ],
      "metadata": {
        "colab": {
          "base_uri": "https://localhost:8080/"
        },
        "id": "iOx6gRy8enZG",
        "outputId": "ba96bf86-599e-47c2-9904-befd7a93706b"
      },
      "execution_count": null,
      "outputs": [
        {
          "output_type": "execute_result",
          "data": {
            "text/plain": [
              "sys.float_info(max=1.7976931348623157e+308, max_exp=1024, max_10_exp=308, min=2.2250738585072014e-308, min_exp=-1021, min_10_exp=-307, dig=15, mant_dig=53, epsilon=2.220446049250313e-16, radix=2, rounds=1)"
            ]
          },
          "metadata": {},
          "execution_count": 19
        }
      ]
    },
    {
      "cell_type": "code",
      "source": [
        "#Convertir los valores y ver a que tipo cambiaron\n",
        "float(2)\n",
        "type(float(2))\n",
        "int(1.1)\n",
        "type(int(1.1))\n",
        "int('1')\n",
        "float('1.2')\n",
        "str(1)\n",
        "str(1.2)\n",
        "int(True)\n",
        "bool(1)\n",
        "bool(0)\n",
        "float(True)"
      ],
      "metadata": {
        "colab": {
          "base_uri": "https://localhost:8080/"
        },
        "id": "vsTxwcC6etG5",
        "outputId": "f529461f-76ce-4a9b-d554-9c8e5d5d3e34"
      },
      "execution_count": null,
      "outputs": [
        {
          "output_type": "execute_result",
          "data": {
            "text/plain": [
              "1.0"
            ]
          },
          "metadata": {},
          "execution_count": 20
        }
      ]
    },
    {
      "cell_type": "markdown",
      "source": [
        "## Ejemplo de error de Semántica porque se intenta convertir un string a un número entero\n",
        " "
      ],
      "metadata": {
        "id": "HLOSEtIrTcps"
      }
    },
    {
      "cell_type": "code",
      "source": [
        "#Convertir un valor con error\n",
        "int('1 or 2 people')"
      ],
      "metadata": {
        "colab": {
          "base_uri": "https://localhost:8080/",
          "height": 187
        },
        "id": "wZXp7ij-evj_",
        "outputId": "445bd4b2-712a-4176-e92f-f6b11eb9f0ba"
      },
      "execution_count": null,
      "outputs": [
        {
          "output_type": "error",
          "ename": "ValueError",
          "evalue": "ignored",
          "traceback": [
            "\u001b[0;31m---------------------------------------------------------------------------\u001b[0m",
            "\u001b[0;31mValueError\u001b[0m                                Traceback (most recent call last)",
            "\u001b[0;32m<ipython-input-1-b16ba33efaf2>\u001b[0m in \u001b[0;36m<module>\u001b[0;34m\u001b[0m\n\u001b[1;32m      1\u001b[0m \u001b[0;31m#Convertir un valor con error\u001b[0m\u001b[0;34m\u001b[0m\u001b[0;34m\u001b[0m\u001b[0;34m\u001b[0m\u001b[0m\n\u001b[0;32m----> 2\u001b[0;31m \u001b[0mint\u001b[0m\u001b[0;34m(\u001b[0m\u001b[0;34m\"1 or 2 people\"\u001b[0m\u001b[0;34m)\u001b[0m\u001b[0;34m\u001b[0m\u001b[0;34m\u001b[0m\u001b[0m\n\u001b[0m",
            "\u001b[0;31mValueError\u001b[0m: invalid literal for int() with base 10: '1 or 2 people'"
          ]
        }
      ]
    },
    {
      "cell_type": "markdown",
      "source": [
        "## Cálculos simples, es decir expresiones matemáticas\n"
      ],
      "metadata": {
        "id": "7cJ5ySj-VP8h"
      }
    },
    {
      "cell_type": "code",
      "source": [
        "#Calculos\n",
        "#Cuantas horas tiene un minuto\n",
        "160/60 \n"
      ],
      "metadata": {
        "colab": {
          "base_uri": "https://localhost:8080/"
        },
        "id": "FFBQL1qZe2ep",
        "outputId": "35c11d0b-38e4-4267-8fb1-287c4a314a93"
      },
      "execution_count": null,
      "outputs": [
        {
          "output_type": "execute_result",
          "data": {
            "text/plain": [
              "2.6666666666666665"
            ]
          },
          "metadata": {},
          "execution_count": 22
        }
      ]
    },
    {
      "cell_type": "code",
      "source": [
        "#Guardar valor en variables e imprimirlos\n",
        "x = 43 + 60 + 16 + 41\n",
        "x\n",
        "y = x / 60\n",
        "y\n",
        "total_min = 43 + 42 + 57 \n",
        "total_min\n",
        "total_hours = total_min / 60 \n",
        "total_hours\n",
        "x = 3 + 2 * 2\n",
        "y = (3 + 2) * 2\n",
        "z = x + y\n",
        "z"
      ],
      "metadata": {
        "colab": {
          "base_uri": "https://localhost:8080/"
        },
        "id": "4fF00qYbe403",
        "outputId": "83e3b33d-f85c-4ca2-d16d-9364f36b5411"
      },
      "execution_count": null,
      "outputs": [
        {
          "output_type": "execute_result",
          "data": {
            "text/plain": [
              "17"
            ]
          },
          "metadata": {},
          "execution_count": 23
        }
      ]
    },
    {
      "cell_type": "markdown",
      "source": [
        "## Ejemplos de Strings"
      ],
      "metadata": {
        "id": "gkJ1auMAVd7T"
      }
    },
    {
      "cell_type": "code",
      "source": [
        "#Crear diferentes strings de diversas formas\n",
        "'Michael Jackson'\n",
        "\"Michael Jackson\"\n",
        "'@#2_#]&*^%$'\n",
        "\"1 2 3 4 5\""
      ],
      "metadata": {
        "id": "k2cas6kce7Nn",
        "colab": {
          "base_uri": "https://localhost:8080/",
          "height": 35
        },
        "outputId": "a2fd4468-4ffc-4ba8-bf83-3bbbb54beec1"
      },
      "execution_count": null,
      "outputs": [
        {
          "output_type": "execute_result",
          "data": {
            "text/plain": [
              "'1 2 3 4 5'"
            ],
            "application/vnd.google.colaboratory.intrinsic+json": {
              "type": "string"
            }
          },
          "metadata": {},
          "execution_count": 2
        }
      ]
    },
    {
      "cell_type": "code",
      "source": [
        "#Imprimir cadenas\n",
        "print('Hola Mundo')\n",
        "name = \"Michael Jackson\"\n",
        "name"
      ],
      "metadata": {
        "id": "d_GHkZOWfAyR",
        "colab": {
          "base_uri": "https://localhost:8080/",
          "height": 53
        },
        "outputId": "2cfd3283-85c5-417d-d2f6-06c81e676765"
      },
      "execution_count": null,
      "outputs": [
        {
          "output_type": "stream",
          "name": "stdout",
          "text": [
            "Hola Mundo\n"
          ]
        },
        {
          "output_type": "execute_result",
          "data": {
            "text/plain": [
              "'Michael Jackson'"
            ],
            "application/vnd.google.colaboratory.intrinsic+json": {
              "type": "string"
            }
          },
          "metadata": {},
          "execution_count": 3
        }
      ]
    },
    {
      "cell_type": "markdown",
      "source": [
        "## En un string se denomina como índices a las posiciones de las letras, siempre se empieza por 0 como posición inicial"
      ],
      "metadata": {
        "id": "UHNmGLuxh9RL"
      }
    },
    {
      "cell_type": "code",
      "source": [
        "#Imprimir elementos con indices en diferentes posiciones\n",
        "name=\"Rafael Oliveiros\"\n",
        "print(name[0])\n",
        "print(name[6])\n",
        "print(name[8])"
      ],
      "metadata": {
        "id": "M2TMVfjefCj0"
      },
      "execution_count": null,
      "outputs": []
    },
    {
      "cell_type": "code",
      "source": [
        "#Imprimir elementos en posiciones invertidas\n",
        "name=\"Rafael Oliveiros\"\n",
        "print(name[-2])\n",
        "print(name[-9])\n",
        "print(name[-1])"
      ],
      "metadata": {
        "id": "FrS-lpIbfFjr"
      },
      "execution_count": null,
      "outputs": []
    },
    {
      "cell_type": "markdown",
      "source": [
        "## Obtener la longitud de un string se hace con la expresión \"len\"\n"
      ],
      "metadata": {
        "id": "HdSxrU8WiLUC"
      }
    },
    {
      "cell_type": "code",
      "source": [
        "#Obtener la longitud de una cadena\n",
        "len(\"Michael Jackson\")"
      ],
      "metadata": {
        "id": "_4WsZ3a4fJW4"
      },
      "execution_count": null,
      "outputs": []
    },
    {
      "cell_type": "markdown",
      "source": [
        "## Un slice es partir en secciones las posiciones de un string que queremos que nos devuelva Python"
      ],
      "metadata": {
        "id": "rje6TdyvjKhz"
      }
    },
    {
      "cell_type": "code",
      "source": [
        "#Obtener elementos de una cadena en diferentes posiciones, slice\n",
        "name='Pedrito Sola'\n",
        "name[0:4]\n",
        "name[3:8]"
      ],
      "metadata": {
        "id": "mM34CuprfJ4X"
      },
      "execution_count": null,
      "outputs": []
    },
    {
      "cell_type": "code",
      "source": [
        "#Obtener elementos de una cadena dando determinados saltos, de inicio a fin\n",
        "name=\"Thor Odinson\"\n",
        "name[::2]"
      ],
      "metadata": {
        "id": "VfDWj804fL3k",
        "colab": {
          "base_uri": "https://localhost:8080/",
          "height": 35
        },
        "outputId": "a2d8f129-9d6b-46bb-8001-2ae5f9bd249e"
      },
      "execution_count": null,
      "outputs": [
        {
          "output_type": "execute_result",
          "data": {
            "text/plain": [
              "'To dno'"
            ],
            "application/vnd.google.colaboratory.intrinsic+json": {
              "type": "string"
            }
          },
          "metadata": {},
          "execution_count": 7
        }
      ]
    },
    {
      "cell_type": "code",
      "source": [
        "#Obtener elementos de una cadena dando determinados saltos, pero dentro de un rango seleccionado\n",
        "name='Septiembre patrio'\n",
        "name[0:5:2]"
      ],
      "metadata": {
        "id": "YCb_G2tjfN-7"
      },
      "execution_count": null,
      "outputs": []
    },
    {
      "cell_type": "markdown",
      "source": [
        "## Para añadir algo nuevo a la cadena de caracteres se puede redefinir a esta misma anexándole un nuevo string"
      ],
      "metadata": {
        "id": "2-u__riWl-fO"
      }
    },
    {
      "cell_type": "code",
      "source": [
        "#Concatenar dos o mas cadenas e imprimirlas\n",
        "nombre='Carlos'\n",
        "frase=nombre + 'es el mejors'\n",
        "frase"
      ],
      "metadata": {
        "id": "SaXzwBAXfROR"
      },
      "execution_count": null,
      "outputs": []
    },
    {
      "cell_type": "code",
      "source": [
        "#multiplicar una cadena\n",
        "5 * 'frase repetida '"
      ],
      "metadata": {
        "id": "KnDj5S9ufS6t"
      },
      "execution_count": null,
      "outputs": []
    },
    {
      "cell_type": "markdown",
      "source": [
        "## La \"\\\" es un escape que nos sirve para poder poner stings que son difíciles\n",
        "###       Algunos ejemplos son:\n",
        "*   \\n que representa un \"enter\"\n",
        "*   \\t representa un \"tab\"\n",
        "*   \\\\ se una para que imprima el símbol \\\n",
        "*   r\"\" enfrente del string nos sirve para imprimir el \\\n",
        "\n",
        "\n",
        "\n"
      ],
      "metadata": {
        "id": "yVsXWG4vnfOA"
      }
    },
    {
      "cell_type": "code",
      "source": [
        "#Usar 3 secuencias de escape\n",
        "print(\" Michael Jackson \\n is the best\" )\n",
        "print(\" Michael Jackson \\t is the best\" )\n",
        "print(\" Michael Jackson \\\\ is the best\" )\n",
        "print(r\" Michael Jackson \\ is the best\" )"
      ],
      "metadata": {
        "id": "BIiKAC7hfUae",
        "colab": {
          "base_uri": "https://localhost:8080/"
        },
        "outputId": "7879edb2-b40e-48f1-92bc-2d69a008f288"
      },
      "execution_count": null,
      "outputs": [
        {
          "output_type": "stream",
          "name": "stdout",
          "text": [
            " Michael Jackson \n",
            " is the best\n",
            " Michael Jackson \t is the best\n",
            " Michael Jackson \\ is the best\n",
            " Michael Jackson \\ is the best\n"
          ]
        }
      ]
    },
    {
      "cell_type": "markdown",
      "source": [
        "## Operadores de cadenas "
      ],
      "metadata": {
        "id": "v37QAPb4phwb"
      }
    },
    {
      "cell_type": "code",
      "source": [
        "#Usar operadores de cadenas\n",
        "a = \"Hola mundo\"\n",
        "print(\"en minuscula es:\", a)\n",
        "b = a.upper()\n",
        "print(\"en mayuscula es\", b)\n",
        "g='carlos'\n",
        "g.upper()\n",
        "\n",
        "a = \"OScar is the best\"\n",
        "b = a.replace('OScar', 'Carlos')\n",
        "b\n",
        "g.replace('ar','al')\n",
        "\n",
        "name = \"Michael Jackson\"\n",
        "name.find('el')\n",
        "g.find('al')"
      ],
      "metadata": {
        "id": "1IC6Q3V6fWkY",
        "colab": {
          "base_uri": "https://localhost:8080/"
        },
        "outputId": "670eed19-04f7-4bad-fbfa-3e701717d951"
      },
      "execution_count": null,
      "outputs": [
        {
          "output_type": "stream",
          "name": "stdout",
          "text": [
            "en minuscula es: Hola mundo\n",
            "en mayuscula es HOLA MUNDO\n"
          ]
        },
        {
          "output_type": "execute_result",
          "data": {
            "text/plain": [
              "-1"
            ]
          },
          "metadata": {},
          "execution_count": 9
        }
      ]
    },
    {
      "cell_type": "code",
      "source": [
        "#Ver que ocurre cuando no encuentra \n",
        "name.find('Jasdfasdasdf')"
      ],
      "metadata": {
        "id": "9uKE257jfYmY",
        "colab": {
          "base_uri": "https://localhost:8080/"
        },
        "outputId": "e5f6f346-bb15-4d3c-d786-db602af3a137"
      },
      "execution_count": null,
      "outputs": [
        {
          "output_type": "execute_result",
          "data": {
            "text/plain": [
              "-1"
            ]
          },
          "metadata": {},
          "execution_count": 10
        }
      ]
    },
    {
      "cell_type": "code",
      "source": [
        "#imrprimir diagonal invertida\n",
        "print(\"\\\\\\\\\\\\\")\n",
        "print(r\"\\ \")"
      ],
      "metadata": {
        "id": "g2DWAjrOfbQ9",
        "colab": {
          "base_uri": "https://localhost:8080/"
        },
        "outputId": "5858be02-a678-4df3-d151-669d78c27c71"
      },
      "execution_count": null,
      "outputs": [
        {
          "output_type": "stream",
          "name": "stdout",
          "text": [
            "\\\\\\\n",
            "\\ \n"
          ]
        }
      ]
    },
    {
      "cell_type": "markdown",
      "source": [
        "## Examen "
      ],
      "metadata": {
        "id": "fczObFkqr7hW"
      }
    },
    {
      "cell_type": "markdown",
      "source": [
        "### Ejercicio 1: What is the result of the following operation in Python:\n",
        "\n",
        "3 + 2 * 2"
      ],
      "metadata": {
        "id": "fmkvY2jAsDbA"
      }
    },
    {
      "cell_type": "code",
      "source": [
        "3 + 2 * 2\n",
        "\n",
        "\n"
      ],
      "metadata": {
        "colab": {
          "base_uri": "https://localhost:8080/"
        },
        "id": "bRcE4Mo7r6mq",
        "outputId": "7b296699-38e6-4c31-d9cb-17edb5a3ee36"
      },
      "execution_count": null,
      "outputs": [
        {
          "output_type": "execute_result",
          "data": {
            "text/plain": [
              "7"
            ]
          },
          "metadata": {},
          "execution_count": 12
        }
      ]
    },
    {
      "cell_type": "markdown",
      "source": [
        "### Ejercicio 2: In Python, if you executed name = 'Lizz', what would be the output of print(name[0:2])?\n"
      ],
      "metadata": {
        "id": "9kF_LfGtv8DF"
      }
    },
    {
      "cell_type": "code",
      "source": [
        "name = 'Lizz'\n",
        "print(name[0:2])"
      ],
      "metadata": {
        "colab": {
          "base_uri": "https://localhost:8080/"
        },
        "id": "99xPm3dTwTDF",
        "outputId": "7789fec7-359d-4300-d876-37114ab8dab7"
      },
      "execution_count": null,
      "outputs": [
        {
          "output_type": "stream",
          "name": "stdout",
          "text": [
            "Li\n"
          ]
        }
      ]
    },
    {
      "cell_type": "markdown",
      "source": [
        "### Ejercicio 3: n Python, if you executed var = '01234567', what would be the result of print(var[::2])?"
      ],
      "metadata": {
        "id": "B5mNtViOw-qZ"
      }
    },
    {
      "cell_type": "code",
      "source": [
        "var = '01234567'\n",
        "print(var[::2])"
      ],
      "metadata": {
        "colab": {
          "base_uri": "https://localhost:8080/"
        },
        "id": "JiqlDHUIxFbZ",
        "outputId": "4ccd19f1-297c-4b84-d312-453ce3cef35a"
      },
      "execution_count": null,
      "outputs": [
        {
          "output_type": "stream",
          "name": "stdout",
          "text": [
            "0246\n"
          ]
        }
      ]
    },
    {
      "cell_type": "markdown",
      "source": [
        "### Ejercicio 4: In Python, what is the result of the following operation '1'+'2'?"
      ],
      "metadata": {
        "id": "lbFA1FbuxtHA"
      }
    },
    {
      "cell_type": "code",
      "source": [
        "'1'+'2'"
      ],
      "metadata": {
        "colab": {
          "base_uri": "https://localhost:8080/",
          "height": 35
        },
        "id": "w01CNHpqx1wu",
        "outputId": "adb01b32-7d01-4d45-a477-e2ddbffb5d56"
      },
      "execution_count": null,
      "outputs": [
        {
          "output_type": "execute_result",
          "data": {
            "text/plain": [
              "'12'"
            ],
            "application/vnd.google.colaboratory.intrinsic+json": {
              "type": "string"
            }
          },
          "metadata": {},
          "execution_count": 21
        }
      ]
    },
    {
      "cell_type": "markdown",
      "source": [
        "### Pregunta 5: Given myvar = 'hello', how would you convert myvar into uppercase?"
      ],
      "metadata": {
        "id": "wtqsMF6UyH7a"
      }
    },
    {
      "cell_type": "code",
      "source": [
        "myvar = 'hello'\n",
        "myvar\n",
        "myvar.upper()"
      ],
      "metadata": {
        "colab": {
          "base_uri": "https://localhost:8080/",
          "height": 35
        },
        "id": "HBd0guxRyRK_",
        "outputId": "37c914b7-2112-42d4-fe85-974d887ac371"
      },
      "execution_count": null,
      "outputs": [
        {
          "output_type": "execute_result",
          "data": {
            "text/plain": [
              "'HELLO'"
            ],
            "application/vnd.google.colaboratory.intrinsic+json": {
              "type": "string"
            }
          },
          "metadata": {},
          "execution_count": 23
        }
      ]
    },
    {
      "cell_type": "markdown",
      "source": [
        "# Módulo 2"
      ],
      "metadata": {
        "id": "JrysZsGCfgZh"
      }
    },
    {
      "cell_type": "markdown",
      "source": [
        "## Los objetivos de este Módulo 2 son:\n",
        "\n",
        "\n",
        "*   Listas y Tuplas\n",
        "*   Sets\n",
        "*   Diccionarios"
      ],
      "metadata": {
        "id": "_3lVRxMSy-BP"
      }
    },
    {
      "cell_type": "markdown",
      "source": [
        "### Las tuplas se diferencían por ser compuestas en \"()\" y los elementos dentro se separan por \",\" , Una tupla puede contenter cualquier tipo de dato, las tuplas no se pueden modificar.\n",
        "\n",
        "### Las tuplas pueden contener otras tuplas a esto se le conoce como \"Anidar\""
      ],
      "metadata": {
        "id": "xYvnrnmb15Xd"
      }
    },
    {
      "cell_type": "code",
      "source": [
        "#Crear un tuple e imprimirlo\n",
        "Tuple=(\"Carlos\",2.3,5,8)\n",
        "Tuple"
      ],
      "metadata": {
        "id": "5o16Zo5Egmju",
        "colab": {
          "base_uri": "https://localhost:8080/"
        },
        "outputId": "7baa3a99-a229-4268-c70a-bd1fb37d1b52"
      },
      "execution_count": null,
      "outputs": [
        {
          "output_type": "execute_result",
          "data": {
            "text/plain": [
              "('Carlos', 2.3, 5, 8)"
            ]
          },
          "metadata": {},
          "execution_count": 24
        }
      ]
    },
    {
      "cell_type": "code",
      "source": [
        "#Obtener los primero dos elementos del tuple\n",
        "Tuple[0:2]"
      ],
      "metadata": {
        "id": "FlMKO6Q-gnye"
      },
      "execution_count": null,
      "outputs": []
    },
    {
      "cell_type": "markdown",
      "source": [
        "### Las listas por ser compuestas en \"[]\" y los elementos dentro se separan por \",\" , Una tupla puede contener cualquier tipo de dato, las listas sí se pueden modificar."
      ],
      "metadata": {
        "id": "Ra4I4M2u5T1_"
      }
    },
    {
      "cell_type": "code",
      "source": [
        "#Crear una lista e imprimirla\n",
        "Lista=[\"Daniel\",3,56,35,\"Federico\"]\n",
        "Lista"
      ],
      "metadata": {
        "id": "adXnkXJYgpSt"
      },
      "execution_count": null,
      "outputs": []
    },
    {
      "cell_type": "code",
      "source": [
        "#Obtener los primeros dos elementos de la lista\n",
        "Lista[0:2]"
      ],
      "metadata": {
        "id": "kZy2JzhqgsIK"
      },
      "execution_count": null,
      "outputs": []
    },
    {
      "cell_type": "code",
      "source": [
        "#Cambiar un valor de la lista\n",
        "Lista[3]=36\n",
        "Lista"
      ],
      "metadata": {
        "id": "LhqxE08WgspF"
      },
      "execution_count": null,
      "outputs": []
    },
    {
      "cell_type": "code",
      "source": [
        "#Crear un tuple e imprimirlo\n",
        "Tuple_ejemplo=(\"cesar\",1.5,5,46,98,\"ramon\")\n",
        "Tuple_ejemplo"
      ],
      "metadata": {
        "id": "a1xKSa3OhKe3"
      },
      "execution_count": null,
      "outputs": []
    },
    {
      "cell_type": "code",
      "source": [
        "#Imprimir el tipo de tuple\n",
        "type(Tuple_ejemplo)"
      ],
      "metadata": {
        "id": "An4QqhzOhLPp"
      },
      "execution_count": null,
      "outputs": []
    },
    {
      "cell_type": "code",
      "source": [
        "#Imprimir cada valor del tuple\n",
        "Tuple_ejemplo[0]\n",
        "Tuple_ejemplo[1]\n",
        "Tuple_ejemplo[2]\n",
        "Tuple_ejemplo[3]\n",
        "Tuple_ejemplo[4]\n",
        "Tuple_ejemplo[5]"
      ],
      "metadata": {
        "id": "oTsuVyUShMup"
      },
      "execution_count": null,
      "outputs": []
    },
    {
      "cell_type": "code",
      "source": [
        "#Imprimir el tipo de cada valor del tuple\n",
        "type(Tuple_ejemplo[0])\n",
        "type(Tuple_ejemplo[1])\n",
        "type(Tuple_ejemplo[2])\n",
        "type(Tuple_ejemplo[3])\n",
        "type(Tuple_ejemplo[4])\n",
        "type(Tuple_ejemplo[5])"
      ],
      "metadata": {
        "id": "Mn8T_bbQhOxN"
      },
      "execution_count": null,
      "outputs": []
    },
    {
      "cell_type": "code",
      "source": [
        "#Usar la indexación negativa\n",
        "Tuple_ejemplo[-1]"
      ],
      "metadata": {
        "id": "lEzvmOoNhQhl"
      },
      "execution_count": null,
      "outputs": []
    },
    {
      "cell_type": "code",
      "source": [
        "#Concatenar dos tuples\n",
        "Tuple1 = (1,2,3,4,5,6)\n",
        "Tuple2 = (\"Victoria\",\"Francisca\",\"Namora\")\n",
        "Tuple3 = Tuple1 + Tuple2 + (\"Etcetera\",1)\n",
        "Tuple3"
      ],
      "metadata": {
        "id": "QzN_uSpNhSM1"
      },
      "execution_count": null,
      "outputs": []
    },
    {
      "cell_type": "code",
      "source": [
        "#Utilizar slice y medir la longitud del tuple\n",
        "Tuple3[2:4]\n",
        "len(Tuple3)"
      ],
      "metadata": {
        "id": "HKV9365uhURs"
      },
      "execution_count": null,
      "outputs": []
    },
    {
      "cell_type": "code",
      "source": [
        "#Ordenar un tuple\n",
        "Tuple4=(65,54,87,4,5,1,2,3,654,98)\n",
        "Tuple5=sorted(Tuple4)\n",
        "Tuple5"
      ],
      "metadata": {
        "id": "cAoAlcGDhWNl"
      },
      "execution_count": null,
      "outputs": []
    },
    {
      "cell_type": "code",
      "source": [
        "#Hacer tuple anidada e imprimir elementos\n",
        "Tuple6=(1,2,3,(\"Cuatro\",\"Cinco\"),6,7,(\"Ocho\",\"Nueve\",(10,11)))\n",
        "print(\"El primer elemento del tuple es:\", Tuple6[0])\n",
        "print(\"El primer elemento del tuple anidado es:\", Tuple6[3][1])\n",
        "print(\"El primer elemento del tuple de segundo anidado es:\", Tuple6[6][2][0])"
      ],
      "metadata": {
        "id": "rSCfX-WShZS2"
      },
      "execution_count": null,
      "outputs": []
    },
    {
      "cell_type": "code",
      "source": [
        "#Encontrar la posicion o el indice de un elemento\n",
        "Tuple6.index(7)"
      ],
      "metadata": {
        "id": "i5U7OrRKhcFG"
      },
      "execution_count": null,
      "outputs": []
    },
    {
      "cell_type": "code",
      "source": [
        "#Convertir una lista en un set\n",
        "Lista=['a','b','c']\n",
        "Mi_set=set(Lista)\n",
        "Mi_set"
      ],
      "metadata": {
        "id": "cDeckE_tiCWX"
      },
      "execution_count": null,
      "outputs": []
    },
    {
      "cell_type": "code",
      "source": [
        "#Añadir un elemento a un set\n",
        "Set1={'A','B','C'}\n",
        "Set1.add('Casa')\n",
        "Set1"
      ],
      "metadata": {
        "id": "Pt9qEe77iDpy"
      },
      "execution_count": null,
      "outputs": []
    },
    {
      "cell_type": "code",
      "source": [
        "#Hacer una intersección entre dos sets\n",
        "Set2={'A','B','C','z','g','f'}\n",
        "Set1&Set2\n",
        "Set1.intersection(Set2)"
      ],
      "metadata": {
        "id": "hehaDwA4iFFw"
      },
      "execution_count": null,
      "outputs": []
    },
    {
      "cell_type": "code",
      "source": [
        "#Crear una lista e imprimirla\n",
        "Lista=[\"Camion\",1,2,3,\"Vaca\"]\n",
        "Lista"
      ],
      "metadata": {
        "id": "Tdi2YLxPhev-"
      },
      "execution_count": null,
      "outputs": []
    },
    {
      "cell_type": "code",
      "source": [
        "#Imprimir con índices positivos y negativos\n",
        "print(\"EL primer elemento es\",Lista[0])\n",
        "print(\"Primer elemento con indice inverso es\",Lista[-5])"
      ],
      "metadata": {
        "id": "y28POBzvhfP0"
      },
      "execution_count": null,
      "outputs": []
    },
    {
      "cell_type": "code",
      "source": [
        "#Rebanar una lista\n",
        "Lista2=[\"Perro\",23,56,(\"Casa\",\"Oscar\"),89,91,[\"zapatos\",3]]\n",
        "Lista2[1:4]"
      ],
      "metadata": {
        "id": "IDyM61i7hg2_"
      },
      "execution_count": null,
      "outputs": []
    },
    {
      "cell_type": "code",
      "source": [
        "#Extender una lista de dos formas diferentes\n",
        "Lista2.extend([4,29])\n",
        "Lista2\n",
        "Lista2.append([35,295])\n",
        "Lista2"
      ],
      "metadata": {
        "id": "lmNbMmA0hifc"
      },
      "execution_count": null,
      "outputs": []
    },
    {
      "cell_type": "code",
      "source": [
        "#Modificar y eliminar elementos de una lista\n",
        "Lista2[0]='Gato'\n",
        "print (\"La lista vieja\",Lista2)\n",
        "del(Lista2[1])\n",
        "print(\"La lista nueva\",Lista2)"
      ],
      "metadata": {
        "id": "5ohFU1TQhkl9"
      },
      "execution_count": null,
      "outputs": []
    },
    {
      "cell_type": "code",
      "source": [
        "#Dividir cadena de dos formas diferentes\n",
        "\"Hola buenos días\".split()"
      ],
      "metadata": {
        "id": "bkwSAvVWhmRB"
      },
      "execution_count": null,
      "outputs": []
    },
    {
      "cell_type": "code",
      "source": [
        "\"Hola buenos, dias, que tal\".split(\",\")"
      ],
      "metadata": {
        "id": "k_FklktPhn9x"
      },
      "execution_count": null,
      "outputs": []
    },
    {
      "cell_type": "code",
      "source": [
        "#Copiar una lista con aliasing\n",
        "Lista3 = Lista2\n",
        "Lista3"
      ],
      "metadata": {
        "id": "FdmKQ-sShrWq"
      },
      "execution_count": null,
      "outputs": []
    },
    {
      "cell_type": "code",
      "source": [
        "#Clonar una lista, es decir sin aliasing\n",
        "Lista4=Lista3[:]\n",
        "Lista4"
      ],
      "metadata": {
        "id": "rZRxZBMchtJu"
      },
      "execution_count": null,
      "outputs": []
    },
    {
      "cell_type": "code",
      "source": [
        "#Concatenar listas\n",
        "Lista5=Lista3+Lista2\n",
        "Lista5"
      ],
      "metadata": {
        "id": "3UNBKs3ehtmi"
      },
      "execution_count": null,
      "outputs": []
    },
    {
      "cell_type": "markdown",
      "source": [
        "### Los sets igual pueden recibir distintos tipos de datos, pero al contrario de las listas y tuplas, estos elementos están desordenados es decir que los sets tienen elementos únicos es decir que no puede haber elementos duplicados, y para definir un set se utilizan \"{}\" y se separan por \",\" si hay elementos duplicados, al crearse el set sólo se pondrá una vez."
      ],
      "metadata": {
        "id": "btvxA22uND0E"
      }
    },
    {
      "cell_type": "code",
      "source": [
        "#Crear un set e imprimirlo\n",
        "set1 = {\"pop\", \"rock\", \"soul\", \"hard rock\", \"rock\", \"R&B\", \"rock\", \"disco\"}\n",
        "set1"
      ],
      "metadata": {
        "id": "2FNkbJ1_hvzZ"
      },
      "execution_count": null,
      "outputs": []
    },
    {
      "cell_type": "code",
      "source": [
        "#Convertir una lista en un set y añadir elementos\n",
        "Set_de_musica=set(['pop','cumbia','salsa'])\n",
        "Set_de_musica.add('nerengue')\n",
        "Set_de_musica"
      ],
      "metadata": {
        "id": "-dZoVxvdhy9y"
      },
      "execution_count": null,
      "outputs": []
    },
    {
      "cell_type": "code",
      "source": [
        "#Buscar un elemento y eliminarlos\n",
        "'nerengue' in Set_de_musica\n",
        "Set_de_musica.remove('nerengue')\n",
        "Set_de_musica"
      ],
      "metadata": {
        "id": "PeTwx_Cwh0bf"
      },
      "execution_count": null,
      "outputs": []
    },
    {
      "cell_type": "code",
      "source": [
        "#Unir dos sets y buscar la intersección\n",
        "Set2={'pop','bumbia','regue','ska'}\n",
        "Set_de_musica,set2\n",
        "interseccion=Set_de_musica&set2\n",
        "interseccion"
      ],
      "metadata": {
        "id": "qnDZv3rxh11c"
      },
      "execution_count": null,
      "outputs": []
    },
    {
      "cell_type": "code",
      "source": [
        "#Buscar los elementos que están solo en un set usando difference\n",
        "Set_de_musica.difference(Set2)"
      ],
      "metadata": {
        "id": "8JCt0d75h3Vu"
      },
      "execution_count": null,
      "outputs": []
    },
    {
      "cell_type": "code",
      "source": [
        "#Unir dos sets\n",
        "Set_de_musica.union(Set2)"
      ],
      "metadata": {
        "id": "y6-PNAqoh5Ce"
      },
      "execution_count": null,
      "outputs": []
    },
    {
      "cell_type": "code",
      "source": [
        "#Usar issubset y issuperset\n",
        "set(Set_de_musica).issuperset(Set2)\n",
        "set(Set2).issubset(Set_de_musica)"
      ],
      "metadata": {
        "id": "uPB_Rufeh65g"
      },
      "execution_count": null,
      "outputs": []
    },
    {
      "cell_type": "code",
      "source": [
        "#sumar elementos de un set y compararlos\n",
        "A = [1, 2, 2, 1]  \n",
        "B = set([1, 2, 2, 1])\n",
        "print(\"the sum of A is:\", sum(A))\n",
        "print(\"the sum of B is:\", sum(B))"
      ],
      "metadata": {
        "id": "83X0AR_ah8TY"
      },
      "execution_count": null,
      "outputs": []
    },
    {
      "cell_type": "markdown",
      "source": [
        "### Los diccionarios tienen llaves y valores, para crear un diccionario usamos \"{}\" las llaves son únicas e inmutables y seguirdos por los valores"
      ],
      "metadata": {
        "id": "fSCbmrQgPm69"
      }
    },
    {
      "cell_type": "code",
      "source": [
        "#Crear un diccionario y encontrar un valor\n",
        "Diccionario={'indice1':10, 'indice2':'Perro'}\n",
        "Diccionario['indice2']"
      ],
      "metadata": {
        "colab": {
          "base_uri": "https://localhost:8080/",
          "height": 36
        },
        "id": "oK-p07l0gvQj",
        "outputId": "27b929db-1710-483c-e7f3-6cf989a04578"
      },
      "execution_count": null,
      "outputs": [
        {
          "output_type": "execute_result",
          "data": {
            "text/plain": [
              "'Perro'"
            ],
            "application/vnd.google.colaboratory.intrinsic+json": {
              "type": "string"
            }
          },
          "metadata": {},
          "execution_count": 25
        }
      ]
    },
    {
      "cell_type": "code",
      "source": [
        "#Encontrar los índices o llaves del diccionario\n",
        "Diccionario.keys()"
      ],
      "metadata": {
        "id": "I5safe2chGGq"
      },
      "execution_count": null,
      "outputs": []
    },
    {
      "cell_type": "code",
      "source": [
        "#Crear un diccionario de datos y acceder a sus valores de 2 formas diferentes\n",
        "Diccionario = {\"llave1\": 156, \"key2\": \"2\", \"key3\": ['oso', 'lobo', 'camion'], \"key4\": (4, 4, 4), ('key5'): 5, (0, 'Carlos'): 6}\n",
        "Diccionario\n",
        "Diccionario['llave1']\n",
        "Diccionario[(0,'Carlos')]"
      ],
      "metadata": {
        "id": "NfhXizhufktv"
      },
      "execution_count": null,
      "outputs": []
    },
    {
      "cell_type": "code",
      "source": [
        "#Obtener los valores y las llaves de un diccionario\n",
        "Diccionario.keys()\n",
        "Diccionario.values()"
      ],
      "metadata": {
        "id": "Z8Up8gEef-VT"
      },
      "execution_count": null,
      "outputs": []
    },
    {
      "cell_type": "code",
      "source": [
        "#Añadir valores del diccionario\n",
        "Diccionario['Pinata'] = 2021\n",
        "Diccionario['Pinata']"
      ],
      "metadata": {
        "id": "cFyRMAoggAOa"
      },
      "execution_count": null,
      "outputs": []
    },
    {
      "cell_type": "code",
      "source": [
        "#Buscar un valor en el diccionario\n",
        "'Pinata' in Diccionario"
      ],
      "metadata": {
        "id": "ncpSkE0agCQj"
      },
      "execution_count": null,
      "outputs": []
    },
    {
      "cell_type": "code",
      "source": [
        "#Eliminar valores del diccionario\n",
        "del(Diccionario['Pinata'])\n",
        "'Pinata' in Diccionario"
      ],
      "metadata": {
        "id": "u0zCtjGwgEBO"
      },
      "execution_count": null,
      "outputs": []
    },
    {
      "cell_type": "markdown",
      "source": [
        "## Examen\n"
      ],
      "metadata": {
        "id": "2tS5I_HZIXid"
      }
    },
    {
      "cell_type": "markdown",
      "source": [],
      "metadata": {
        "id": "rZp1f2i1VBF-"
      }
    },
    {
      "cell_type": "markdown",
      "source": [
        "### Ejercicio 1: What is the syntax used to obtain the first element of the tuple:\n",
        "\n",
        "A = ('a','b','c')"
      ],
      "metadata": {
        "id": "TQ-F41bnIhO2"
      }
    },
    {
      "cell_type": "code",
      "source": [
        "A = ('a','b','c')\n",
        "A[0]"
      ],
      "metadata": {
        "id": "LOx3O5R6T1xv",
        "outputId": "ee5dbb46-415d-4f06-d7bd-77213b66961c",
        "colab": {
          "base_uri": "https://localhost:8080/",
          "height": 35
        }
      },
      "execution_count": null,
      "outputs": [
        {
          "output_type": "execute_result",
          "data": {
            "text/plain": [
              "'a'"
            ],
            "application/vnd.google.colaboratory.intrinsic+json": {
              "type": "string"
            }
          },
          "metadata": {},
          "execution_count": 31
        }
      ]
    },
    {
      "cell_type": "markdown",
      "source": [
        "### Ejercicio 2: After applying the following method, L.append(['a','b']), the following list will only be one element longer.\n",
        "True\n",
        "\n"
      ],
      "metadata": {
        "id": "4k6SLZVIUB1M"
      }
    },
    {
      "cell_type": "markdown",
      "source": [
        "### Ejercicio 3: How many duplicate elements can you have in a set?\n",
        "0. You can only have one unique element in a set."
      ],
      "metadata": {
        "id": "txVi0Zc4VB_D"
      }
    },
    {
      "cell_type": "markdown",
      "source": [
        "### Ejercicio 4: Consider the following Python dictionary:\n",
        "\n",
        "Dict={\"A\":1,\"B\":\"2\",\"C\":[3,3,3],\"D\":(4,4,4),'E':5,'F':6}\n",
        "\n",
        "What is the result of the following operation: Dict[\"D\"]?"
      ],
      "metadata": {
        "id": "0SeS0u-mVKc0"
      }
    },
    {
      "cell_type": "code",
      "source": [
        "Dict={\"A\":1,\"B\":\"2\",\"C\":[3,3,3],\"D\":(4,4,4),'E':5,'F':6}\n",
        "Dict[\"D\"]"
      ],
      "metadata": {
        "id": "tti6jwRRVRAP",
        "outputId": "0c65dcd3-9f12-417e-d456-bef0f46025d7",
        "colab": {
          "base_uri": "https://localhost:8080/"
        }
      },
      "execution_count": null,
      "outputs": [
        {
          "output_type": "execute_result",
          "data": {
            "text/plain": [
              "(4, 4, 4)"
            ]
          },
          "metadata": {},
          "execution_count": 32
        }
      ]
    },
    {
      "cell_type": "markdown",
      "source": [
        "### Ejercicio 5: What is an important difference between lists and tuples?\n",
        "Lists are mutable, tuples are not."
      ],
      "metadata": {
        "id": "DjJrtagDVZYT"
      }
    },
    {
      "cell_type": "markdown",
      "source": [
        "# Módulo 3\n"
      ],
      "metadata": {
        "id": "8MKH1-avibXD"
      }
    },
    {
      "cell_type": "markdown",
      "source": [
        "## Los objetivos de este Módulo 3 son:\n",
        "\n",
        "\n",
        "*   Ciclos\n",
        "*   Condiciones y Branching\n",
        "*   Funciones\n",
        "*   Objetos y Clases"
      ],
      "metadata": {
        "id": "1ZTQcfUEC8C8"
      }
    },
    {
      "cell_type": "markdown",
      "source": [
        "## Operadores de comparación\n",
        "\n",
        "Estos operadores nos regresa un booleano\n",
        "\n",
        "*   \"==\" igualdad\n",
        "*   \">\" y \"<\" mayor y menor que \n",
        "*   \"!=\" diferente de \n",
        "*   \"If, else y elif\" son búcles\n",
        "*   \"not, or, \n",
        "*   List item\n",
        "\n",
        "\n",
        "\n",
        "\n",
        "\n",
        "\n"
      ],
      "metadata": {
        "id": "QUbQZmAlY8Cn"
      }
    },
    {
      "cell_type": "code",
      "source": [
        "#Utilizar operadores de comparación\n",
        "valor=10\n",
        "valor!=20"
      ],
      "metadata": {
        "id": "mFMQ-PT-ScXm"
      },
      "execution_count": null,
      "outputs": []
    },
    {
      "cell_type": "markdown",
      "source": [
        "##  Branching"
      ],
      "metadata": {
        "id": "T1-rBiuAaXz0"
      }
    },
    {
      "cell_type": "code",
      "source": [
        "#Utilizar branching\n",
        "valor2='Perro'\n",
        "if(valor2=='Perro'):\n",
        "    print('Tienes un perro')\n",
        "else:\n",
        "    print('No tienes un perro')"
      ],
      "metadata": {
        "id": "oeaE_GnCTDJy"
      },
      "execution_count": null,
      "outputs": []
    },
    {
      "cell_type": "code",
      "source": [
        "#Usar branching con operadores logicos\n",
        "valor3=30\n",
        "valor>1 and valor3<40"
      ],
      "metadata": {
        "id": "p1N1r-VwTG-E"
      },
      "execution_count": null,
      "outputs": []
    },
    {
      "cell_type": "code",
      "source": [
        "#Usar los operadores de comparación\n",
        "variable = 20\n",
        "variable == 10\n",
        "variable > 5\n",
        "variable != 15\n",
        "\"Carlos\" == 'Ramon'\n",
        "'A'> 'B' \n",
        "#Toma los valores ascii de las letras para comparar, es case sensitive"
      ],
      "metadata": {
        "id": "BqV_x3gcTI5s"
      },
      "execution_count": null,
      "outputs": []
    },
    {
      "cell_type": "code",
      "source": [
        "#Usar el if, else y elif statement con and y or\n",
        "fechanacimiento = 1950\n",
        "sexo= 'Hombre'\n",
        "if (fechanacimiento>1988) and (fechanacimiento<1990):\n",
        "    print(\"Naciste en el ano 1989\")\n",
        "elif (fechanacimiento>1978) or (fechanacimiento>1988):\n",
        "    print(\"Eres mayor de edad al menos\")\n",
        "else:\n",
        "    print('Ni naciste en el 1989 ni eres mayor de edad')\n",
        "print('Gracias por participar')\n",
        "not(True)"
      ],
      "metadata": {
        "id": "2u5lu-CTTR2F"
      },
      "execution_count": null,
      "outputs": []
    },
    {
      "cell_type": "code",
      "source": [
        "#Crear una lista y usar un loop para imprimir todos los elemento\n",
        "A=[3,4,5]\n",
        "for i in A:  \n",
        "    print(i)\n",
        "    \n",
        "Lista=[1,2,3,4,5,6]\n",
        "for contador in Lista:\n",
        "    print('elemento',contador)\n",
        "    print(Lista[contador])"
      ],
      "metadata": {
        "id": "QafcYeYcTVuI"
      },
      "execution_count": null,
      "outputs": []
    },
    {
      "cell_type": "code",
      "source": [
        "#Imprimir una secuencia\n",
        "variable1=10\n",
        "variable2=1\n",
        "while (variable2<variable1):\n",
        "    print(variable2)\n",
        "    variable2=variable2+1"
      ],
      "metadata": {
        "id": "4ltcbXjUTZP8"
      },
      "execution_count": null,
      "outputs": []
    },
    {
      "cell_type": "markdown",
      "source": [
        "## Búcles\n",
        "Los búcles repiten una y otra vez una tarea hasta que se cumple cierta condición\n",
        "\n",
        "\n",
        "*   for\n",
        "*   while\n",
        "\n",
        "\n"
      ],
      "metadata": {
        "id": "HME-R_UNeeAh"
      }
    },
    {
      "cell_type": "code",
      "source": [
        "#Usar range\n",
        "range(5)\n",
        "range(1,8)"
      ],
      "metadata": {
        "id": "_LVjCdWhT4UN"
      },
      "execution_count": null,
      "outputs": []
    },
    {
      "cell_type": "code",
      "source": [
        "#Usar el loop for\n",
        "dates = [1999,2000,2001]\n",
        "N = len(dates)\n",
        "\n",
        "for i in range(N):\n",
        "    print(dates[i])   \n",
        "\n",
        "for i in range(0, 8):\n",
        "    print(i)\n",
        "\n",
        "for year in fechas:  \n",
        "    print(year) "
      ],
      "metadata": {
        "id": "080g008nT8E5"
      },
      "execution_count": null,
      "outputs": []
    },
    {
      "cell_type": "code",
      "source": [
        "#Usar el loop for con listas\n",
        "colores = ['rojo', 'amarillo', 'verde', 'morado', 'azul']\n",
        "\n",
        ")for i in range(0, 5):\n",
        "    print(\"El color actual \", i, 'es',  colores[i])\n",
        "    colores[i] = 'blanco'\n",
        "    print(\"El color siguente\", i, 'es',  colores[i])\n",
        "\n",
        "colores = ['rojo', 'amarillo', 'verde', 'morado', 'azul']\n",
        "\n",
        "for contador, color in enumerate(colores):\n",
        "    print(contador, color"
      ],
      "metadata": {
        "id": "L7QN6h_qUT6z"
      },
      "execution_count": null,
      "outputs": []
    },
    {
      "cell_type": "code",
      "source": [
        "#Usar el loop while\n",
        "\n",
        "fechas = [1982, 1980, 1973, 2000]\n",
        "\n",
        "i = 0\n",
        "ano = fechas[0]\n",
        "\n",
        "while(ano != 1973):    \n",
        "    print('el ano es',ano)\n",
        "    i = i + 1\n",
        "    ano = fechas[i]\n",
        "    \n",
        "\n",
        "print(\"El ciclo recorrio\", i ,\"veces para encontrar la fecha\")"
      ],
      "metadata": {
        "id": "Nt5JTjYFUXds"
      },
      "execution_count": null,
      "outputs": []
    },
    {
      "cell_type": "code",
      "source": [
        "#Ejercicio no l e encuentro el sentido\n",
        "Evaluaciones = [10, 9.5, 10, 8, 7.5, 5, 10, 10]\n",
        "i = 0\n",
        "Evaluacion = Evaluaciones[0]\n",
        "#Mientras que el contador i sea menor a la longitud de la lista evaluaciones\n",
        "#Y la evaluacion sea mayor a 6\n",
        "while(i < len(Evaluaciones) and Evaluacion >= 6):\n",
        "    print('la calificacion es',Evaluacion)\n",
        "    i = i + 1 \n",
        "    Evaluacion = Evaluaciones[i]\n",
        "    i = i + 1"
      ],
      "metadata": {
        "id": "QUojVl5WUbNV"
      },
      "execution_count": null,
      "outputs": []
    },
    {
      "cell_type": "code",
      "source": [
        "#Otro ejercicio\n",
        "Colores = ['verde', 'verde', 'azul', 'verde', 'rojo ', 'naranja']\n",
        "Solo_Verdes = []\n",
        "i = 0\n",
        "while(i < len(Colores) and Colores[i] == 'verde'):\n",
        "    print('Color revisado', Colores[i])\n",
        "    Solo_Verdes.append(Colores[i])\n",
        "    i = i + 1\n",
        "    print(i)\n",
        "print (Solo_Verdes)"
      ],
      "metadata": {
        "id": "72Bdl-l8UcIZ"
      },
      "execution_count": null,
      "outputs": []
    },
    {
      "cell_type": "markdown",
      "source": [
        "## Funciones\n",
        "Las funciones son líneas de código que nos permiten repetir una tarea una y otra vez solo con llamarala. Python tiene muchas funciones predefinidas"
      ],
      "metadata": {
        "id": "_JlxPL0CgOvN"
      }
    },
    {
      "cell_type": "code",
      "source": [
        "#Definir una función y llamarla\n",
        "def funcion(a,b):\n",
        "    return a+b\n",
        "    \n",
        "a=4\n",
        "b=2\n",
        "\n",
        "if a+b == funcion(a,b):   \n",
        "    print(\"Correct.\")   \n",
        "else:    \n",
        "    print(\"Incorrect.\")"
      ],
      "metadata": {
        "id": "OFV4ZFt5Uk5I"
      },
      "execution_count": null,
      "outputs": []
    },
    {
      "cell_type": "code",
      "source": [
        "#Definir y llamar una función que sume una cadena\n",
        "def sumacadena(c):\n",
        "    return sum(c)\n",
        "\n",
        "c=[1,2,3,4,5]\n",
        "\n",
        "if sum(c)==sumacadena(c):   \n",
        "    print(\"Correct.\")   \n",
        "else:    \n",
        "    print(\"Incorrect.\")"
      ],
      "metadata": {
        "id": "rJycQqzdUn7U"
      },
      "execution_count": null,
      "outputs": []
    },
    {
      "cell_type": "code",
      "source": [
        "#Define una función con comentarios\n",
        "def mifuncion(valor1,valor2):\n",
        "    \"\"\"\n",
        "    Esta función hace una operacion aritmetica\n",
        "    \"\"\"\n",
        "    suma=valor1*valor2\n",
        "    return(suma)\n",
        "a=1\n",
        "b=2\n",
        "print (\"la suma de\",a, \"+\",b, \"es\",mifuncion(a,b))\n",
        "\n",
        "mifuncion(\"carlos\",3)"
      ],
      "metadata": {
        "id": "yUffnQ9ZUwzT"
      },
      "execution_count": null,
      "outputs": []
    },
    {
      "cell_type": "code",
      "source": [
        "#Obtener información sobre la función \n",
        "help(mifuncion)"
      ],
      "metadata": {
        "id": "3wYn1oZXU5FS"
      },
      "execution_count": null,
      "outputs": []
    },
    {
      "cell_type": "code",
      "source": [
        "#Usar una función vacia\n",
        "def soloimprime():\n",
        "    print(\"esta funcion solo imprime\")\n",
        "    \n",
        "soloimprime()"
      ],
      "metadata": {
        "id": "qbzR86lQVPza"
      },
      "execution_count": null,
      "outputs": []
    },
    {
      "cell_type": "code",
      "source": [
        "#Usar funciones predefinidas\n",
        "Cadena=[10,3,5,9,12,654,68]\n",
        "#funcion print\n",
        "print(\"Hola\")\n",
        "#Funcion sum\n",
        "sum(Cadena)\n",
        "#funcion len\n",
        "len(Cadena)"
      ],
      "metadata": {
        "id": "sNwrwAKYVRh9"
      },
      "execution_count": null,
      "outputs": []
    },
    {
      "cell_type": "code",
      "source": [
        "#Hacer una función con else if y loops\n",
        "def mifuncion(edad, nombre):\n",
        "    if edad>18:\n",
        "        return\"Eres mayor de edad\"\n",
        "    else:\n",
        "        return \"No eres mayor de edad\"\n",
        "print(\"Carlos\",mifuncion(20,\"carlos\"))"
      ],
      "metadata": {
        "id": "v0NsXTaDVVF5"
      },
      "execution_count": null,
      "outputs": []
    },
    {
      "cell_type": "code",
      "source": [
        "def imprimelista(lista):\n",
        "    for elemento in lista:\n",
        "        print(elemento)\n",
        "\n",
        "imprimelista(['1', 1, 'the man', \"abc\"])"
      ],
      "metadata": {
        "id": "syhl9rq2VZs8"
      },
      "execution_count": null,
      "outputs": []
    },
    {
      "cell_type": "code",
      "source": [
        "#Usar variables globales\n",
        "\n",
        "artista =\"Carlos\"\n",
        "def impresor(artista):\n",
        "    global variableinterna\n",
        "    variableinterna=\"Maluma\"\n",
        "    print(artista,\"es un artista\")\n",
        "    \n",
        "impresor(artista)\n",
        "impresor(variableinterna)"
      ],
      "metadata": {
        "id": "ogjulCetVcjU"
      },
      "execution_count": null,
      "outputs": []
    },
    {
      "cell_type": "code",
      "source": [
        "#Usar funciones con argumentops indefinidas\n",
        "def printDictionary(**args):\n",
        "    for key in args:\n",
        "        print(key + \" : \" + args[key])\n",
        "\n",
        "printDictionary(Country='Canada',Province='Ontario',City='Toronto')"
      ],
      "metadata": {
        "id": "xDWAdZm-Vdya"
      },
      "execution_count": null,
      "outputs": []
    },
    {
      "cell_type": "code",
      "source": [
        "def anadeelementos(list):\n",
        "    list.append(\"Three\")\n",
        "    list.append(\"Four\")\n",
        "\n",
        "myList = [\"One\",\"Two\"]\n",
        "\n",
        "anadeelementos(myList)\n",
        "\n",
        "myList"
      ],
      "metadata": {
        "id": "JwjI7UtCVgv3"
      },
      "execution_count": null,
      "outputs": []
    },
    {
      "cell_type": "code",
      "source": [
        "#Ejercicio del carro y sus dueños\n",
        "#Creamos el objeto\n",
        "class vehiculo(object):\n",
        "    def _init_(self,marca,modelo,color):\n",
        "        self.marca=marca;\n",
        "        self.modelo=modelo;\n",
        "        self.color=color;\n",
        "        self.numero_duenos=0\n",
        "#Ahora hacemos el metodo par aimrpimir los atributos\n",
        "    def imprimir_informacion(self):\n",
        "        print(\"Carro marca\",self.marca)\n",
        "        print(\"Carro modelo\",self.modelo)\n",
        "        print(\"Carro color\",self.color)\n",
        "        print(\"Cantidad de duenos\",self.numero_duenos)\n",
        "#Definimos el metodo vender, para aumentar el numero de vendedoreas\n",
        "    def venta(self):\n",
        "        self.numero_duenos=numero_duenos+1"
      ],
      "metadata": {
        "id": "EoOcL0rOVmlx"
      },
      "execution_count": null,
      "outputs": []
    },
    {
      "cell_type": "code",
      "source": [
        "#Creamos un nuevo carro e imprimios su atributo\n",
        "dir(vehiculo)\n",
        "\n",
        "marca=\"BMW\"\n",
        "modelo=\"Serie1\"\n",
        "color=\"Blanco\"\n",
        "\n",
        "micarro = vehiculo(marca,modelo,color)\n",
        "\n",
        "micarro.imprimir_informacion()"
      ],
      "metadata": {
        "id": "yWQ2EC0YVrxk"
      },
      "execution_count": null,
      "outputs": []
    },
    {
      "cell_type": "code",
      "source": [
        "#Aumentamos sus dueños\n",
        "\n",
        "for i in range(3):\n",
        "    micarro.venta()\n",
        "micarro.imprimir_informacion()"
      ],
      "metadata": {
        "id": "ho1xsIVkVu5p"
      },
      "execution_count": null,
      "outputs": []
    },
    {
      "cell_type": "code",
      "source": [
        "#Importamos libreria para dibujar objetos\n",
        "\n",
        "import matplotlib.pyplot as plt\n",
        "%matplotlib inline  "
      ],
      "metadata": {
        "id": "_6w92YiUVy8P"
      },
      "execution_count": null,
      "outputs": []
    },
    {
      "cell_type": "code",
      "source": [
        "# Creamos la clase círculo\n",
        "\n",
        "class Circulo(object):\n",
        "    \n",
        "    # Constructor\n",
        "    def __init__(self, radio=3, color='blue'):\n",
        "        self.radio = radio\n",
        "        self.color = color \n",
        "    \n",
        "    # Creamos el metodo para aumentar radio\n",
        "    def aumentar_radio(self, r):\n",
        "        self.radio = self.radio + r\n",
        "        return(self.radio)\n",
        "    \n",
        "    # Creamos metodo de impresion, los comandos no los conozco bien\n",
        "    def dibujarCirculo(self):\n",
        "        plt.gca().add_patch(plt.Circle((0, 0), radio=self.radio, fc=self.color))\n",
        "        plt.axis('scaled')\n",
        "        plt.show()"
      ],
      "metadata": {
        "id": "aPdgMyV4V4A8"
      },
      "execution_count": null,
      "outputs": []
    },
    {
      "cell_type": "code",
      "source": [
        "#Creamos círculos\n",
        "CirculoRojo=Circulo(10,'Rojo')\n",
        "#Imprimirmos sus atributos\n",
        "print('creaste un circulo de radio', CirculoRojo.radio)\n",
        "print('creaste un circulo de color', CirculoRojo.color)"
      ],
      "metadata": {
        "id": "KziMNeemWULU"
      },
      "execution_count": null,
      "outputs": []
    },
    {
      "cell_type": "code",
      "source": [
        "#Cambiamos el tamaño del radio e imprimios el círculo\n",
        "CirculoRojo.radio=5\n",
        "CirculoRojo.dibujarCirculo()\n",
        "CirculoRojo.aumentar_radio(3)\n",
        "CirculoRojo.dibujarCirculo()"
      ],
      "metadata": {
        "id": "NxMjAn0cWXiN"
      },
      "execution_count": null,
      "outputs": []
    },
    {
      "cell_type": "code",
      "source": [
        "#Ejercicio del texto analizado\n",
        "class TextoAnalizado(object):\n",
        "    \n",
        "    def __init__ (self, text):\n",
        "        # Quita signos de puntuacion\n",
        "        QuitarComas = text.replace('.','').replace('!','').replace('?','').replace(',','')\n",
        "        \n",
        "        # Convierte el texto en minuscula\n",
        "        TextoenMinuscula = QuitarComas.lower()\n",
        "        \n",
        "        self.TextoSinPuntos = TextoenMinuscula\n",
        "        \n",
        "    def ContadordePalabras(self):        \n",
        "        # Divide el texto en palabras separadas por espacio\n",
        "        ListaPalabras = self.QuitarComas.split(' ')\n",
        "        \n",
        "        # Creamos el diccionario de palabras\n",
        "        DiccionarioPalabras = {}\n",
        "        for word in set(ListaPalabras): # usamos la funcion set para elimnar palabras duplicadas\n",
        "            DiccionarioPalabras[word] = ListaPalabras.count(word)\n",
        "        \n",
        "        return DiccionarioPalabras\n",
        "    \n",
        "    def RecorreLista(self,word):\n",
        "        # get frequency map\n",
        "        Palabras = self.ContadordePalabras()\n",
        "        \n",
        "        if word in Palabras:\n",
        "            return Palabras[word]\n",
        "        else:\n",
        "            return 0"
      ],
      "metadata": {
        "id": "G0JBfb62Wbls"
      },
      "execution_count": null,
      "outputs": []
    },
    {
      "cell_type": "code",
      "source": [
        "#Lo probamos\n",
        "import sys\n",
        "\n",
        "PalabrasMuestra = {'eirmod': 1,'sed': 1, 'amet': 2, 'diam': 5, 'consetetur': 1, 'labore': 1, 'tempor': 1, 'dolor': 1, 'magna': 2, 'et': 3, 'nonumy': 1, 'ipsum': 1, 'lorem': 2}\n",
        "\n",
        "def MensajeEmergente(Resultado):\n",
        "    if Resultado:\n",
        "       return 'El texto esta aprobado'\n",
        "    else :\n",
        "       return 'el texto esta erroneo'\n",
        "\n",
        "print(\"El resultado es: \")\n",
        "try:\n",
        "    TextoPrueba = analysedText(\"Lorem ipsum dolor! diam amet, consetetur Lorem magna. sed diam nonumy eirmod tempor. diam et labore? et diam magna. et diam amet.\")\n",
        "    print(MensajeEmergente(TextoPrueba.TextoSinPuntos == \"lorem ipsum dolor diam amet consetetur lorem magna sed diam nonumy eirmod tempor diam et labore et diam magna et diam amet\"))\n",
        "except:\n",
        "    print(\"Se detecto un error, revisa el texto \" )\n",
        "print(\"freqAll: \")\n",
        "try:\n",
        "    MapraPalabras = TextoPrueba.ContadordePalabras()\n",
        "    print(MensajeEmergente(MapaPalabras==PalabrasMuestra))\n",
        "except:\n",
        "    print(\"Se detecto un error, revisa el texto\" )\n",
        "print(\"freqOf: \")\n",
        "try:\n",
        "    Resultado = True\n",
        "    for word in PalabrasMuestra:\n",
        "        if TextoPrueba.RecorreLista(word) != PalabrasMuestra[word]:\n",
        "            Resultado = False\n",
        "            break\n",
        "    print(MensajeEmergente(Resultado))\n",
        "    \n",
        "except:\n",
        "    print(\"Se detecto un error, revisa el texto \" )"
      ],
      "metadata": {
        "id": "MaYSfR1UWcT4"
      },
      "execution_count": null,
      "outputs": []
    },
    {
      "cell_type": "code",
      "source": [
        "#Ejercicio del texto analizado\n",
        "class analysedText(object):\n",
        "    \n",
        "    def __init__ (self, text):\n",
        "        # remove punctuation\n",
        "        formattedText = text.replace('.','').replace('!','').replace('?','').replace(',','')\n",
        "        \n",
        "        # make text lowercase\n",
        "        formattedText = formattedText.lower()\n",
        "        \n",
        "        self.fmtText = formattedText\n",
        "        \n",
        "    def freqAll(self):        \n",
        "        # split text into words\n",
        "        wordList = self.fmtText.split(' ')\n",
        "        \n",
        "        # Create dictionary\n",
        "        freqMap = {}\n",
        "        for word in set(wordList): # use set to remove duplicates in list\n",
        "            freqMap[word] = wordList.count(word)\n",
        "        \n",
        "        return freqMap\n",
        "    \n",
        "    def freqOf(self,word):\n",
        "        # get frequency map\n",
        "        freqDict = self.freqAll()\n",
        "        \n",
        "        if word in freqDict:\n",
        "            return freqDict[word]\n",
        "        else:\n",
        "            return 0"
      ],
      "metadata": {
        "id": "Qe7j8h45WfyC"
      },
      "execution_count": null,
      "outputs": []
    },
    {
      "cell_type": "code",
      "source": [
        "#Lo probamos\n",
        "import sys\n",
        "\n",
        "sampleMap = {'eirmod': 1,'sed': 1, 'amet': 2, 'diam': 5, 'consetetur': 1, 'labore': 1, 'tempor': 1, 'dolor': 1, 'magna': 2, 'et': 3, 'nonumy': 1, 'ipsum': 1, 'lorem': 2}\n",
        "\n",
        "def testMsg(passed):\n",
        "    if passed:\n",
        "       return 'Test Passed'\n",
        "    else :\n",
        "       return 'Test Failed'\n",
        "\n",
        "print(\"Constructor: \")\n",
        "try:\n",
        "    samplePassage = analysedText(\"Lorem ipsum dolor! diam amet, consetetur Lorem magna. sed diam nonumy eirmod tempor. diam et labore? et diam magna. et diam amet.\")\n",
        "    print(testMsg(samplePassage.fmtText == \"lorem ipsum dolor diam amet consetetur lorem magna sed diam nonumy eirmod tempor diam et labore et diam magna et diam amet\"))\n",
        "except:\n",
        "    print(\"Error detected. Recheck your function \" )\n",
        "print(\"freqAll: \")\n",
        "try:\n",
        "    wordMap = samplePassage.freqAll()\n",
        "    print(testMsg(wordMap==sampleMap))\n",
        "except:\n",
        "    print(\"Error detected. Recheck your function \" )\n",
        "print(\"freqOf: \")\n",
        "try:\n",
        "    passed = True\n",
        "    for word in sampleMap:\n",
        "        if samplePassage.freqOf(word) != sampleMap[word]:\n",
        "            passed = False\n",
        "            break\n",
        "    print(testMsg(passed))\n",
        "    \n",
        "except:\n",
        "    print(\"Error detected. Recheck your function  \" )"
      ],
      "metadata": {
        "id": "E09MMOgIWjsY"
      },
      "execution_count": null,
      "outputs": []
    },
    {
      "cell_type": "markdown",
      "source": [
        "## Examen"
      ],
      "metadata": {
        "id": "3U2y4Kj4jzyn"
      }
    },
    {
      "cell_type": "markdown",
      "source": [
        "### Ejercicio 1: What is the output of the following lines of code:\n",
        "x=1\n",
        "\n",
        "if(x!=1):\n",
        "\n",
        "print('Hello')\n",
        "\n",
        "else:\n",
        "\n",
        "print('Hi')\n",
        "\n",
        "print('Mike')"
      ],
      "metadata": {
        "id": "TE5MplChj3Zo"
      }
    },
    {
      "cell_type": "code",
      "source": [
        "x=1\n",
        "\n",
        "if(x!=1):\n",
        "\n",
        "  print('Hello')\n",
        "\n",
        "else:\n",
        "\n",
        "  print('Hi')\n",
        "\n",
        "print('Mike')"
      ],
      "metadata": {
        "id": "I0jbNPJcn7ls"
      },
      "execution_count": null,
      "outputs": []
    },
    {
      "cell_type": "markdown",
      "source": [
        "### Ejercicio 2: What is the output of the following few lines of code?\n",
        "\n",
        "A = ['1','2','3']\n",
        "\n",
        "for a in A:\n",
        "\n",
        "print(2*a)"
      ],
      "metadata": {
        "id": "0nrvhUSlnvow"
      }
    },
    {
      "cell_type": "code",
      "source": [
        "A = ['1','2','3']\n",
        "\n",
        "for a in A:\n",
        "\n",
        "  print(2*a)"
      ],
      "metadata": {
        "id": "ZQ77HvlLn0HZ"
      },
      "execution_count": null,
      "outputs": []
    },
    {
      "cell_type": "markdown",
      "source": [
        "### Ejercicio 3: \n",
        "Consider the function Delta, when will the function return a value of 1\n",
        "\n",
        "def Delta(x):\n",
        "\n",
        "if x==0:\n",
        "\n",
        "y=1;\n",
        "\n",
        "else:\n",
        "\n",
        "y=0;\n",
        "\n",
        "return(y)"
      ],
      "metadata": {
        "id": "u-V1hq_IoKYJ"
      }
    },
    {
      "cell_type": "code",
      "source": [
        "def Delta(x):\n",
        "\n",
        "  if x==0:\n",
        "\n",
        "    y=1;\n",
        "\n",
        "  else:\n",
        "\n",
        "    y=0;\n",
        "\n",
        "  return(y)"
      ],
      "metadata": {
        "id": "eehJCFHGoSFg"
      },
      "execution_count": null,
      "outputs": []
    },
    {
      "cell_type": "markdown",
      "source": [
        "When the input is 0."
      ],
      "metadata": {
        "id": "YJuwPFavoiHS"
      }
    },
    {
      "cell_type": "markdown",
      "source": [
        "### Ejercicio 4: What is the correct way to sort the list 'B' using a method? The result should not return a new list, just change the list 'B'.\n",
        "\n",
        "B.sort()"
      ],
      "metadata": {
        "id": "i5u_HMtCpCU9"
      }
    },
    {
      "cell_type": "markdown",
      "source": [
        "### Ejercicio 5: What are the keys of the following dictionary: {'a':1,'b':2}?\n",
        "\n",
        "a,b"
      ],
      "metadata": {
        "id": "3_v59azIpUJp"
      }
    },
    {
      "cell_type": "markdown",
      "source": [
        "# Módulo 4"
      ],
      "metadata": {
        "id": "nYcGxBXlpeAm"
      }
    },
    {
      "cell_type": "markdown",
      "source": [
        "## Los objetivos de este Módulo 3 son:\n",
        "\n",
        "\n",
        "*   Leer archivos con open\n",
        "*   Escribir archivos con open\n",
        "*   Cargar data con Pandas\n",
        "*   Trabajar con y guardar data con Pandas"
      ],
      "metadata": {
        "id": "cgm22NXu7spH"
      }
    },
    {
      "cell_type": "markdown",
      "source": [
        "## Open nos sirve para abrir archivos en Python, podemos usar el método .read para leer el archivo. Para poder usar open ese con el siguiente formato File = open(\"ruta en la que se encunetra el archivo\", \"modo\")\n",
        "\n",
        "Los modos son:\n",
        "\n",
        "*   \"w\" para escribir\n",
        "*   \"r\" para leer\n",
        "*   \"a\" para anexar\n",
        "Métodos:\n",
        "\n",
        "\n",
        "*   .name nombre del archivo como string\n",
        "*   .mode\n",
        "*   .close() cerrar el archivo\n",
        "*   .readlines \n",
        "## Si anexamos al inicio un \"with\" hace que después de ejecutar el archivo lom cierre\n",
        "\n",
        "\n",
        "\n",
        "\n"
      ],
      "metadata": {
        "id": "ZWOTnFQp8e0d"
      }
    },
    {
      "cell_type": "code",
      "source": [
        "## Obtenemos datos de prueba\n",
        "\n",
        "import urllib.request\n",
        "url = 'https://cf-courses-data.s3.us.cloud-object-storage.appdomain.cloud/IBMDeveloperSkillsNetwork-PY0101EN-SkillsNetwork/labs/Module%204/data/example1.txt'\n",
        "filename = 'Example1.txt'\n",
        "urllib.request.urlretrieve(url, filename)\n",
        "\n",
        "## Download Example file\n",
        "!wget -O /resources/data/Example1.txt https://cf-courses-data.s3.us.cloud-object-storage.appdomain.cloud/IBMDeveloperSkillsNetwork-PY0101EN-SkillsNetwork/labs/Module%204/data/example1.tx"
      ],
      "metadata": {
        "id": "xjX9UBlQ5ypt"
      },
      "execution_count": null,
      "outputs": []
    },
    {
      "cell_type": "code",
      "source": [
        "from pyodide.http import pyfetch\n",
        "import pandas as pd\n",
        "\n",
        "filename = \"https://cf-courses-data.s3.us.cloud-object-storage.appdomain.cloud/IBMDeveloperSkillsNetwork-PY0101EN-SkillsNetwork/labs/Module%204/data/example1.txt\"\n",
        "\n",
        "async def download(url, filename):\n",
        "    response = await pyfetch(url)\n",
        "    if response.status == 200:\n",
        "        with open(filename, \"wb\") as f:\n",
        "            f.write(await response.bytes())\n",
        "\n",
        "\n",
        "await download(filename, \"Example1.txt\")"
      ],
      "metadata": {
        "id": "eREUyrku57J4"
      },
      "execution_count": null,
      "outputs": []
    },
    {
      "cell_type": "code",
      "source": [
        "# Read the Example1.txt\n",
        "example1 = \"Example1.txt\"\n",
        "file1 = open(example1, \"r\")"
      ],
      "metadata": {
        "id": "qJTGvUz65-d4"
      },
      "execution_count": null,
      "outputs": []
    },
    {
      "cell_type": "code",
      "source": [
        "# Print the path of file\n",
        "file1.name"
      ],
      "metadata": {
        "id": "jV0g-FNy6WKO"
      },
      "execution_count": null,
      "outputs": []
    },
    {
      "cell_type": "code",
      "source": [
        "# Print the mode of file, either 'r' or 'w'\n",
        "file1.mode"
      ],
      "metadata": {
        "id": "drdj0I1V6Xqq"
      },
      "execution_count": null,
      "outputs": []
    },
    {
      "cell_type": "code",
      "source": [
        "# Read the file\n",
        "FileContent = file1.read()\n",
        "FileContent\n",
        "#/n, quiere decir que ahi hay un salgo de linea o que inicia un nuevo renglon"
      ],
      "metadata": {
        "id": "EYFtcxFC6ZK1"
      },
      "execution_count": null,
      "outputs": []
    },
    {
      "cell_type": "code",
      "source": [
        "# Type of file content\n",
        "type(FileContent)"
      ],
      "metadata": {
        "id": "f_r0n9ti6azY"
      },
      "execution_count": null,
      "outputs": []
    },
    {
      "cell_type": "code",
      "source": [
        "# Close file after finish\n",
        "file1.close()"
      ],
      "metadata": {
        "id": "RVkQuLfv6cqg"
      },
      "execution_count": null,
      "outputs": []
    },
    {
      "cell_type": "code",
      "source": [
        "# Open file using with\n",
        "#Este codigo imprime todo porque funciona como un ciclo, imprme renglon por renglon\n",
        "with open(example1, \"r\") as file1:\n",
        "    FileContent = file1.read()\n",
        "    print(FileContent)"
      ],
      "metadata": {
        "id": "BnlZ3pjw6eQU"
      },
      "execution_count": null,
      "outputs": []
    },
    {
      "cell_type": "code",
      "source": [
        "# Verify if the file is closed\n",
        "file1.closed"
      ],
      "metadata": {
        "id": "3SqhBk5s6gXA"
      },
      "execution_count": null,
      "outputs": []
    },
    {
      "cell_type": "code",
      "source": [
        "# See the content of file\n",
        "#Tambien el comando contento, despliega todo el texto\n",
        "print(FileContent)"
      ],
      "metadata": {
        "id": "ZNAVNNJd6ikb"
      },
      "execution_count": null,
      "outputs": []
    },
    {
      "cell_type": "code",
      "source": [
        "# Read first four characters\n",
        "with open(example1, \"r\") as file1:\n",
        "    print(file1.read(4))"
      ],
      "metadata": {
        "id": "nolXlc2E6jEI"
      },
      "execution_count": null,
      "outputs": []
    },
    {
      "cell_type": "code",
      "source": [
        "# Read certain amount of characters\n",
        "with open(example1, \"r\") as file1:\n",
        "    print(file1.read(4))\n",
        "    print(file1.read(4))\n",
        "    print(file1.read(7))\n",
        "    print(file1.read(15))"
      ],
      "metadata": {
        "id": "RXZoPnti6keo"
      },
      "execution_count": null,
      "outputs": []
    },
    {
      "cell_type": "code",
      "source": [
        "# Read certain amount of characters\n",
        "with open(example1, \"r\") as file1:\n",
        "    print(file1.read(16))\n",
        "    print(file1.read(5))\n",
        "    print(file1.read(9))"
      ],
      "metadata": {
        "id": "o8mD4gw_6l4X"
      },
      "execution_count": null,
      "outputs": []
    },
    {
      "cell_type": "code",
      "source": [
        "# Read one line\n",
        "with open(example1, \"r\") as file1:\n",
        "    print(\"first line: \" + file1.readline())"
      ],
      "metadata": {
        "id": "Kt2iEg_a6nZw"
      },
      "execution_count": null,
      "outputs": []
    },
    {
      "cell_type": "code",
      "source": [
        "with open(example1, \"r\") as file1:\n",
        "    print(file1.readline(20)) # does not read past the end of line\n",
        "    print(file1.read(20)) # Returns the next 20 chars"
      ],
      "metadata": {
        "id": "EWINZZ0h6o3V"
      },
      "execution_count": null,
      "outputs": []
    },
    {
      "cell_type": "code",
      "source": [
        "# Iterate through the lines\n",
        "\n",
        "with open(example1,\"r\") as file1:\n",
        "        i = 0;\n",
        "        for line in file1:\n",
        "            print(\"Iteration\", str(i), \": \", line)\n",
        "            i = i + 1"
      ],
      "metadata": {
        "id": "QNLyN0706qQk"
      },
      "execution_count": null,
      "outputs": []
    },
    {
      "cell_type": "code",
      "source": [
        "# Read all lines and save as a list\n",
        "\n",
        "with open(example1, \"r\") as file1:\n",
        "    FileasList = file1.readlines()"
      ],
      "metadata": {
        "id": "IF9Bp3uk6sUb"
      },
      "execution_count": null,
      "outputs": []
    },
    {
      "cell_type": "code",
      "source": [
        "# Print the first line\n",
        "\n",
        "FileasList[0]\n",
        "# Print the third line\n",
        "\n",
        "FileasList[2]"
      ],
      "metadata": {
        "id": "pjOwH2Ys6uYn"
      },
      "execution_count": null,
      "outputs": []
    },
    {
      "cell_type": "code",
      "source": [
        "#Importo ahora mi texto personal\n",
        "Miruta = \"C:\\\\Users\\\\traba\\\\Downloads\\\\MiTexto1.txt\"\n",
        "Miarchivo=open(Miruta, \"r\")\n",
        "print(Miarchivo.read())"
      ],
      "metadata": {
        "id": "yYQTeIdW6wTo"
      },
      "execution_count": null,
      "outputs": []
    },
    {
      "cell_type": "markdown",
      "source": [
        "### Texto ejemplo 1\n",
        "\n",
        "### Texto ejemplo 2\n",
        "\n",
        "### Texto ejemplo 3\n",
        "\n",
        "### Texto ejemplo 4\n"
      ],
      "metadata": {
        "id": "r8QiA6Zo6x6B"
      }
    },
    {
      "cell_type": "code",
      "source": [
        "#Imprimo el primer renglon\n",
        "with open(Miruta, \"r\") as Miarchivo:\n",
        "    print(Miarchivo.readline())"
      ],
      "metadata": {
        "id": "7stcmb3G62Pg"
      },
      "execution_count": null,
      "outputs": []
    },
    {
      "cell_type": "markdown",
      "source": [
        "### Texto ejemplo 1\n"
      ],
      "metadata": {
        "id": "TRei74Mc65FE"
      }
    },
    {
      "cell_type": "code",
      "source": [
        "#Imprimo las primers 5 letas\n",
        "with open(Miruta, \"r\") as Miarchivo:\n",
        "    print(Miarchivo.readline())"
      ],
      "metadata": {
        "id": "2Z0kCt6s6_l9"
      },
      "execution_count": null,
      "outputs": []
    },
    {
      "cell_type": "markdown",
      "source": [
        "### Texto ejemplo 1\n"
      ],
      "metadata": {
        "id": "HPlHAuNU7CO4"
      }
    },
    {
      "cell_type": "code",
      "source": [
        "#Imprimo el renglon que desee\n",
        "with open(Miruta, \"r\") as Miarchivo:\n",
        "    Renglones=Miarchivo.readlines()\n",
        "    print(Renglones[1])"
      ],
      "metadata": {
        "id": "PRu8jXOp7H8k"
      },
      "execution_count": null,
      "outputs": []
    },
    {
      "cell_type": "markdown",
      "source": [
        "### Texto ejemplo 2\n"
      ],
      "metadata": {
        "id": "8Tycpr9f79Gk"
      }
    },
    {
      "cell_type": "code",
      "source": [
        "#Imprimo las primers 5 letas\n",
        "with open(Miruta, \"r\") as Miarchivo:\n",
        "    print(Miarchivo.read(6))"
      ],
      "metadata": {
        "id": "3WpYPocR8LZH"
      },
      "execution_count": null,
      "outputs": []
    },
    {
      "cell_type": "markdown",
      "source": [
        "### Texto"
      ],
      "metadata": {
        "id": "5wJ3_6AB8kKG"
      }
    },
    {
      "cell_type": "code",
      "source": [
        "#Imprimmos todos los renglones con loop\n",
        "with open(Miruta,\"r\") as Miarchivo:\n",
        "        i = 0;\n",
        "        for linea in Miarchivo:\n",
        "            print(\"Renglon\", str(i), \"dice\", linea)\n",
        "            i = i + 1"
      ],
      "metadata": {
        "id": "3XSyJOtk8ql9"
      },
      "execution_count": null,
      "outputs": []
    },
    {
      "cell_type": "markdown",
      "source": [
        "Renglón 0 dice Texto ejemplo 1\n",
        "\n",
        "Renglón 1 dice Texto ejemplo 2\n",
        "\n",
        "Renglón 2 dice Texto ejemplo 3\n",
        "\n",
        "Renglón 3 dice Texto ejemplo 4\n"
      ],
      "metadata": {
        "id": "FuuoAeg08vcq"
      }
    },
    {
      "cell_type": "markdown",
      "source": [
        "## Método para escribir en un archivo que abrimos con open, se utiliza el método .write y el argumento que metemos es el string que queremos que se anexe al documento y muchas veces lo que ponesmo es un ciclo que escriba los componentes de una lista."
      ],
      "metadata": {
        "id": "RJRPhkG8-O61"
      }
    },
    {
      "cell_type": "code",
      "source": [
        "#Importo ahora mi texto personal\n",
        "Miruta = \"C:\\\\Users\\\\traba\\\\Downloads\\\\MiTexto1.txt\"\n",
        "#añado texto a mi archivo\n",
        "with open(Miruta, \"w\") as Miarchivo:\n",
        "    Miarchivo.write(\"Texto para ejercicio de escribir\")"
      ],
      "metadata": {
        "id": "pIFQAeMm-zCc"
      },
      "execution_count": null,
      "outputs": []
    },
    {
      "cell_type": "code",
      "source": [
        "#Vemos si de verdad se escribio el texto\n",
        "with open(Miruta, \"r\") as Miarchivo:\n",
        "    print(Miarchivo.read())\n",
        "    "
      ],
      "metadata": {
        "id": "52V_DLrp-0ev"
      },
      "execution_count": null,
      "outputs": []
    },
    {
      "cell_type": "markdown",
      "source": [
        "### Texto para ejercicio de escribir"
      ],
      "metadata": {
        "id": "Zf788O9h-2g2"
      }
    },
    {
      "cell_type": "code",
      "source": [
        "#Volvemos a escribir en el archivo pero con loop\n",
        "Minuevotexto=(\"Este es mi nuevo texto renglon1\\n\",\"Este es mi nuevo texto renglon2\\n\",\"Este es mi nuevo texto renglon3\\n\")\n",
        "with open(Miruta, \"w\") as Miarchivo:\n",
        "    for lineas in Minuevotexto:\n",
        "        Miarchivo.write(lineas)"
      ],
      "metadata": {
        "id": "6Jbye2z2-10a"
      },
      "execution_count": null,
      "outputs": []
    },
    {
      "cell_type": "code",
      "source": [
        "#Vemos que haya funcionado el ciclo\n",
        "with open(Miruta, \"r\") as Miarchivo:\n",
        "    print(Miarchivo.read())"
      ],
      "metadata": {
        "id": "OTgZPXls--x8"
      },
      "execution_count": null,
      "outputs": []
    },
    {
      "cell_type": "markdown",
      "source": [
        "Este es mi nuevo texto renglon1\n",
        "\n",
        "Este es mi nuevo texto renglon2\n",
        "\n",
        "Este es mi nuevo texto renglon3\n",
        "\n"
      ],
      "metadata": {
        "id": "bkfuKrYi_EdK"
      }
    },
    {
      "cell_type": "markdown",
      "source": [
        "## Pandas son librerias para el manejo de data, para importarla se usa el comando \"import pandas\" o \"import pandas as pd\" \n",
        "## Para navegar los dataframes podemos utilizar el comando df.ix[0,2]: o  df.ix[0,\"Nombre de la columan\"]:\n",
        "\n",
        "## Unique es un método para encontrar los datos que son únicos+\n",
        "\n",
        "## Para guardar un data frame como CSV usamos \"nombre del dataframe\".to_csv('new_songs.csv')"
      ],
      "metadata": {
        "id": "4U4TZWQu_ypM"
      }
    },
    {
      "cell_type": "code",
      "source": [
        "# Dependency needed to install file \n",
        "\n",
        "# If running the notebook on your machine, else leave it commented\n",
        "# !pip install xlrd\n",
        "\n",
        "import piplite\n",
        "await piplite.install(['xlrd','openpyxl'])"
      ],
      "metadata": {
        "id": "6362QTKQC4Uo"
      },
      "execution_count": null,
      "outputs": []
    },
    {
      "cell_type": "code",
      "source": [
        "# Import required library\n",
        "\n",
        "import pandas as pd"
      ],
      "metadata": {
        "id": "8fhoxWV1C7G5"
      },
      "execution_count": null,
      "outputs": []
    },
    {
      "cell_type": "code",
      "source": [
        "# Read data from CSV file\n",
        "\n",
        "# csv_path = 'https://cf-courses-data.s3.us.cloud-object-storage.appdomain.cloud/IBMDeveloperSkillsNetwork-PY0101EN-SkillsNetwork/labs/Module%204/data/TopSellingAlbums.csv'\n",
        "# df = pd.read_csv(csv_path)\n",
        "\n",
        "from pyodide.http import pyfetch\n",
        "import pandas as pd\n",
        "\n",
        "filename = \"https://cf-courses-data.s3.us.cloud-object-storage.appdomain.cloud/IBMDeveloperSkillsNetwork-PY0101EN-SkillsNetwork/labs/Module%204/data/TopSellingAlbums.csv\"\n",
        "\n",
        "async def download(url, filename):\n",
        "    response = await pyfetch(url)\n",
        "    if response.status == 200:\n",
        "        with open(filename, \"wb\") as f:\n",
        "            f.write(await response.bytes())\n",
        "\n",
        "\n",
        "await download(filename, \"TopSellingAlbums.csv\")\n",
        "df = pd.read_csv(\"TopSellingAlbums.csv\")"
      ],
      "metadata": {
        "id": "TjrmqBnpEVqe"
      },
      "execution_count": null,
      "outputs": []
    },
    {
      "cell_type": "code",
      "source": [
        "# Print first five rows of the dataframe\n",
        "\n",
        "df.head()"
      ],
      "metadata": {
        "id": "awXEpc5cEYff"
      },
      "execution_count": null,
      "outputs": []
    },
    {
      "cell_type": "code",
      "source": [
        "# Read data from Excel File and print the first five rows\n",
        "\n",
        "xlsx_path = 'https://s3-api.us-geo.objectstorage.softlayer.net/cf-courses-data/CognitiveClass/PY0101EN/Chapter%204/Datasets/TopSellingAlbums.xlsx'\n",
        "\n",
        "await download(xlsx_path, \"TopSellingAlbums.xlsx\")\n",
        "df = pd.read_excel(\"TopSellingAlbums.xlsx\")\n",
        "df.head()"
      ],
      "metadata": {
        "id": "gG2OvkmdEZ1y"
      },
      "execution_count": null,
      "outputs": []
    },
    {
      "cell_type": "code",
      "source": [
        "# Access to the column Length\n",
        "\n",
        "x = df[['Length']]\n",
        "x"
      ],
      "metadata": {
        "id": "qgefFgvKEbNd"
      },
      "execution_count": null,
      "outputs": []
    },
    {
      "cell_type": "markdown",
      "source": [
        "## Ver data y acceder a data"
      ],
      "metadata": {
        "id": "KruGOUiGEeDx"
      }
    },
    {
      "cell_type": "code",
      "source": [
        "# Get the column as a series\n",
        "\n",
        "x = df['Length']\n",
        "x"
      ],
      "metadata": {
        "id": "nC_ti3-8Ecpf"
      },
      "execution_count": null,
      "outputs": []
    },
    {
      "cell_type": "code",
      "source": [
        "# Get the column as a dataframe\n",
        "\n",
        "x = df[['Artist']]\n",
        "type(x)"
      ],
      "metadata": {
        "id": "3GzAlJBkE2KB"
      },
      "execution_count": null,
      "outputs": []
    },
    {
      "cell_type": "code",
      "source": [
        "# Access to multiple columns\n",
        "\n",
        "y = df[['Artist','Length','Genre']]\n",
        "y"
      ],
      "metadata": {
        "id": "OjHoEl9rE3i2"
      },
      "execution_count": null,
      "outputs": []
    },
    {
      "cell_type": "code",
      "source": [
        "# Access the value on the first row and the first column\n",
        "\n",
        "df.iloc[0, 0]"
      ],
      "metadata": {
        "id": "o3gdHlrME5OW"
      },
      "execution_count": null,
      "outputs": []
    },
    {
      "cell_type": "code",
      "source": [
        "# Access the value on the second row and the first column\n",
        "\n",
        "df.iloc[1,0]"
      ],
      "metadata": {
        "id": "Gbk04Ur6E5yR"
      },
      "execution_count": null,
      "outputs": []
    },
    {
      "cell_type": "code",
      "source": [
        "# Access the value on the first row and the third column\n",
        "\n",
        "df.iloc[0,2]"
      ],
      "metadata": {
        "id": "2PC9rx9QE7FF"
      },
      "execution_count": null,
      "outputs": []
    },
    {
      "cell_type": "code",
      "source": [
        "# Access the value on the second row and the third column\n",
        "df.iloc[1,2]"
      ],
      "metadata": {
        "id": "4MGHojhWE8KU"
      },
      "execution_count": null,
      "outputs": []
    },
    {
      "cell_type": "code",
      "source": [
        "# Access the column using the name\n",
        "\n",
        "df.loc[1, 'Artist']"
      ],
      "metadata": {
        "id": "FgRXY3uYE--x"
      },
      "execution_count": null,
      "outputs": []
    },
    {
      "cell_type": "code",
      "source": [
        "# Access the column using the name\n",
        "\n",
        "df.loc[1, 'Artist']"
      ],
      "metadata": {
        "id": "v-MO6d_4FBN4"
      },
      "execution_count": null,
      "outputs": []
    },
    {
      "cell_type": "code",
      "source": [
        "# Access the column using the name\n",
        "\n",
        "df.loc[0, 'Released']"
      ],
      "metadata": {
        "id": "AFSzIUMFFChP"
      },
      "execution_count": null,
      "outputs": []
    },
    {
      "cell_type": "code",
      "source": [
        "# Access the column using the name\n",
        "\n",
        "df.loc[1, 'Released']"
      ],
      "metadata": {
        "id": "Aroa26NVFDky"
      },
      "execution_count": null,
      "outputs": []
    },
    {
      "cell_type": "code",
      "source": [
        "# Slicing the dataframe\n",
        "\n",
        "df.iloc[0:2, 0:3]"
      ],
      "metadata": {
        "id": "GJmRNDULFFip"
      },
      "execution_count": null,
      "outputs": []
    },
    {
      "cell_type": "code",
      "source": [
        "# Slicing the dataframe using name\n",
        "\n",
        "df.loc[0:2, 'Artist':'Released']"
      ],
      "metadata": {
        "id": "nwe3p_unFGpt"
      },
      "execution_count": null,
      "outputs": []
    },
    {
      "cell_type": "markdown",
      "source": [
        "## Ejercicios del lab de DataFrame"
      ],
      "metadata": {
        "id": "8DCvyjfZF3jk"
      }
    },
    {
      "cell_type": "markdown",
      "source": [
        "### Use a variable q to store the column Rating as a dataframe"
      ],
      "metadata": {
        "id": "19bKIjkGGMev"
      }
    },
    {
      "cell_type": "code",
      "source": [
        "q = df[['Rating']]\n",
        "q"
      ],
      "metadata": {
        "id": "LKIbMAdDGl0S"
      },
      "execution_count": null,
      "outputs": []
    },
    {
      "cell_type": "markdown",
      "source": [
        "### Assign the variable q to the dataframe that is made up of the column Released and Artist:"
      ],
      "metadata": {
        "id": "GJbnek8BGSEz"
      }
    },
    {
      "cell_type": "code",
      "source": [
        "q = df[['Released', 'Artist']]\n",
        "q"
      ],
      "metadata": {
        "id": "UAGyoClxGoix"
      },
      "execution_count": null,
      "outputs": []
    },
    {
      "cell_type": "markdown",
      "source": [
        "### Access the 2nd row and the 3rd column of df:"
      ],
      "metadata": {
        "id": "8VBKyAU2Gaai"
      }
    },
    {
      "cell_type": "code",
      "source": [
        "df.iloc[1, 2]"
      ],
      "metadata": {
        "id": "ynWa8pAcGqGJ"
      },
      "execution_count": null,
      "outputs": []
    },
    {
      "cell_type": "markdown",
      "source": [
        "### Use the following list to convert the dataframe index df to characters and assign it to df_new; find the element corresponding to the row index a and column 'Artist'. Then select the rows a through d for the column 'Artist'"
      ],
      "metadata": {
        "id": "QC4t2UVqGe6b"
      }
    },
    {
      "cell_type": "markdown",
      "source": [],
      "metadata": {
        "id": "Gyiv_RVLGjTB"
      }
    },
    {
      "cell_type": "code",
      "source": [
        "new_index=['a','b','c','d','e','f','g','h']\n",
        "#Respuesta\n",
        "df_new=df\n",
        "df_new.index=new_index\n",
        "df_new.loc['a', 'Artist']\n",
        "df_new.loc['a':'d', 'Artist']"
      ],
      "metadata": {
        "id": "lCnPguwdF6w6"
      },
      "execution_count": null,
      "outputs": []
    },
    {
      "cell_type": "markdown",
      "source": [
        "## Examen"
      ],
      "metadata": {
        "id": "PbMEzRaVH0p2"
      }
    },
    {
      "cell_type": "markdown",
      "source": [
        "### Ejercicio 1\n",
        "What do the following lines of code do?\n",
        "\n",
        "with open(\"Example1.txt\",\"r\") as file1:\n",
        "\n",
        "    FileContent=file1.readlines()\n",
        "\n",
        "    print(FileContent)\n",
        "\n",
        "Read the file \"Example1.txt\"."
      ],
      "metadata": {
        "id": "0cJABXfaIiRa"
      }
    },
    {
      "cell_type": "markdown",
      "source": [
        "### Ejercicio 2\n",
        "What do the following lines of code do?\n",
        "\n",
        "with open(\"Example2.txt\",\"w\") as writefile:\n",
        "\n",
        "    writefile.write(\"This is line A\\n\")\n",
        "\n",
        "    writefile.write(\"This is line B\\n\")\n",
        "Write to the file \"Example2.txt\".\n"
      ],
      "metadata": {
        "id": "N0gwkRUDIzLD"
      }
    },
    {
      "cell_type": "markdown",
      "source": [
        "### Ejercicio 3\n",
        "What do the following lines of code do?\n",
        "\n",
        "with open(\"Example3.txt\",\"a\") as file1:\n",
        "\n",
        "    file1.write(\"This is line C\\n\")\n",
        "Append the file \"Example3.txt\".*italicized text*\n"
      ],
      "metadata": {
        "id": "UdNvxPH_JkNL"
      }
    },
    {
      "cell_type": "markdown",
      "source": [
        "### Ejercicio 4\n",
        "What is the result of applying the following method df.head() to the dataframe \"df\"?\n",
        "\n",
        "Prints the first 5 rows of the dataframe."
      ],
      "metadata": {
        "id": "m4FSZ-QfJrtL"
      }
    },
    {
      "cell_type": "markdown",
      "source": [
        "# Reforzamiento de aprendizaje Semana 1"
      ],
      "metadata": {
        "id": "zLq2SYGqiyqa"
      }
    },
    {
      "cell_type": "markdown",
      "source": [
        "Cuando utilizamos habilidades, sistemas y tecnologías de procesamiento de datos estamos hablado de ciencia de datos?\n",
        "\n",
        "Falso"
      ],
      "metadata": {
        "id": "Py9u_DhSofgu"
      }
    },
    {
      "cell_type": "markdown",
      "source": [
        "Para cierta operación matemática es necesario obtener el doble de la suma de la variable a más 2, divido entre 3 veces el valor de la variable b.\n",
        "\n",
        "El resultado debe asignarse en la variable c.\n",
        "\n",
        "¿Qué línea de código se aplicaría?"
      ],
      "metadata": {
        "id": "FKPtOaiUi6ay"
      }
    },
    {
      "cell_type": "code",
      "source": [
        "a = 1\n",
        "b = 10\n",
        "c = 2*(a+2)/3*b\n",
        "#d = 2(a + 2)/(3 * b)\n",
        "e = 2*a + 2/3*b\n",
        "f = 2 / 3 * (a + 2)/b\n",
        "print(c)\n",
        "#print(d)\n",
        "print(e)\n",
        "print(f)\n"
      ],
      "metadata": {
        "id": "pr42A5x2i8D6",
        "outputId": "e49c2aa6-f22f-4600-927a-b06468df94b8",
        "colab": {
          "base_uri": "https://localhost:8080/"
        }
      },
      "execution_count": null,
      "outputs": [
        {
          "output_type": "stream",
          "name": "stdout",
          "text": [
            "20.0\n",
            "8.666666666666666\n",
            "0.2\n"
          ]
        }
      ]
    },
    {
      "cell_type": "markdown",
      "source": [
        "Respuesta correcta f "
      ],
      "metadata": {
        "id": "ijKd2iZfn8Ji"
      }
    },
    {
      "cell_type": "markdown",
      "source": [
        "Suponga la siguiente variable\n",
        "\n",
        "a = \"Ejercicio de práctica\"\n",
        "\n",
        "¿Qué instrucción debe utilizarse para imprimir los últimos cinco caracteres?"
      ],
      "metadata": {
        "id": "zWqa1rAwlK4N"
      }
    },
    {
      "cell_type": "code",
      "source": [
        "a = \"Ejercicio de práctica\"\n",
        "\n",
        "\n",
        "print(a[-5:])"
      ],
      "metadata": {
        "id": "CgxAUfG8lOOF",
        "outputId": "6049735f-0792-42f7-92d1-196680abf3f3",
        "colab": {
          "base_uri": "https://localhost:8080/"
        }
      },
      "execution_count": null,
      "outputs": [
        {
          "output_type": "stream",
          "name": "stdout",
          "text": [
            "ctica\n"
          ]
        }
      ]
    },
    {
      "cell_type": "markdown",
      "source": [
        "age  = 18\n",
        "\n",
        "if(age > 19):\n",
        "\n",
        "    print('Yes')\n",
        "\n",
        "    print('No')\n",
        "\n",
        " \n",
        "\n",
        "Cual es el resultado de este codigo?"
      ],
      "metadata": {
        "id": "BHL3KegqlzVe"
      }
    },
    {
      "cell_type": "code",
      "source": [
        "age  = 18\n",
        "if(age > 19):\n",
        "  print(\"Yes\")\n",
        "  print('No')"
      ],
      "metadata": {
        "id": "lsL92hYQl-Ms",
        "outputId": "02492745-aa77-49a1-8329-63465f62701b",
        "colab": {
          "base_uri": "https://localhost:8080/"
        }
      },
      "execution_count": null,
      "outputs": [
        {
          "output_type": "stream",
          "name": "stdout",
          "text": [
            "Yes\n",
            "No\n"
          ]
        }
      ]
    },
    {
      "cell_type": "markdown",
      "source": [
        "class Person:\n",
        "\n",
        "    # a method for printing data members\n",
        "    def show(self):\n",
        "        print('Name:', self.x, 'Address:', self.y)\n",
        "\n",
        "## creating object of the class\n",
        "\n",
        "obj1 = Person()\n",
        "obj1.show()\n",
        "\n",
        " \n",
        "\n",
        "Cual es el resultado de este codigo?"
      ],
      "metadata": {
        "id": "LJqdh0tXmoZM"
      }
    },
    {
      "cell_type": "code",
      "source": [
        "class Person:\n",
        "\n",
        "    # a method for printing data members\n",
        "    def show(self):\n",
        "        print('Name:', self.x, 'Address:', self.y)\n",
        "\n",
        "# creating object of the class\n",
        "\n",
        "obj1 = Person()\n",
        "obj1.show()"
      ],
      "metadata": {
        "id": "65ybKzegmtKb",
        "outputId": "8604f8dd-ecb4-4fcf-cd31-bf914e65986c",
        "colab": {
          "base_uri": "https://localhost:8080/",
          "height": 321
        }
      },
      "execution_count": null,
      "outputs": [
        {
          "output_type": "error",
          "ename": "AttributeError",
          "evalue": "ignored",
          "traceback": [
            "\u001b[0;31m---------------------------------------------------------------------------\u001b[0m",
            "\u001b[0;31mAttributeError\u001b[0m                            Traceback (most recent call last)",
            "\u001b[0;32m<ipython-input-40-19242f2d3cf8>\u001b[0m in \u001b[0;36m<module>\u001b[0;34m\u001b[0m\n\u001b[1;32m      8\u001b[0m \u001b[0;34m\u001b[0m\u001b[0m\n\u001b[1;32m      9\u001b[0m \u001b[0mobj1\u001b[0m \u001b[0;34m=\u001b[0m \u001b[0mPerson\u001b[0m\u001b[0;34m(\u001b[0m\u001b[0;34m)\u001b[0m\u001b[0;34m\u001b[0m\u001b[0;34m\u001b[0m\u001b[0m\n\u001b[0;32m---> 10\u001b[0;31m \u001b[0mobj1\u001b[0m\u001b[0;34m.\u001b[0m\u001b[0mshow\u001b[0m\u001b[0;34m(\u001b[0m\u001b[0;34m)\u001b[0m\u001b[0;34m\u001b[0m\u001b[0;34m\u001b[0m\u001b[0m\n\u001b[0m",
            "\u001b[0;32m<ipython-input-40-19242f2d3cf8>\u001b[0m in \u001b[0;36mshow\u001b[0;34m(self)\u001b[0m\n\u001b[1;32m      3\u001b[0m     \u001b[0;31m# a method for printing data members\u001b[0m\u001b[0;34m\u001b[0m\u001b[0;34m\u001b[0m\u001b[0;34m\u001b[0m\u001b[0m\n\u001b[1;32m      4\u001b[0m     \u001b[0;32mdef\u001b[0m \u001b[0mshow\u001b[0m\u001b[0;34m(\u001b[0m\u001b[0mself\u001b[0m\u001b[0;34m)\u001b[0m\u001b[0;34m:\u001b[0m\u001b[0;34m\u001b[0m\u001b[0;34m\u001b[0m\u001b[0m\n\u001b[0;32m----> 5\u001b[0;31m         \u001b[0mprint\u001b[0m\u001b[0;34m(\u001b[0m\u001b[0;34m'Name:'\u001b[0m\u001b[0;34m,\u001b[0m \u001b[0mself\u001b[0m\u001b[0;34m.\u001b[0m\u001b[0mx\u001b[0m\u001b[0;34m,\u001b[0m \u001b[0;34m'Address:'\u001b[0m\u001b[0;34m,\u001b[0m \u001b[0mself\u001b[0m\u001b[0;34m.\u001b[0m\u001b[0my\u001b[0m\u001b[0;34m)\u001b[0m\u001b[0;34m\u001b[0m\u001b[0;34m\u001b[0m\u001b[0m\n\u001b[0m\u001b[1;32m      6\u001b[0m \u001b[0;34m\u001b[0m\u001b[0m\n\u001b[1;32m      7\u001b[0m \u001b[0;31m# creating object of the class\u001b[0m\u001b[0;34m\u001b[0m\u001b[0;34m\u001b[0m\u001b[0;34m\u001b[0m\u001b[0m\n",
            "\u001b[0;31mAttributeError\u001b[0m: 'Person' object has no attribute 'x'"
          ]
        }
      ]
    },
    {
      "cell_type": "markdown",
      "source": [
        "# Módulo 5\n"
      ],
      "metadata": {
        "id": "mTc2uK3Af_hA"
      }
    },
    {
      "cell_type": "markdown",
      "source": [
        "## Los objetivos de este Módulo 5 son:\n",
        "\n",
        "\n",
        "*   Explicar el uso del protocolo HTTP usando el método de peticiones de librerías (Requests Library method)\n",
        "*   Descirbir cómo funciona el protocolo URL Request Response HTTP\n",
        "*  Aprender a aplicar los open-source APIs\n",
        "*   Hacer webscarping básico usando Python\n",
        "*   Explicar la diferencia entre APIs y REST APIs\n",
        "*   resumir cómo los APIs reciben y mandar información"
      ],
      "metadata": {
        "id": "4L24HsC5IHMn"
      }
    },
    {
      "cell_type": "markdown",
      "source": [
        "## Numpy es la base de pandas\n",
        "Los arrays de numpy son similares a las listas\n",
        "Primero debemos de importar numpy , los arrays contienen el mismo tipo de elementos\n"
      ],
      "metadata": {
        "id": "1bOAkj2oMQXu"
      }
    },
    {
      "cell_type": "markdown",
      "source": [
        "What is the result of the following operation: np.array([1,-1])*np.array([1,1])?"
      ],
      "metadata": {
        "id": "gEgnUtA8QNha"
      }
    },
    {
      "cell_type": "code",
      "source": [
        "import numpy as np"
      ],
      "metadata": {
        "id": "ZHLDUQJWQbbz"
      },
      "execution_count": 3,
      "outputs": []
    },
    {
      "cell_type": "code",
      "source": [
        "np.array([1,-1])*np.array([1,1]"
      ],
      "metadata": {
        "id": "tEJQ_NSpQPZT"
      },
      "execution_count": null,
      "outputs": []
    },
    {
      "cell_type": "markdown",
      "source": [
        "array([ 1, -1])"
      ],
      "metadata": {
        "id": "-7TI3xJMQnRU"
      }
    },
    {
      "cell_type": "markdown",
      "source": [
        "What is the result of the following operation: np.dot(np.array([1,-1]),np.array([1,1]))?"
      ],
      "metadata": {
        "id": "sFzBzFA3QsSZ"
      }
    },
    {
      "cell_type": "code",
      "source": [
        "np.dot(np.array([1,-1]),np.array([1,1]))"
      ],
      "metadata": {
        "id": "Z0Y1MyD2QQSI"
      },
      "execution_count": null,
      "outputs": []
    },
    {
      "cell_type": "markdown",
      "source": [
        "0"
      ],
      "metadata": {
        "id": "UbVoZV3OQwYr"
      }
    }
  ]
}