{
  "nbformat": 4,
  "nbformat_minor": 0,
  "metadata": {
    "colab": {
      "provenance": [],
      "include_colab_link": true
    },
    "kernelspec": {
      "name": "python3",
      "display_name": "Python 3"
    },
    "language_info": {
      "name": "python"
    }
  },
  "cells": [
    {
      "cell_type": "markdown",
      "metadata": {
        "id": "view-in-github",
        "colab_type": "text"
      },
      "source": [
        "<a href=\"https://colab.research.google.com/github/PosgradoMNA/actividades-de-aprendizaje-A01373377/blob/main/Semana_3_Actividad_1.ipynb\" target=\"_parent\"><img src=\"https://colab.research.google.com/assets/colab-badge.svg\" alt=\"Open In Colab\"/></a>"
      ]
    },
    {
      "cell_type": "markdown",
      "source": [
        "# Datos generales del alumnos\n",
        "## Fernando Ivan Ramos Esparza\n",
        "## A01373377\n",
        "## Jobish Vallikavungal Devassia\n",
        "## Fecha de entrega 04/10/2022\n",
        "## TC4029.10\n"
      ],
      "metadata": {
        "id": "cJbVFP2Nh9mD"
      }
    },
    {
      "cell_type": "markdown",
      "source": [
        "\n",
        "# Parte 1: Fundamentos de bases de datos"
      ],
      "metadata": {
        "id": "s0LyfKjvAFnI"
      }
    },
    {
      "cell_type": "markdown",
      "source": [
        "## Fundamentos de bases de datos y para ciencia de datos.  "
      ],
      "metadata": {
        "id": "jr7pZS4G_3jo"
      }
    },
    {
      "cell_type": "markdown",
      "source": [
        "## Fundamentos de almacenes de datos (Data Warehouse) para ciencia de datos."
      ],
      "metadata": {
        "id": "bOJ8Hzb5_8wY"
      }
    },
    {
      "cell_type": "markdown",
      "source": [
        "# Parte 2: Selección y limpieza de los Datos en Python"
      ],
      "metadata": {
        "id": "cLPCkMfMAKBP"
      }
    }
  ]
}